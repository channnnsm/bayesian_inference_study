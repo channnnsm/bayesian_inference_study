{
  "cells": [
    {
      "cell_type": "markdown",
      "source": [
        "``plot_trace``関数でワーニングを出さないため次のコマンド実行が必要です。"
      ],
      "metadata": {
        "id": "u1Dxl3l7GFiO"
      }
    },
    {
      "cell_type": "code",
      "source": [
        "!pip install --upgrade numba | tail -n 1"
      ],
      "metadata": {
        "id": "R2CT9qNvGAMl"
      },
      "execution_count": null,
      "outputs": []
    },
    {
      "cell_type": "markdown",
      "metadata": {
        "id": "uIoj_UW_qasp"
      },
      "source": [
        "##  5.3 階層ベイズモデル"
      ]
    },
    {
      "cell_type": "markdown",
      "metadata": {
        "id": "rZsf6jGB5Lwg"
      },
      "source": [
        "<a href=\"https://colab.research.google.com/github/makaishi2/python_bayes_intro/blob/main/notebooks/5_3_%E9%9A%8E%E5%B1%A4%E3%83%99%E3%82%A4%E3%82%BA%E3%83%A2%E3%83%87%E3%83%AB.ipynb\" target=\"_parent\"><img src=\"https://colab.research.google.com/assets/colab-badge.svg\" alt=\"Open In Colab\"/></a>"
      ]
    },
    {
      "cell_type": "markdown",
      "metadata": {
        "id": "vdi2sqRyqr4p"
      },
      "source": [
        "### 共通処理"
      ]
    },
    {
      "cell_type": "code",
      "execution_count": null,
      "metadata": {
        "id": "0dTjJOmIqmiS"
      },
      "outputs": [],
      "source": [
        "%matplotlib inline\n",
        "# 日本語化ライブラリ導入\n",
        "!pip install japanize-matplotlib | tail -n 1"
      ]
    },
    {
      "cell_type": "code",
      "execution_count": null,
      "metadata": {
        "id": "M46-MnBXq5-Z"
      },
      "outputs": [],
      "source": [
        "# ライブラリのimport\n",
        "\n",
        "# NumPy用ライブラリ\n",
        "import numpy as np\n",
        "# Matplotlib中のpyplotライブラリのインポート\n",
        "import matplotlib.pyplot as plt\n",
        "# matplotlib日本語化対応ライブラリのインポート\n",
        "import japanize_matplotlib\n",
        "# pandas用ライブラリ\n",
        "import pandas as pd\n",
        "# データフレーム表示用関数\n",
        "from IPython.display import display\n",
        "# seaborn\n",
        "import seaborn as sns\n",
        "# 表示オプション調整\n",
        "# NumPy表示形式の設定\n",
        "np.set_printoptions(precision=3, floatmode='fixed')\n",
        "# グラフのデフォルトフォント指定\n",
        "plt.rcParams[\"font.size\"] = 14\n",
        "# サイズ設定\n",
        "plt.rcParams['figure.figsize'] = (6, 6)\n",
        "# 方眼表示ON\n",
        "plt.rcParams['axes.grid'] = True\n",
        "# データフレームでの表示精度\n",
        "pd.options.display.float_format = '{:.3f}'.format\n",
        "# データフレームですべての項目を表示\n",
        "pd.set_option(\"display.max_columns\",None)"
      ]
    },
    {
      "cell_type": "code",
      "execution_count": null,
      "metadata": {
        "id": "my5YU9YCq-ou"
      },
      "outputs": [],
      "source": [
        "import pymc as pm\n",
        "import arviz as az\n",
        "\n",
        "print(f\"Running on PyMC v{pm.__version__}\")\n",
        "print(f\"Running on ArViz v{az.__version__}\")"
      ]
    },
    {
      "cell_type": "markdown",
      "metadata": {
        "id": "rBIfYJ_BrGUD"
      },
      "source": [
        "### 5.3.1 問題設定\n",
        "アイリスデータセットで３種類の花の回帰直線を同時に求める。  \n",
        "データ数が少ないという条件の下で、３つの回帰直線は共通の傾向がある前提とする。  \n",
        "この場合、階層ベイズモデルの問題に帰着する。\n"
      ]
    },
    {
      "cell_type": "markdown",
      "metadata": {
        "id": "lnTxrJeXtJlG"
      },
      "source": [
        "### 5.3.2 データ準備"
      ]
    },
    {
      "cell_type": "markdown",
      "metadata": {
        "id": "lqlJlSuGfR-A"
      },
      "source": [
        "####  アイリス・データセットの読み込みと内容の確認"
      ]
    },
    {
      "cell_type": "code",
      "execution_count": null,
      "metadata": {
        "id": "4DkJdzLIrCFM"
      },
      "outputs": [],
      "source": [
        "# アイリスデータセットの読み込み\n",
        "df = sns.load_dataset('iris')\n",
        "\n",
        "# 先頭5行の確認\n",
        "display(df.head())\n",
        "\n",
        "#  speciesの分布確認\n",
        "df['species'].value_counts()"
      ]
    },
    {
      "cell_type": "code",
      "execution_count": null,
      "metadata": {
        "id": "WNzQpPLHqP6x"
      },
      "outputs": [],
      "source": [
        "df.head().to_excel('df.xlsx')"
      ]
    },
    {
      "cell_type": "markdown",
      "metadata": {
        "id": "wTLIiuipfX-W"
      },
      "source": [
        "#### 目標とするデータの抽出"
      ]
    },
    {
      "cell_type": "code",
      "execution_count": null,
      "metadata": {
        "id": "qu0fKUVOpBct"
      },
      "outputs": [],
      "source": [
        "# setosaの行のみ抽出\n",
        "df0 = df.query('species == \"setosa\"')\n",
        "\n",
        "# versicolorの行のみ抽出\n",
        "df1 = df.query('species == \"versicolor\"')\n",
        "\n",
        "# virginicaの行のみ抽出\n",
        "df2 = df.query('species == \"virginica\"')\n",
        "\n",
        "# 乱数により3個のインデックスを生成\n",
        "import random\n",
        "random.seed(42)\n",
        "indexes =range(len(df0))\n",
        "sample_indexes=random.sample(indexes, 3)\n",
        "\n",
        "# df0, df1, df2のデータ数をそれぞれ3行にする\n",
        "df0_sel = df0.iloc[sample_indexes]\n",
        "df1_sel = df1.iloc[sample_indexes]\n",
        "df2_sel = df2.iloc[sample_indexes]\n",
        "\n",
        "#　全部連結して一つにする\n",
        "df_sel = pd.concat([df0_sel, df1_sel, df2_sel]).reset_index(drop=True)"
      ]
    },
    {
      "cell_type": "markdown",
      "metadata": {
        "id": "xr2VZ6wtgB9T"
      },
      "source": [
        "#### 加工結果の確認"
      ]
    },
    {
      "cell_type": "code",
      "execution_count": null,
      "metadata": {
        "id": "FBLpngQSqWLI"
      },
      "outputs": [],
      "source": [
        "display(df_sel)"
      ]
    },
    {
      "cell_type": "markdown",
      "metadata": {
        "id": "Of0MuJdwgJYU"
      },
      "source": [
        "#### 散布図による抽出結果表示"
      ]
    },
    {
      "cell_type": "code",
      "execution_count": null,
      "metadata": {
        "id": "1CPM_dirr_v-"
      },
      "outputs": [],
      "source": [
        "sns.scatterplot(\n",
        "    x='sepal_length', y='sepal_width', hue='species', style='species',\n",
        "    data=df_sel, s=100)\n",
        "plt.title('抽出した計9個の観測値の散布図');"
      ]
    },
    {
      "cell_type": "markdown",
      "metadata": {
        "id": "LJtp411JgVLz"
      },
      "source": [
        "#### ベイス推論用変数の抽出"
      ]
    },
    {
      "cell_type": "code",
      "execution_count": null,
      "metadata": {
        "id": "Rhjla-2GsHFz"
      },
      "outputs": [],
      "source": [
        "X = df_sel['sepal_length'].values\n",
        "Y = df_sel['sepal_width'].values\n",
        "species = df_sel['species']\n",
        "cl = pd.Categorical(species).codes\n",
        "\n",
        "# 結果確認\n",
        "print(X)\n",
        "print(Y)\n",
        "print(species.values)\n",
        "print(cl)"
      ]
    },
    {
      "cell_type": "markdown",
      "metadata": {
        "id": "PgH4jGWpvoW9"
      },
      "source": [
        "### 5.3.3 確率モデル定義"
      ]
    },
    {
      "cell_type": "markdown",
      "metadata": {
        "id": "q2wEx9Eui877"
      },
      "source": [
        "#### 階層ベイズモデルの確率モデル定義"
      ]
    },
    {
      "cell_type": "code",
      "execution_count": null,
      "metadata": {
        "id": "Bdk8zw3fuphC"
      },
      "outputs": [],
      "source": [
        "model1 = pm.Model()\n",
        "\n",
        "with model1:\n",
        "    # X, Yの観測値をConstantDataとして定義(通常ベイズと共通)\n",
        "    X_data = pm.ConstantData('X_data', X)\n",
        "    Y_data = pm.ConstantData('Y_data', Y)\n",
        "\n",
        "    # クラス変数定義(階層ベイズ固有)\n",
        "    cl_data = pm.ConstantData('cl_data', cl)\n",
        "\n",
        "    # 確率変数alphaの定義(階層ベイズ固有)\n",
        "    a_mu = pm.Normal('a_mu', mu=0.0, sigma=10.0)\n",
        "    a_sigma = pm.HalfNormal('a_sigma',sigma=10.0)\n",
        "    alpha = pm.Normal('alpha', mu=a_mu, sigma=a_sigma, shape=(3,))\n",
        "\n",
        "    # 確率変数betaの定義(階層ベイズ固有)\n",
        "    b_mu = pm.Normal('b_mu', mu=0.0, sigma=10.0)\n",
        "    b_sigma = pm.HalfNormal('b_sigma', sigma=10.0)\n",
        "    beta = pm.Normal('beta', mu=b_mu, sigma=b_sigma, shape=(3,))\n",
        "\n",
        "    #　誤差epsilon(通常ベイスと共通)\n",
        "    epsilon = pm.HalfNormal('epsilon', sigma=1.0)\n",
        "\n",
        "    # muの値は、cl_dataによりindexを切り替えて計算(階層ベイズ固有)\n",
        "    mu = pm.Deterministic('mu', X_data * alpha[cl_data] + beta[cl_data])\n",
        "\n",
        "    # mu, epsilonを使って観測値用の確率モデルを定義(通常ベイスと共通)\n",
        "    obs = pm.Normal('obs', mu=mu, sigma=epsilon, observed=Y_data)"
      ]
    },
    {
      "cell_type": "markdown",
      "metadata": {
        "id": "UJq-5kQ1yeqf"
      },
      "source": [
        "#### PyMC変数をNumPy変数に置き換えた場合のmuの計算の仕組み"
      ]
    },
    {
      "cell_type": "code",
      "execution_count": null,
      "metadata": {
        "id": "rh6TJNT0w3Ub"
      },
      "outputs": [],
      "source": [
        "# ALPHAは要素数３の配列\n",
        "ALPHA = np.array([0.1, 0.2, 0.3])\n",
        "print(ALPHA)\n",
        "\n",
        "# CLは要素数9の配列\n",
        "CL = np.array([0, 0, 0, 1, 1, 1, 2, 2, 2])\n",
        "print(CL)\n",
        "\n",
        "# MUも要素数9の配列になる\n",
        "MU = ALPHA[CL]\n",
        "print(MU)"
      ]
    },
    {
      "cell_type": "markdown",
      "metadata": {
        "id": "mUwpWWu6hIXj"
      },
      "source": [
        "#### 確率モデル構造可視化"
      ]
    },
    {
      "cell_type": "code",
      "execution_count": null,
      "metadata": {
        "id": "WoopmWwGvvWe"
      },
      "outputs": [],
      "source": [
        "g = pm.model_to_graphviz(model1)\n",
        "display(g)"
      ]
    },
    {
      "cell_type": "markdown",
      "metadata": {
        "id": "_mP-yzOLv_9n"
      },
      "source": [
        "### 5.3.4 サンプリングと結果分析"
      ]
    },
    {
      "cell_type": "markdown",
      "metadata": {
        "id": "fFuw4MLrhQVb"
      },
      "source": [
        "#### サンプリング"
      ]
    },
    {
      "cell_type": "code",
      "execution_count": null,
      "metadata": {
        "id": "zQSSO-S9v4Qr"
      },
      "outputs": [],
      "source": [
        "with model1:\n",
        "    idata1 = pm.sample(random_seed=42, target_accept=0.998)"
      ]
    },
    {
      "cell_type": "markdown",
      "metadata": {
        "id": "YBM38RmvhYg5"
      },
      "source": [
        "#### plot_trace関数で推論結果の確認"
      ]
    },
    {
      "cell_type": "code",
      "execution_count": null,
      "metadata": {
        "id": "dHkdwKit1A3W"
      },
      "outputs": [],
      "source": [
        "az.plot_trace(idata1, compact=False, var_names=['alpha', 'beta'])\n",
        "plt.tight_layout();"
      ]
    },
    {
      "cell_type": "markdown",
      "metadata": {
        "id": "EnKKNK2ihgt5"
      },
      "source": [
        "#### summary関数で推論結果の確認"
      ]
    },
    {
      "cell_type": "code",
      "execution_count": null,
      "metadata": {
        "id": "gGp8Zzmumfjt"
      },
      "outputs": [],
      "source": [
        "summary1 = az.summary(idata1, var_names=['alpha', 'beta'])\n",
        "display(summary1)"
      ]
    },
    {
      "cell_type": "markdown",
      "metadata": {
        "id": "PTcyd5k32g6G"
      },
      "source": [
        "### 5.3.5 散布図と回帰直線の重ね描き"
      ]
    },
    {
      "cell_type": "markdown",
      "metadata": {
        "id": "P_OzcUr0h5cs"
      },
      "source": [
        "#### 散布図と回帰直線の重ね描き"
      ]
    },
    {
      "cell_type": "code",
      "execution_count": null,
      "metadata": {
        "id": "7abMvBMkVx30"
      },
      "outputs": [],
      "source": [
        "# alphaとbetaの平均値の導出\n",
        "means = summary1['mean']\n",
        "alpha0 = means['alpha[0]']\n",
        "alpha1 = means['alpha[1]']\n",
        "alpha2 = means['alpha[2]']\n",
        "beta0 = means['beta[0]']\n",
        "beta1 = means['beta[1]']\n",
        "beta2 = means['beta[2]']\n",
        "\n",
        "# 回帰直線用座標値の計算\n",
        "x_range = np.array([X.min()-0.1,X.max()+0.1])\n",
        "y0_range = alpha0 * x_range + beta0\n",
        "y1_range = alpha1 * x_range + beta1\n",
        "y2_range = alpha2 * x_range + beta2\n",
        "\n",
        "# 散布図表示\n",
        "sns.scatterplot(\n",
        "    x='sepal_length', y='sepal_width', hue='species', style='species',\n",
        "    data=df_sel, s=100)\n",
        "plt.plot(x_range, y0_range, label='setosa')\n",
        "plt.plot(x_range, y1_range, label='versicolor')\n",
        "plt.plot(x_range, y2_range, label='virginica')\n",
        "plt.legend();"
      ]
    },
    {
      "cell_type": "markdown",
      "metadata": {
        "id": "b0Q5cPTaiALL"
      },
      "source": [
        "#### オリジナルの散布図と回帰直線の重ね描き"
      ]
    },
    {
      "cell_type": "code",
      "execution_count": null,
      "metadata": {
        "id": "AY3snblC-Ge6"
      },
      "outputs": [],
      "source": [
        "# 回帰直線の座標値計算\n",
        "x_range = np.array([\n",
        "    df['sepal_length'].min()-0.1,\n",
        "    df['sepal_length'].max()+0.1])\n",
        "y0_range = alpha0 * x_range + beta0\n",
        "y1_range = alpha1 * x_range + beta1\n",
        "y2_range = alpha2 * x_range + beta2\n",
        "\n",
        "# 散布図表示\n",
        "sns.scatterplot(\n",
        "    x='sepal_length', y='sepal_width', hue='species', style='species',\n",
        "    s=50, data=df)\n",
        "plt.plot(x_range, y0_range, label='setosa')\n",
        "plt.plot(x_range, y1_range, label='versicolor')\n",
        "plt.plot(x_range, y2_range, label='virginica')\n",
        "plt.legend();"
      ]
    },
    {
      "cell_type": "markdown",
      "metadata": {
        "id": "uLxgWJrRB1xB"
      },
      "source": [
        "### コラム　PyMCの構成要素はどこまで細かく定義すべきか"
      ]
    },
    {
      "cell_type": "markdown",
      "metadata": {
        "id": "EZg_xHzbS3vT"
      },
      "source": [
        "#### 確率変数の関係のみに着目した簡易的な方法"
      ]
    },
    {
      "cell_type": "code",
      "execution_count": null,
      "metadata": {
        "id": "drOFaYy3KJ2U"
      },
      "outputs": [],
      "source": [
        "model2 = pm.Model()\n",
        "\n",
        "with model2:\n",
        "    # 確率変数alphaの定義(階層ベイズ固有)\n",
        "    a_mu = pm.Normal('a_mu', mu=0.0, sigma=10.0)\n",
        "    a_sigma = pm.HalfNormal('a_sigma',sigma=10.0)\n",
        "    alpha = pm.Normal('alpha', mu=a_mu, sigma=a_sigma, shape=(3,))\n",
        "\n",
        "    # 確率変数betaの定義(階層ベイズ固有)\n",
        "    b_mu = pm.Normal('b_mu', mu=0.0, sigma=10.0)\n",
        "    b_sigma = pm.HalfNormal('b_sigma', sigma=10.0)\n",
        "    beta = pm.Normal('beta', mu=b_mu, sigma=b_sigma, shape=(3,))\n",
        "\n",
        "    #　誤差epsilon(通常ベイスと共通)\n",
        "    epsilon = pm.HalfNormal('epsilon', sigma=1.0)\n",
        "\n",
        "    # muの値は、clによりindexを切り替えて計算(階層ベイズ固有)\n",
        "    mu = X * alpha[cl] + beta[cl]\n",
        "\n",
        "    # mu, epsilonを使って観測値用の確率モデルを定義(通常ベイスと共通)\n",
        "    Y_obs = pm.Normal('Y_obs', mu=mu, sigma=epsilon, observed=Y)\n",
        "\n",
        "g = pm.model_to_graphviz(model2)\n",
        "display(g)"
      ]
    },
    {
      "cell_type": "markdown",
      "metadata": {
        "id": "0uRqtLwkTB03"
      },
      "source": [
        "#### 観測値や途中経過を含めたすべての計算過程を表現"
      ]
    },
    {
      "cell_type": "code",
      "execution_count": null,
      "metadata": {
        "id": "F-LqzuFftSHq"
      },
      "outputs": [],
      "source": [
        "model3 = pm.Model()\n",
        "\n",
        "with model3:\n",
        "    # X, Yの観測値をConstantDataとして定義(通常ベイズと共通)\n",
        "    X_data = pm.ConstantData('X_data', X)\n",
        "    Y_data = pm.ConstantData('Y_data', Y)\n",
        "\n",
        "    # クラス変数定義(階層ベイズ固有)\n",
        "    cl_data = pm.ConstantData('cl_data', cl)\n",
        "\n",
        "    # 確率変数alphaの定義(階層ベイズ固有)\n",
        "    a_mu = pm.Normal('a_mu', mu=0.0, sigma=10.0)\n",
        "    a_sigma = pm.HalfNormal('a_sigma',sigma=10.0)\n",
        "    alpha = pm.Normal('alpha', mu=a_mu, sigma=a_sigma, shape=(3,))\n",
        "\n",
        "    # 確率変数betaの定義(階層ベイズ固有)\n",
        "    b_mu = pm.Normal('b_mu', mu=0.0, sigma=10.0)\n",
        "    b_sigma = pm.HalfNormal('b_sigma', sigma=10.0)\n",
        "    beta = pm.Normal('beta', mu=b_mu, sigma=b_sigma, shape=(3,))\n",
        "\n",
        "    #　誤差epsilon(通常ベイスと共通)\n",
        "    epsilon = pm.HalfNormal('epsilon', sigma=1.0)\n",
        "\n",
        "    # muの値は、cl_dataによりindexを切り替えて計算(階層ベイズ固有)\n",
        "    mu = pm.Deterministic('mu', X_data * alpha[cl_data] + beta[cl_data])\n",
        "\n",
        "    # mu, epsilonを使って観測値用の確率モデルを定義(通常ベイスと共通)\n",
        "    obs = pm.Normal('obs', mu=mu, sigma=epsilon, observed=Y_data)\n",
        "\n",
        "g = pm.model_to_graphviz(model3)\n",
        "display(g)"
      ]
    },
    {
      "cell_type": "markdown",
      "metadata": {
        "id": "W2DN4aGCVLBL"
      },
      "source": [
        "#### バージョンの確認"
      ]
    },
    {
      "cell_type": "code",
      "execution_count": null,
      "metadata": {
        "id": "jdB0-PL_Cn10"
      },
      "outputs": [],
      "source": [
        "!pip install watermark | tail -n 1\n",
        "%load_ext watermark\n",
        "%watermark --iversions"
      ]
    },
    {
      "cell_type": "code",
      "execution_count": null,
      "metadata": {
        "id": "Nl1O5pvJpt56"
      },
      "outputs": [],
      "source": []
    }
  ],
  "metadata": {
    "colab": {
      "provenance": [],
      "toc_visible": true
    },
    "kernelspec": {
      "display_name": "Python 3",
      "name": "python3"
    },
    "language_info": {
      "name": "python"
    }
  },
  "nbformat": 4,
  "nbformat_minor": 0
}