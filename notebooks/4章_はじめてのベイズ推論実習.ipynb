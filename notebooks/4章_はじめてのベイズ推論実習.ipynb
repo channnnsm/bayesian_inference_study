{
  "cells": [
    {
      "cell_type": "markdown",
      "source": [
        "``plot_trace``関数でワーニングを出さないため次のコマンド実行が必要です。"
      ],
      "metadata": {
        "id": "yYHN_GYMfaBA"
      }
    },
    {
      "cell_type": "code",
      "source": [
        "!pip install --upgrade numba | tail -n 1"
      ],
      "metadata": {
        "id": "vAm7pfE6fa-Y"
      },
      "execution_count": null,
      "outputs": []
    },
    {
      "cell_type": "markdown",
      "metadata": {
        "id": "nU4c1bIkBgOe"
      },
      "source": [
        "## 4章　はじめてのベイズ推論実習"
      ]
    },
    {
      "cell_type": "markdown",
      "metadata": {
        "id": "xk73aEA_1OU3"
      },
      "source": [
        "<a href=\"https://colab.research.google.com/github/makaishi2/python_bayes_intro/blob/main/notebooks/4%E7%AB%A0_%E3%81%AF%E3%81%98%E3%82%81%E3%81%A6%E3%81%AE%E3%83%99%E3%82%A4%E3%82%BA%E6%8E%A8%E8%AB%96%E5%AE%9F%E7%BF%92.ipynb\" target=\"_parent\"><img src=\"https://colab.research.google.com/assets/colab-badge.svg\" alt=\"Open In Colab\"/></a>"
      ]
    },
    {
      "cell_type": "markdown",
      "metadata": {
        "id": "PqwDnWT-BR0q"
      },
      "source": [
        "### 共通処理"
      ]
    },
    {
      "cell_type": "code",
      "execution_count": null,
      "metadata": {
        "id": "GuyTLGJkBO7o"
      },
      "outputs": [],
      "source": [
        "%matplotlib inline\n",
        "# 日本語化ライブラリ導入\n",
        "!pip install japanize-matplotlib | tail -n 1"
      ]
    },
    {
      "cell_type": "code",
      "execution_count": null,
      "metadata": {
        "id": "GUpYvKuKBolx"
      },
      "outputs": [],
      "source": [
        "# ライブラリのimport\n",
        "\n",
        "# NumPy用ライブラリ\n",
        "import numpy as np\n",
        "# Matplotlib中のpyplotライブラリのインポート\n",
        "import matplotlib.pyplot as plt\n",
        "# matplotlib日本語化対応ライブラリのインポート\n",
        "import japanize_matplotlib\n",
        "# pandas用ライブラリ\n",
        "import pandas as pd\n",
        "# データフレーム表示用関数\n",
        "from IPython.display import display\n",
        "# seaborn\n",
        "import seaborn as sns\n",
        "# 表示オプション調整\n",
        "# NumPy表示形式の設定\n",
        "np.set_printoptions(precision=3, floatmode='fixed')\n",
        "# グラフのデフォルトフォント指定\n",
        "plt.rcParams[\"font.size\"] = 14\n",
        "# サイズ設定\n",
        "plt.rcParams['figure.figsize'] = (6, 6)\n",
        "# 方眼表示ON\n",
        "plt.rcParams['axes.grid'] = True\n",
        "# データフレームでの表示精度\n",
        "pd.options.display.float_format = '{:.3f}'.format\n",
        "# データフレームですべての項目を表示\n",
        "pd.set_option(\"display.max_columns\",None)"
      ]
    },
    {
      "cell_type": "code",
      "execution_count": null,
      "metadata": {
        "id": "YoSNt5Z_qFIF"
      },
      "outputs": [],
      "source": [
        "import pymc as pm\n",
        "import arviz as az\n",
        "\n",
        "print(f\"Running on PyMC v{pm.__version__}\")\n",
        "print(f\"Running on ArViz v{az.__version__}\")"
      ]
    },
    {
      "cell_type": "markdown",
      "metadata": {
        "id": "36QxNPyYB0AW"
      },
      "source": [
        "### 問題定義\n",
        "常に確率が一定で、前回の結果が次回に一切影響しない(数学的には「独立な事象」という)くじ引きがあります。  \n",
        "ある人がこのくじ引きを5回引いたところ、結果は「当たり、はずれ、はずれ、当たり、はずれ」でした。  \n",
        "一回のくじ引きにあたる確率を $p$ とするとき、この $p$ の値を求めなさい。"
      ]
    },
    {
      "cell_type": "markdown",
      "metadata": {
        "id": "SWSYXTrlCKHM"
      },
      "source": [
        "### 4.2 最尤推定"
      ]
    },
    {
      "cell_type": "markdown",
      "metadata": {
        "id": "pDKCb_6YL5UU"
      },
      "source": [
        "####  尤度関数のグラフ"
      ]
    },
    {
      "cell_type": "code",
      "execution_count": null,
      "metadata": {
        "id": "n3gFFtsE1qoJ"
      },
      "outputs": [],
      "source": [
        "def lh(p):\n",
        "    return p ** 2 * (1-p) ** 3\n",
        "\n",
        "# グラフ描画用x座標の定義\n",
        "# 0.0 < x < 1.0\n",
        "p = np.arange(0.0, 1.0, 0.01)\n",
        "\n",
        "# グラフ描画\n",
        "plt.rcParams['figure.figsize'] = (6, 4)\n",
        "plt.plot(p, lh(p))\n",
        "plt.xlabel('p(確率値)')\n",
        "plt.ylabel('尤度')\n",
        "plt.title(f'尤度関数');"
      ]
    },
    {
      "cell_type": "markdown",
      "metadata": {
        "id": "bUWTucW_L_q0"
      },
      "source": [
        "#### PyTorchで解く"
      ]
    },
    {
      "cell_type": "code",
      "execution_count": null,
      "metadata": {
        "id": "7SUwHW7rBuVn"
      },
      "outputs": [],
      "source": [
        "import torch # ライブラリインポート\n",
        "\n",
        "def log_lh(p): # 対数尤度関数\n",
        "    return (2 * torch.log(p) + 3 * torch.log(1-p))\n",
        "\n",
        "num_epochs = 40 # 繰り返し回数\n",
        "lr = 0.01           # 学習率\n",
        "\n",
        "# パラメータ初期値 (p=0.1)\n",
        "p = torch.tensor(0.1, dtype=torch.float32, requires_grad=True)\n",
        "\n",
        "logs = np.zeros((0,3))\n",
        "for epoch in range(num_epochs):\n",
        "    loss = -log_lh(p)       # 損失計算\n",
        "    loss.backward()         # 勾配計算\n",
        "    with torch.no_grad():\n",
        "        p -= lr * p.grad    # パラメータ修正\n",
        "        p.grad.zero_()      # 勾配値の初期化\n",
        "    log = np.array([epoch, p.item(), loss.item()]).reshape(1,-1)\n",
        "    logs = np.vstack([logs, log])"
      ]
    },
    {
      "cell_type": "code",
      "execution_count": null,
      "metadata": {
        "id": "eFIxQYmhLuIw"
      },
      "outputs": [],
      "source": [
        "plt.rcParams['figure.figsize'] = (8, 4)\n",
        "fig, axes = plt.subplots(1, 2)\n",
        "axes[0].plot(logs[:,0], logs[:,1])\n",
        "axes[0].set_title('p(確率値)')\n",
        "axes[1].plot(logs[:,0], logs[:,2])\n",
        "axes[1].set_title('loss(損失)')\n",
        "plt.tight_layout();"
      ]
    },
    {
      "cell_type": "markdown",
      "metadata": {
        "id": "8gX0x79yp08G"
      },
      "source": [
        "### 4.3 ベイズ推論(確率モデル定義)"
      ]
    },
    {
      "cell_type": "markdown",
      "metadata": {
        "id": "JWd5GvBy7lQJ"
      },
      "source": [
        "#### データ(観測値)準備"
      ]
    },
    {
      "cell_type": "code",
      "execution_count": null,
      "metadata": {
        "id": "TxqXnyE_DPI7"
      },
      "outputs": [],
      "source": [
        "X = np.array([1, 0, 0, 1, 0])\n",
        "print(X)"
      ]
    },
    {
      "cell_type": "markdown",
      "metadata": {
        "id": "6wEg7dkc7t3c"
      },
      "source": [
        "#### 確率モデル定義"
      ]
    },
    {
      "cell_type": "code",
      "execution_count": null,
      "metadata": {
        "id": "F5ThhRYXFwQH"
      },
      "outputs": [],
      "source": [
        "# コンテキスト定義\n",
        "model1 = pm.Model()\n",
        "\n",
        "with model1:\n",
        "    # pm.Uniform: 一様分布\n",
        "    p = pm.Uniform('p', lower=0.0, upper=1.0)\n",
        "\n",
        "    # pm.Bernoulli: ベルヌーイ分布\n",
        "    X_obs = pm.Bernoulli('X_obs', p=p, observed=X)"
      ]
    },
    {
      "cell_type": "markdown",
      "metadata": {
        "id": "3LN0Loj4g11H"
      },
      "source": [
        "#### 確率モデルの可視化"
      ]
    },
    {
      "cell_type": "code",
      "execution_count": null,
      "metadata": {
        "id": "9MOWF2ZSHlPc"
      },
      "outputs": [],
      "source": [
        "g = pm.model_to_graphviz(model1)\n",
        "display(g)"
      ]
    },
    {
      "cell_type": "markdown",
      "metadata": {
        "id": "DcpA25EXrSKN"
      },
      "source": [
        "### 4.4 ベイズ推論(サンプリング)"
      ]
    },
    {
      "cell_type": "markdown",
      "metadata": {
        "id": "d2QcWGvcM-AL"
      },
      "source": [
        "#### パラメータ値を明示的に設定してサンプリング"
      ]
    },
    {
      "cell_type": "code",
      "execution_count": null,
      "metadata": {
        "id": "dVuGeMxRrds_"
      },
      "outputs": [],
      "source": [
        "with model1:\n",
        "    idata1_1 = pm.sample(\n",
        "        # 乱数系列の数(デフォルト2)\n",
        "        chains=3,\n",
        "        # 捨てるサンプル数(デフォルト1000)\n",
        "        tune=2000,\n",
        "        # 取得するサンプル数(デフォルト1000)\n",
        "        draws=2000,\n",
        "        random_seed=42)"
      ]
    },
    {
      "cell_type": "markdown",
      "metadata": {
        "id": "18J9j5ZKPJ4V"
      },
      "source": [
        "#### すべてデフォルト値でサンプリング"
      ]
    },
    {
      "cell_type": "code",
      "execution_count": null,
      "metadata": {
        "id": "0obEALDftJCl"
      },
      "outputs": [],
      "source": [
        "with model1:\n",
        "    idata1_2 = pm.sample(random_seed=42)"
      ]
    },
    {
      "cell_type": "markdown",
      "metadata": {
        "id": "q8hfG__lrfUE"
      },
      "source": [
        "### 4.5 ベイズ推論( 結果分析)"
      ]
    },
    {
      "cell_type": "markdown",
      "metadata": {
        "id": "P426h2UMYi2e"
      },
      "source": [
        "#### plot_trace 関数呼び出し"
      ]
    },
    {
      "cell_type": "code",
      "execution_count": null,
      "metadata": {
        "id": "SEdQFb7wrD04"
      },
      "outputs": [],
      "source": [
        "axes = az.plot_trace(idata1_2, compact=False)\n",
        "plt.tight_layout();"
      ]
    },
    {
      "cell_type": "markdown",
      "metadata": {
        "id": "jXfQ_7P0ufoj"
      },
      "source": [
        "#### plot_posteror関数呼び出し"
      ]
    },
    {
      "cell_type": "code",
      "execution_count": null,
      "metadata": {
        "id": "fVXbgG9_uGUW"
      },
      "outputs": [],
      "source": [
        "plt.rcParams['figure.figsize'] = (6, 6)\n",
        "ax = az.plot_posterior(idata1_2)\n",
        "ax.set_xlim(0, 1)\n",
        "ax.set_title('ベイズ推論結果　初期版');"
      ]
    },
    {
      "cell_type": "markdown",
      "metadata": {
        "id": "_i9NiSEGusAg"
      },
      "source": [
        "#### summary関数呼び出し"
      ]
    },
    {
      "cell_type": "code",
      "execution_count": null,
      "metadata": {
        "id": "Qk5vZR7ZttxV"
      },
      "outputs": [],
      "source": [
        "summary1_2 = az.summary(idata1_2)\n",
        "display(summary1_2)"
      ]
    },
    {
      "cell_type": "markdown",
      "metadata": {
        "id": "Xqou6AwPsROC"
      },
      "source": [
        "### 4.6 ベイズ推論(二項分布バージョン)"
      ]
    },
    {
      "cell_type": "markdown",
      "metadata": {
        "id": "mUEsQFlBugPs"
      },
      "source": [
        "#### 確率モデル定義　二項分布バージョン"
      ]
    },
    {
      "cell_type": "code",
      "execution_count": null,
      "metadata": {
        "id": "nkg_R5H_sVzi"
      },
      "outputs": [],
      "source": [
        "# コンテキスト定義\n",
        "model2 = pm.Model()\n",
        "\n",
        "with model2:\n",
        "    # pm.Uniform: 一様分布\n",
        "    p = pm.Uniform('p', lower=0.0, upper=1.0)\n",
        "\n",
        "    # pm.Binomial: 二項分布\n",
        "    # p: 成功確率\n",
        "    # n: 試行数\n",
        "    X_obs = pm.Binomial('X_obs', p=p, n=5, observed=2)"
      ]
    },
    {
      "cell_type": "markdown",
      "metadata": {
        "id": "nO32Zyy7pK4z"
      },
      "source": [
        "####  二項分布バージョンの確率モデル可視化"
      ]
    },
    {
      "cell_type": "code",
      "execution_count": null,
      "metadata": {
        "id": "LNy1Cc9kvQas"
      },
      "outputs": [],
      "source": [
        "# モデル構造可視化\n",
        "g = pm.model_to_graphviz(model2)\n",
        "display(g)"
      ]
    },
    {
      "cell_type": "markdown",
      "metadata": {
        "id": "zI_Jps3lukwQ"
      },
      "source": [
        "#### サンプリング"
      ]
    },
    {
      "cell_type": "code",
      "execution_count": null,
      "metadata": {
        "id": "6elFd8Nwuov_"
      },
      "outputs": [],
      "source": [
        "with model2:\n",
        "    idata2 = pm.sample(random_seed=42)"
      ]
    },
    {
      "cell_type": "markdown",
      "metadata": {
        "id": "oxMJmW6kupjP"
      },
      "source": [
        "#### 結果分析"
      ]
    },
    {
      "cell_type": "markdown",
      "metadata": {
        "id": "NZimo5WIzgix"
      },
      "source": [
        "##### plot_trace関数呼び出し"
      ]
    },
    {
      "cell_type": "code",
      "execution_count": null,
      "metadata": {
        "id": "HnS-4Ntfutf2"
      },
      "outputs": [],
      "source": [
        "axes = az.plot_trace(idata2, compact=False)\n",
        "plt.tight_layout();"
      ]
    },
    {
      "cell_type": "markdown",
      "metadata": {
        "id": "QqS0xe2oYDF9"
      },
      "source": [
        "##### plot_posteror関数呼び出し"
      ]
    },
    {
      "cell_type": "code",
      "execution_count": null,
      "metadata": {
        "id": "ybB2q3jAYMU2"
      },
      "outputs": [],
      "source": [
        "plt.rcParams['figure.figsize'] = (6, 6)\n",
        "ax = az.plot_posterior(idata2)\n",
        "ax.set_xlim(0, 1)\n",
        "ax.set_title('ベイズ推論結果　二項分布版');"
      ]
    },
    {
      "cell_type": "markdown",
      "metadata": {
        "id": "Mrl1-9gqzr2K"
      },
      "source": [
        "##### summary関数呼び出し"
      ]
    },
    {
      "cell_type": "code",
      "execution_count": null,
      "metadata": {
        "id": "kjOh_5J4vnmS"
      },
      "outputs": [],
      "source": [
        "summary2 = az.summary(idata2)\n",
        "display(summary2)"
      ]
    },
    {
      "cell_type": "markdown",
      "metadata": {
        "id": "DMUKtXZbrzIl"
      },
      "source": [
        "### 4.7 ベイズ推論(試行数を増やす)"
      ]
    },
    {
      "cell_type": "markdown",
      "metadata": {
        "id": "ipSWvogSwOT1"
      },
      "source": [
        "#### 確率モデル定義"
      ]
    },
    {
      "cell_type": "code",
      "execution_count": null,
      "metadata": {
        "id": "53VXoEwlwSFK"
      },
      "outputs": [],
      "source": [
        "# コンテキスト定義\n",
        "model3 = pm.Model()\n",
        "\n",
        "with model3:\n",
        "    # pm.Uniform: 一様分布\n",
        "    p = pm.Uniform('p', lower=0.0, upper=1.0)\n",
        "\n",
        "    # pm.Binomial:  二項分布\n",
        "    # p: 成功確率\n",
        "    # n: 試行数\n",
        "    X_obs = pm.Binomial('X_obs', p=p, n=50, observed=20)"
      ]
    },
    {
      "cell_type": "markdown",
      "metadata": {
        "id": "5dtaWhYN0BBF"
      },
      "source": [
        "#### 確率モデル可視化"
      ]
    },
    {
      "cell_type": "code",
      "execution_count": null,
      "metadata": {
        "id": "Qwszi6e9znQb"
      },
      "outputs": [],
      "source": [
        "g = pm.model_to_graphviz(model3)\n",
        "display(g)"
      ]
    },
    {
      "cell_type": "markdown",
      "metadata": {
        "id": "UnJcsyBkwStT"
      },
      "source": [
        "#### サンプリング"
      ]
    },
    {
      "cell_type": "code",
      "execution_count": null,
      "metadata": {
        "id": "_JQzyGrtsWt2"
      },
      "outputs": [],
      "source": [
        "# サンプリング\n",
        "with model3:\n",
        "    idata3 = pm.sample(random_seed=42)"
      ]
    },
    {
      "cell_type": "markdown",
      "metadata": {
        "id": "eFYbErMBwWw-"
      },
      "source": [
        "#### 結果分析"
      ]
    },
    {
      "cell_type": "markdown",
      "metadata": {
        "id": "7lR42jx-0Ll4"
      },
      "source": [
        "##### plot_trace関数呼び出し"
      ]
    },
    {
      "cell_type": "code",
      "execution_count": null,
      "metadata": {
        "id": "fLYRGRdDwalA"
      },
      "outputs": [],
      "source": [
        "axes = az.plot_trace(idata3, compact=False)\n",
        "plt.tight_layout();"
      ]
    },
    {
      "cell_type": "markdown",
      "metadata": {
        "id": "riapq5By0SIX"
      },
      "source": [
        "##### plot_posterior関数呼び出し"
      ]
    },
    {
      "cell_type": "code",
      "execution_count": null,
      "metadata": {
        "id": "g43nAFOix2rj"
      },
      "outputs": [],
      "source": [
        "plt.rcParams['figure.figsize'] = (6, 6)\n",
        "ax = az.plot_posterior(idata3)\n",
        "ax.set_xlim(0, 1)\n",
        "ax.set_title('試行回数を増やす(n=50)');"
      ]
    },
    {
      "cell_type": "markdown",
      "metadata": {
        "id": "Z7sMEfRi0a7H"
      },
      "source": [
        "##### summary関数呼び出し"
      ]
    },
    {
      "cell_type": "code",
      "execution_count": null,
      "metadata": {
        "id": "EHTGm9VHz-Dg"
      },
      "outputs": [],
      "source": [
        "summary3 = az.summary(idata3)\n",
        "display(summary3)"
      ]
    },
    {
      "cell_type": "markdown",
      "metadata": {
        "id": "vwx-xiBCIaCC"
      },
      "source": [
        "### 4.8 事前分布を変更する\n"
      ]
    },
    {
      "cell_type": "code",
      "execution_count": null,
      "metadata": {
        "id": "zTWoxuwkI072"
      },
      "outputs": [],
      "source": [
        "# コンテキスト定義\n",
        "model4 = pm.Model()\n",
        "\n",
        "with model4:\n",
        "    # 確率モデル定義\n",
        "\n",
        "    # 一様分布のパラメータを変更\n",
        "    p = pm.Uniform('p', lower=0.1, upper=0.9)\n",
        "\n",
        "    # 5回中2回あたりという観測値はそのまま\n",
        "    X_obs = pm.Binomial('X_obs', p=p, n=5, observed=2)\n",
        "\n",
        "    # サンプル値取得\n",
        "    idata4 = pm.sample(random_seed=42)"
      ]
    },
    {
      "cell_type": "code",
      "execution_count": null,
      "metadata": {
        "id": "TboUyaG-u4DM"
      },
      "outputs": [],
      "source": [
        "plt.rcParams['figure.figsize'] = (6, 6)\n",
        "# 事後分布の可視化\n",
        "ax = az.plot_posterior(idata4)\n",
        "ax.set_title('事前分布変更版　[0.1, 0.9]')\n",
        "ax.set_xlim(0, 1)\n",
        "\n",
        "# サンプル値の集計\n",
        "summary4 = az.summary(idata4)\n",
        "display(summary4)"
      ]
    },
    {
      "cell_type": "markdown",
      "metadata": {
        "id": "r00m_BKFsdkV"
      },
      "source": [
        "### 4.9 ベータ分布との比較"
      ]
    },
    {
      "cell_type": "markdown",
      "metadata": {
        "id": "L9faosvZ6PFS"
      },
      "source": [
        "#### ベータ分布とベイズ推論結果の重ね描き"
      ]
    },
    {
      "cell_type": "code",
      "execution_count": null,
      "metadata": {
        "id": "EGClbDSX1OSp"
      },
      "outputs": [],
      "source": [
        "# 真のベータ関数の定義\n",
        "from scipy import stats\n",
        "alpha = 20 + 1\n",
        "beta = 30 + 1\n",
        "true_beta = stats.beta(alpha, beta)\n",
        "\n",
        "plt.rcParams['figure.figsize'] = (6, 6)\n",
        "# ベイズ推論結果の可視化\n",
        "# idata3は4.7節で計算した結果を利用\n",
        "ax = az.plot_posterior(idata3)\n",
        "ax.lines[0].set_label('ベイズ推論結果')\n",
        "\n",
        "# 真のベータ関数の可視化\n",
        "x = np.linspace(*ax.get_xlim())\n",
        "ax.plot(x, true_beta.pdf(x), color='orange', label='真値')\n",
        "ax.legend(loc='center right');"
      ]
    },
    {
      "cell_type": "markdown",
      "metadata": {
        "id": "SE-35GfF1igk"
      },
      "source": [
        "### コラム ArviZのFAQ"
      ]
    },
    {
      "cell_type": "markdown",
      "metadata": {
        "id": "CcUfjEW31-vT"
      },
      "source": [
        "#### plot_posterior関数でyスケールを表示"
      ]
    },
    {
      "cell_type": "code",
      "execution_count": null,
      "metadata": {
        "id": "4r93XQ7lvWpd"
      },
      "outputs": [],
      "source": [
        "plt.rcParams['figure.figsize'] = (6, 6)\n",
        "ax = az.plot_posterior(idata1_2)\n",
        "\n",
        "# y軸の線の表示\n",
        "ax.spines['left'].set_visible(True)\n",
        "\n",
        "# y軸ラベル表示\n",
        "ax.set_ylabel(\"Density\")\n",
        "\n",
        "# y軸のティックの位置を自動的に決定\n",
        "from matplotlib.ticker import AutoLocator\n",
        "ax.yaxis.set_major_locator(AutoLocator())\n",
        "\n",
        "ax.set_xlim(0, 1)\n",
        "ax.set_title('ベイズ推論結果　 y軸スケール表示版');"
      ]
    },
    {
      "cell_type": "markdown",
      "metadata": {
        "id": "nqhQ5QON5U7F"
      },
      "source": [
        "#### plot_trace関数グラフでタイトルを変更"
      ]
    },
    {
      "cell_type": "code",
      "execution_count": null,
      "metadata": {
        "id": "XOEzJKjj5Ag2"
      },
      "outputs": [],
      "source": [
        "axes = az.plot_trace(idata1_2, compact=False)\n",
        "plt.tight_layout()\n",
        "axes[0,1].set_title('グラフタイトルの変更');"
      ]
    },
    {
      "cell_type": "markdown",
      "metadata": {
        "id": "daMkk5jQmAgf"
      },
      "source": [
        "#### バージョンの確認"
      ]
    },
    {
      "cell_type": "code",
      "execution_count": null,
      "metadata": {
        "id": "oMZeD9bY9F-m"
      },
      "outputs": [],
      "source": [
        "!pip install watermark | tail -n 1\n",
        "%load_ext watermark\n",
        "%watermark --iversions"
      ]
    },
    {
      "cell_type": "code",
      "execution_count": null,
      "metadata": {
        "id": "Vqizv8yl14Kg"
      },
      "outputs": [],
      "source": []
    }
  ],
  "metadata": {
    "colab": {
      "provenance": [],
      "toc_visible": true
    },
    "kernelspec": {
      "display_name": "Python 3",
      "name": "python3"
    },
    "language_info": {
      "name": "python"
    }
  },
  "nbformat": 4,
  "nbformat_minor": 0
}