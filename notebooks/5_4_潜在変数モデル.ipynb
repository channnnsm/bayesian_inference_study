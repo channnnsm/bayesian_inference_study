{
  "cells": [
    {
      "cell_type": "markdown",
      "source": [
        " ``plot_trace``関数でワーニングを出さないため次のコマンド実行が必要です。"
      ],
      "metadata": {
        "id": "ChK2aGZpAppi"
      }
    },
    {
      "cell_type": "code",
      "source": [
        "!pip install --upgrade numba | tail -n 1"
      ],
      "metadata": {
        "id": "Ws5z32Up-jnB"
      },
      "execution_count": null,
      "outputs": []
    },
    {
      "cell_type": "markdown",
      "metadata": {
        "id": "uIoj_UW_qasp"
      },
      "source": [
        "## 5.4 潜在変数モデル"
      ]
    },
    {
      "cell_type": "markdown",
      "metadata": {
        "id": "JHS5qeidVZvJ"
      },
      "source": [
        "<a href=\"https://colab.research.google.com/github/makaishi2/python_bayes_intro/blob/main/notebooks/5_4_%E6%BD%9C%E5%9C%A8%E5%A4%89%E6%95%B0%E3%83%A2%E3%83%87%E3%83%AB.ipynb\" target=\"_parent\"><img src=\"https://colab.research.google.com/assets/colab-badge.svg\" alt=\"Open In Colab\"/></a>"
      ]
    },
    {
      "cell_type": "markdown",
      "metadata": {
        "id": "vdi2sqRyqr4p"
      },
      "source": [
        "### 共通処理"
      ]
    },
    {
      "cell_type": "code",
      "execution_count": null,
      "metadata": {
        "id": "0dTjJOmIqmiS"
      },
      "outputs": [],
      "source": [
        "%matplotlib inline\n",
        "# 日本語化ライブラリ導入\n",
        "!pip install japanize-matplotlib | tail -n 1"
      ]
    },
    {
      "cell_type": "code",
      "execution_count": null,
      "metadata": {
        "id": "M46-MnBXq5-Z"
      },
      "outputs": [],
      "source": [
        "# ライブラリのimport\n",
        "\n",
        "# NumPy用ライブラリ\n",
        "import numpy as np\n",
        "# Matplotlib中のpyplotライブラリのインポート\n",
        "import matplotlib.pyplot as plt\n",
        "# matplotlib日本語化対応ライブラリのインポート\n",
        "import japanize_matplotlib\n",
        "# pandas用ライブラリ\n",
        "import pandas as pd\n",
        "# データフレーム表示用関数\n",
        "from IPython.display import display\n",
        "# seaborn\n",
        "import seaborn as sns\n",
        "# 表示オプション調整\n",
        "# NumPy表示形式の設定\n",
        "np.set_printoptions(precision=3, floatmode='fixed')\n",
        "# グラフのデフォルトフォント指定\n",
        "plt.rcParams[\"font.size\"] = 14\n",
        "# サイズ設定\n",
        "plt.rcParams['figure.figsize'] = (6, 6)\n",
        "# 方眼表示ON\n",
        "plt.rcParams['axes.grid'] = True\n",
        "# データフレームでの表示精度\n",
        "pd.options.display.float_format = '{:.3f}'.format\n",
        "# データフレームですべての項目を表示\n",
        "pd.set_option(\"display.max_columns\",None)"
      ]
    },
    {
      "cell_type": "code",
      "execution_count": null,
      "metadata": {
        "id": "my5YU9YCq-ou"
      },
      "outputs": [],
      "source": [
        "import pymc as pm\n",
        "import arviz as az\n",
        "\n",
        "print(f\"Running on PyMC v{pm.__version__}\")\n",
        "print(f\"Running on ArViz v{az.__version__}\")"
      ]
    },
    {
      "cell_type": "markdown",
      "metadata": {
        "id": "rBIfYJ_BrGUD"
      },
      "source": [
        "### 5.4.1 問題設定\n",
        "アイリスデータセットで特定項目の値のみを利用する。  \n",
        "花の種別の情報をなしで、2種類の花の統計的特徴を推論する。\n"
      ]
    },
    {
      "cell_type": "markdown",
      "metadata": {
        "id": "lnTxrJeXtJlG"
      },
      "source": [
        "### 5.4.2 データ準備"
      ]
    },
    {
      "cell_type": "markdown",
      "metadata": {
        "id": "Z6oJ-5Yj4QQI"
      },
      "source": [
        "#### データ読み込みと確認"
      ]
    },
    {
      "cell_type": "code",
      "execution_count": null,
      "metadata": {
        "id": "4DkJdzLIrCFM"
      },
      "outputs": [],
      "source": [
        "# アイリスデータセットの読み込み\n",
        "df = sns.load_dataset('iris')\n",
        "\n",
        "# 先頭5行の確認\n",
        "display(df.head())\n",
        "\n",
        "#  speciesの分布確認\n",
        "df['species'].value_counts()"
      ]
    },
    {
      "cell_type": "markdown",
      "metadata": {
        "id": "x8bv5SkA4U-f"
      },
      "source": [
        "#### 分析対象データの絞り込み\n"
      ]
    },
    {
      "cell_type": "code",
      "execution_count": null,
      "metadata": {
        "id": "CZFE_MrE2Vr8"
      },
      "outputs": [],
      "source": [
        "# 花の種類をsetosa以外の２種類に絞り込む\n",
        "df2 = df.query('species != \"setosa\"')\n",
        "\n",
        "# インデックスを0から振り直す\n",
        "df2 = df2.reset_index(drop=True)\n",
        "\n",
        "# petal_widthの項目値をx_dataにセット\n",
        "X = df2['petal_width'].values"
      ]
    },
    {
      "cell_type": "markdown",
      "metadata": {
        "id": "areTBgXp4qVs"
      },
      "source": [
        "#### 分析対象データを色分けなしにヒストグラム表示"
      ]
    },
    {
      "cell_type": "code",
      "execution_count": null,
      "metadata": {
        "id": "yk01phVIlugz"
      },
      "outputs": [],
      "source": [
        "bins = np.arange(0.8, 3.0, 0.1)\n",
        "fig, ax = plt.subplots()\n",
        "sns.histplot(bins=bins, x=X)\n",
        "ax.set_xlabel('petal_width')\n",
        "ax.xaxis.set_tick_params(rotation=90)\n",
        "ax.set_title('petal_widthのヒストグラム')\n",
        "ax.set_xticks(bins);"
      ]
    },
    {
      "cell_type": "markdown",
      "metadata": {
        "id": "qT7F6BWp4x6l"
      },
      "source": [
        "####  petal_widthのヒストグラム描画(花の種類で色分け)"
      ]
    },
    {
      "cell_type": "code",
      "execution_count": null,
      "metadata": {
        "id": "4KUJ4s76hQM-"
      },
      "outputs": [],
      "source": [
        "bins = np.arange(0.8, 3.0, 0.1)\n",
        "fig, ax = plt.subplots()\n",
        "sns.histplot(data=df2, bins=bins, x='petal_width',\n",
        "    hue='species', kde=True)\n",
        "ax.xaxis.set_tick_params(rotation=90)\n",
        "ax.set_title('petal_widthのヒストグラム')\n",
        "ax.set_xticks(bins);"
      ]
    },
    {
      "cell_type": "markdown",
      "metadata": {
        "id": "PgH4jGWpvoW9"
      },
      "source": [
        "### 5.4.3 確率モデル定義"
      ]
    },
    {
      "cell_type": "markdown",
      "metadata": {
        "id": "TwLsB_CftLay"
      },
      "source": [
        "#### 潜在変数モデルの確率モデル定義"
      ]
    },
    {
      "cell_type": "code",
      "execution_count": null,
      "metadata": {
        "id": "k_Lw-2-XvIDi"
      },
      "outputs": [],
      "source": [
        "# 変数の初期設定\n",
        "\n",
        "# 何種類の正規分布モデルがあるか\n",
        "n_components = 2\n",
        "\n",
        "# 観測データ件数\n",
        "N = X.shape\n",
        "\n",
        "model1 = pm.Model()\n",
        "\n",
        "with model1:\n",
        "    # Xの観測値をConstantDataとして定義\n",
        "    X_data = pm.ConstantData('X_data', X)\n",
        "\n",
        "    # p: 潜在変数が1の値をとる確率\n",
        "    p = pm.Uniform('p', lower=0.0, upper=1.0)\n",
        "\n",
        "    # s: 潜在変数pの確率値をもとに0, 1のいずれかの値を返す\n",
        "    s = pm.Bernoulli('s', p=p, shape=N)\n",
        "\n",
        "    # mus: ２つの花の種類毎の平均値\n",
        "    mus = pm.Normal('mus', mu=0.0, sigma=10.0, shape=n_components)\n",
        "\n",
        "    # taus: 2つの花の種類毎のバラツキ\n",
        "    # 標準偏差sigmasとの間にはtaus = 1/(sigmas*sigmas)の関係がある\n",
        "    taus = pm.HalfNormal('taus', sigma=10.0, shape=n_components)\n",
        "\n",
        "    # グラフ描画など分析でsigmasが必要なため、tausからsigmasを求めておく\n",
        "    sigmas = pm.Deterministic('sigmas', 1/pm.math.sqrt(taus))\n",
        "\n",
        "    # 各観測値ごとに潜在変数からmuとtauを求める\n",
        "    mu = pm.Deterministic('mu', mus[s])\n",
        "    tau = pm.Deterministic('tau', taus[s])\n",
        "\n",
        "    # 正規分布に従う確率変数X_obsの定義\n",
        "    X_obs = pm.Normal('X_obs', mu=mu, tau=tau, observed=X_data)"
      ]
    },
    {
      "cell_type": "markdown",
      "metadata": {
        "id": "5FPUpEQOtSl7"
      },
      "source": [
        "#### 確率モデル構造可視化"
      ]
    },
    {
      "cell_type": "code",
      "execution_count": null,
      "metadata": {
        "id": "WoopmWwGvvWe"
      },
      "outputs": [],
      "source": [
        "g = pm.model_to_graphviz(model1)\n",
        "display(g)"
      ]
    },
    {
      "cell_type": "markdown",
      "metadata": {
        "id": "_mP-yzOLv_9n"
      },
      "source": [
        "### 5.4.4 サンプリングと結果分析"
      ]
    },
    {
      "cell_type": "markdown",
      "metadata": {
        "id": "PLyVQMlKyD8a"
      },
      "source": [
        "#### サンプリング"
      ]
    },
    {
      "cell_type": "code",
      "execution_count": null,
      "metadata": {
        "id": "UOt2twamwm7q"
      },
      "outputs": [],
      "source": [
        "with model1:\n",
        "    idata1 = pm.sample(chains=1, draws=2000, target_accept=0.99,\n",
        "      random_seed=42)"
      ]
    },
    {
      "cell_type": "markdown",
      "metadata": {
        "id": "_sl5QzimyNJv"
      },
      "source": [
        "#### plot_trace関数で推論結果の確認"
      ]
    },
    {
      "cell_type": "code",
      "execution_count": null,
      "metadata": {
        "id": "dHkdwKit1A3W"
      },
      "outputs": [],
      "source": [
        "az.plot_trace(idata1, var_names=['p', 'mus', 'sigmas'], compact=False)\n",
        "plt.tight_layout();"
      ]
    },
    {
      "cell_type": "markdown",
      "metadata": {
        "id": "nCNaXqIm1k3P"
      },
      "source": [
        "#### plot_posterior関数で各確率変数の事後分布の確認"
      ]
    },
    {
      "cell_type": "code",
      "execution_count": null,
      "metadata": {
        "id": "4zMT8RzI-BFK"
      },
      "outputs": [],
      "source": [
        "plt.rcParams['figure.figsize']=(6,6)\n",
        "az.plot_posterior(idata1, var_names=['p', 'mus', 'sigmas'])\n",
        "plt.tight_layout();"
      ]
    },
    {
      "cell_type": "markdown",
      "metadata": {
        "id": "8rKTNX-zyWwE"
      },
      "source": [
        "#### summary関数で統計情報の取得"
      ]
    },
    {
      "cell_type": "code",
      "execution_count": null,
      "metadata": {
        "id": "SXEWuooOfo-c"
      },
      "outputs": [],
      "source": [
        "summary1 = az.summary(idata1, var_names=['p', 'mus', 'sigmas'])\n",
        "display(summary1)"
      ]
    },
    {
      "cell_type": "markdown",
      "metadata": {
        "id": "PTcyd5k32g6G"
      },
      "source": [
        "### 5.4.5 ヒストグラムと正規分布関数の重ね描き"
      ]
    },
    {
      "cell_type": "code",
      "execution_count": null,
      "metadata": {
        "id": "7abMvBMkVx30"
      },
      "outputs": [],
      "source": [
        "# 正規分布関数の定義\n",
        "def norm(x, mu, sigma):\n",
        "    return np.exp(-((x - mu)/sigma)**2/2) / (np.sqrt(2 * np.pi) * sigma)\n",
        "\n",
        "# 推論結果から各パラメータの平均値を取得\n",
        "mean = summary1['mean']\n",
        "\n",
        "# muの平均値取得\n",
        "mean_mu0 = mean['mus[0]']\n",
        "mean_mu1 = mean['mus[1]']\n",
        "\n",
        "# sigmaの平均値取得\n",
        "mean_sigma0 = mean['sigmas[0]']\n",
        "mean_sigma1 = mean['sigmas[1]']\n",
        "\n",
        "# 正規分布関数値の計算\n",
        "x = np.arange(0.8, 3.0, 0.05)\n",
        "delta = 0.1\n",
        "y0 = norm(x, mean_mu0, mean_sigma0) * delta / n_components\n",
        "y1 = norm(x, mean_mu1, mean_sigma1) * delta / n_components\n",
        "\n",
        "# グラフ描画\n",
        "bins = np.arange(0.8, 3.0, delta)\n",
        "plt.rcParams['figure.figsize']=(6,6)\n",
        "fig, ax = plt.subplots()\n",
        "sns.histplot(data=df2, bins=bins, x='petal_width',\n",
        "    hue='species', kde=True, ax=ax,  stat='probability')\n",
        "ax.get_lines()[1].set_label('KDE versicolor')\n",
        "ax.get_lines()[0].set_label('KDE virginica')\n",
        "ax.plot(x, y0, c='b', lw=3, label='Bayse versicolor')\n",
        "ax.plot(x, y1, c='y', lw=3, label='Bayse virginica')\n",
        "ax.set_xticks(bins);\n",
        "ax.xaxis.set_tick_params(rotation=90)\n",
        "ax.set_title('ヒストグラムと正規分布関数の重ね描き')\n",
        "plt.legend();"
      ]
    },
    {
      "cell_type": "markdown",
      "metadata": {
        "id": "m2-RanqsKuu_"
      },
      "source": [
        "### 5.4.6 潜在変数の確率分布"
      ]
    },
    {
      "cell_type": "markdown",
      "metadata": {
        "id": "KsMpViBfI7Rb"
      },
      "source": [
        "#### petal_widthの値が1.0, 1.5, 1.7, 2.0, 2.5のインデックスを調べる"
      ]
    },
    {
      "cell_type": "code",
      "execution_count": null,
      "metadata": {
        "id": "ANHu670nK4u1"
      },
      "outputs": [],
      "source": [
        "value_list = [1.0, 1.5, 1.7, 2.0, 2.5]\n",
        "\n",
        "df_heads = pd.DataFrame(None)\n",
        "\n",
        "# petal_widthの値が1.0から2.5までそれぞれの値である先頭の行を抽出\n",
        "for value in value_list:\n",
        "\n",
        "    # df2からpetal_widthの値がvalueである行のみ抽出\n",
        "    w = df2.query('petal_width == @value', engine='python')\n",
        "\n",
        "    # 先頭の１行を抽出し、df_headsに連結\n",
        "    df_heads = pd.concat([df_heads, w.head(1)], axis=0)\n",
        "\n",
        "# 結果確認\n",
        "display(df_heads)"
      ]
    },
    {
      "cell_type": "markdown",
      "metadata": {
        "id": "j5_2fT5LKQll"
      },
      "source": [
        "#### petal_widthの値の違いによる潜在変数sの確率分布の可視化"
      ]
    },
    {
      "cell_type": "code",
      "execution_count": null,
      "metadata": {
        "id": "pE8grEh-t4xk"
      },
      "outputs": [],
      "source": [
        "# df_headsのインデックスを抽出\n",
        "indexes, n_indexes = df_heads.index, len(df_heads)\n",
        "\n",
        "# 潜在変数sのサンプル値から、index=7, 1, 27, 60, 50の値を抽出\n",
        "sval = idata1.posterior['s'][:,:,indexes].values.reshape(-1,n_indexes).T\n",
        "\n",
        "# それぞれのケースでヒストグラムの描画\n",
        "plt.rcParams['figure.figsize']=(15,3)\n",
        "vlist = df_heads['petal_width']\n",
        "fig, axes = plt.subplots(1, n_indexes)\n",
        "for ax, item, value, index in zip(axes, sval, vlist, indexes):\n",
        "    f = pd.DataFrame(item)\n",
        "    f.hist(ax=ax, bins=2)\n",
        "    ax.set_ylim(0,2000)\n",
        "    ax.set_title(f'value={value} index={index}')\n",
        "plt.tight_layout();"
      ]
    },
    {
      "cell_type": "markdown",
      "metadata": {
        "id": "yh7xE04ZZ88t"
      },
      "source": [
        " ### コラム　潜在変数モデルにおけるベイズ推論のツボ"
      ]
    },
    {
      "cell_type": "markdown",
      "metadata": {
        "id": "evzU0aqd5XNK"
      },
      "source": [
        "#### 意図しない結果になる確率モデル"
      ]
    },
    {
      "cell_type": "markdown",
      "metadata": {
        "id": "9VaeidrvVNVx"
      },
      "source": [
        "##### 確率モデル定義"
      ]
    },
    {
      "cell_type": "code",
      "execution_count": null,
      "metadata": {
        "id": "OPgJxdeL5JM0"
      },
      "outputs": [],
      "source": [
        "model2 = pm.Model()\n",
        "\n",
        "with model2:\n",
        "    # Xの観測値をConstantDataとして定義\n",
        "    X_data = pm.ConstantData('X_data', X)\n",
        "\n",
        "    # p: 潜在変数が1の値をとる確率\n",
        "    p = pm.Uniform('p', lower=0.0, upper=1.0)\n",
        "\n",
        "    # s: 潜在変数　pの確率値をもとに0, 1のいずれかの値を返す\n",
        "    s = pm.Bernoulli('s', p=p, shape=N)\n",
        "\n",
        "    # mus: ２つの花の種類毎の平均値\n",
        "    mus = pm.Normal('mus', mu=0.0, sigma=10.0, shape=n_components)\n",
        "\n",
        "    # sigmas: 2つの花の種類毎のバラツキ\n",
        "    sigmas = pm.HalfNormal('sigmas', sigma=10.0, shape=n_components)\n",
        "\n",
        "    # 各観測値ごとに潜在変数から平均値と標準偏差を求める\n",
        "    mu = pm.Deterministic('mu', mus[s])\n",
        "    sigma = pm.Deterministic('sigma', sigmas[s])\n",
        "\n",
        "    # 正規分布によりxの値を求める\n",
        "    X_obs = pm.Normal('X_obs', mu=mu, sigma=sigma, observed=X_data)\n",
        "\n",
        "# 確率モデル構造可視化\n",
        "g = pm.model_to_graphviz(model2)\n",
        "display(g)"
      ]
    },
    {
      "cell_type": "markdown",
      "metadata": {
        "id": "lpa-9fp5bhu1"
      },
      "source": [
        "##### サンプリングとplot_trace関数呼び出し"
      ]
    },
    {
      "cell_type": "code",
      "execution_count": null,
      "metadata": {
        "id": "aAuXArC7brMj"
      },
      "outputs": [],
      "source": [
        "with model2:\n",
        "    # サンプリング\n",
        "    idata2 = pm.sample(random_seed=42, chains=1, target_accept=0.998)\n",
        "\n",
        "# plot_trace関数で推論結果の確認\n",
        "az.plot_trace(idata2, var_names=['p', 'mus', 'sigmas'], compact=False)\n",
        "plt.tight_layout();"
      ]
    },
    {
      "cell_type": "code",
      "execution_count": null,
      "metadata": {
        "id": "R0FKbOg-gIVp"
      },
      "outputs": [],
      "source": [
        "summary2 = az.summary(idata2, var_names=['p', 'mus', 'sigmas'])\n",
        "display(summary2)"
      ]
    },
    {
      "cell_type": "markdown",
      "metadata": {
        "id": "Tn63ZJlGmPzI"
      },
      "source": [
        "#### ラベルスイッチが起きない確率モデル"
      ]
    },
    {
      "cell_type": "markdown",
      "metadata": {
        "id": "X6nN310nVS14"
      },
      "source": [
        "##### 確率モデル定義"
      ]
    },
    {
      "cell_type": "code",
      "execution_count": null,
      "metadata": {
        "id": "Ifp_8MNKxyBn"
      },
      "outputs": [],
      "source": [
        "# 変数の初期設定\n",
        "\n",
        "# 何種類の正規分布モデルがあるか\n",
        "n_components = 2\n",
        "\n",
        "# 観測データ件数\n",
        "N = X.shape\n",
        "\n",
        "model3 = pm.Model()\n",
        "\n",
        "with model3:\n",
        "    # Xの観測値をConstantDataとして定義\n",
        "    X_data = pm.ConstantData('X_data', X)\n",
        "\n",
        "    # p: 潜在変数が1の値をとる確率\n",
        "    p = pm.Uniform('p', lower=0.0, upper=1.0)\n",
        "\n",
        "    # s: 潜在変数　pの確率値をもとに0, 1のいずれかの値を返す\n",
        "    s = pm.Bernoulli('s', p=p, shape=N)\n",
        "\n",
        "    # mus: ２つの花の種類毎の平均値\n",
        "    mu0 = pm.HalfNormal('mu0', sigma=10.0)\n",
        "    delta0 = pm.HalfNormal('delta0', sigma=10.0)\n",
        "    mu1 = pm.Deterministic('mu1', mu0+delta0)\n",
        "    mus = pm.Deterministic('mus',pm.math.stack([mu0, mu1]))\n",
        "\n",
        "    # taus: 2つの花の種類毎のバラツキ\n",
        "    # 標準偏差sigmasとの間にはtaus = 1/(sigmas*sigmas)の関係がある\n",
        "    taus = pm.HalfNormal('taus', sigma=10.0, shape=n_components)\n",
        "\n",
        "    # グラフ描画など分析でsigmasが必要なため、tausからsigmasを求めておく\n",
        "    sigmas = pm.Deterministic('sigmas', 1/pm.math.sqrt(taus))\n",
        "\n",
        "    # 各観測値ごとに潜在変数からmuとtauを求める\n",
        "    mu = pm.Deterministic('mu', mus[s])\n",
        "    tau = pm.Deterministic('tau', taus[s])\n",
        "\n",
        "    # 正規分布に従う確率変数X_obsの定義\n",
        "    X_obs = pm.Normal('X_obs', mu=mu, tau=tau, observed=X_data)\n",
        "\n",
        "g = pm.model_to_graphviz(model3)\n",
        "display(g)"
      ]
    },
    {
      "cell_type": "markdown",
      "metadata": {
        "id": "qXYa1ZbwcBrq"
      },
      "source": [
        "##### サンプリングとplot_trace関数呼び出し"
      ]
    },
    {
      "cell_type": "code",
      "execution_count": null,
      "metadata": {
        "id": "R3eULAMgnAz4"
      },
      "outputs": [],
      "source": [
        "with model3:\n",
        "    # サンプリング\n",
        "    idata3 = pm.sample(random_seed=42, target_accept=0.999)\n",
        "\n",
        "# plot_trace関数で推論結果の確認\n",
        "az.plot_trace(idata3, var_names=['p', 'mus', 'sigmas'], compact=False)\n",
        "plt.tight_layout();"
      ]
    },
    {
      "cell_type": "code",
      "execution_count": null,
      "metadata": {
        "id": "0jG4FmB3nxHm"
      },
      "outputs": [],
      "source": [
        "summary3 = az.summary(idata3, var_names=['p', 'mus', 'sigmas'])\n",
        "display(summary3)"
      ]
    },
    {
      "cell_type": "markdown",
      "metadata": {
        "id": "1VoXqEGUH3Nt"
      },
      "source": [
        "##### グラフ描画"
      ]
    },
    {
      "cell_type": "code",
      "execution_count": null,
      "metadata": {
        "id": "zTr-6VdbDK6w"
      },
      "outputs": [],
      "source": [
        "# サイズ設定\n",
        "plt.rcParams['figure.figsize'] = (6, 6)\n",
        "\n",
        "# 正規分布関数の定義\n",
        "def norm(x, mu, sigma):\n",
        "    return np.exp(-((x - mu)/sigma)**2/2) / (np.sqrt(2 * np.pi) * sigma)\n",
        "\n",
        "# 推論結果から各パラメータの平均値を取得\n",
        "mean = summary3['mean']\n",
        "\n",
        "# muの平均値取得\n",
        "mean_mu0 = mean['mus[0]']\n",
        "mean_mu1 = mean['mus[1]']\n",
        "\n",
        "# sigmaの平均値取得\n",
        "mean_sigma0 = mean['sigmas[0]']\n",
        "mean_sigma1 = mean['sigmas[1]']\n",
        "\n",
        "# 正規分布関数値の計算\n",
        "y0 = norm(x, mean_mu0, mean_sigma0) * delta / n_components\n",
        "y1 = norm(x, mean_mu1, mean_sigma1) * delta / n_components\n",
        "\n",
        "# グラフ描画\n",
        "delta = 0.1\n",
        "bins = np.arange(0.8, 3.0, delta)\n",
        "x = np.arange(0.8, 3.0, 0.05)\n",
        "plt.rcParams['figure.figsize']=(6,6)\n",
        "fig, ax = plt.subplots()\n",
        "sns.histplot(data=df2, bins=bins, x='petal_width',\n",
        "    hue='species', kde=True, ax=ax, stat='probability')\n",
        "ax.get_lines()[1].set_label('KDE versicolor')\n",
        "ax.get_lines()[0].set_label('KDE virginica')\n",
        "ax.xaxis.set_tick_params(rotation=90)\n",
        "ax.set_title('ヒストグラムと正規分布関数の重ね描き\\n(ラベルスイッチ対策版)')\n",
        "ax.set_xticks(bins);\n",
        "ax.plot(x, y0, c='b', lw=3, label='Bayse versicolor')\n",
        "ax.plot(x, y1, c='y', lw=3, label='Bayse virginica')\n",
        "plt.legend();"
      ]
    },
    {
      "cell_type": "markdown",
      "metadata": {
        "id": "x5DEy2muwyeQ"
      },
      "source": [
        "#### バージョンの確認"
      ]
    },
    {
      "cell_type": "code",
      "execution_count": null,
      "metadata": {
        "id": "zEa9F-tuH9fU"
      },
      "outputs": [],
      "source": [
        "!pip install watermark | tail -n 1\n",
        "%load_ext watermark\n",
        "%watermark --iversions"
      ]
    }
  ],
  "metadata": {
    "colab": {
      "provenance": [],
      "toc_visible": true
    },
    "kernelspec": {
      "display_name": "Python 3",
      "name": "python3"
    },
    "language_info": {
      "name": "python"
    }
  },
  "nbformat": 4,
  "nbformat_minor": 0
}