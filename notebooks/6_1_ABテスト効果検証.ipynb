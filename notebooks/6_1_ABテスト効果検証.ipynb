{
  "cells": [
    {
      "cell_type": "markdown",
      "source": [
        "``plot_trace``関数でワーニングを出さないため次のコマンド実行が必要です。"
      ],
      "metadata": {
        "id": "zk5cJ_HGf8jU"
      }
    },
    {
      "cell_type": "code",
      "source": [
        "!pip install --upgrade numba | tail -n 1"
      ],
      "metadata": {
        "id": "NvfsFBPEf7pw"
      },
      "execution_count": null,
      "outputs": []
    },
    {
      "cell_type": "markdown",
      "metadata": {
        "id": "uIoj_UW_qasp"
      },
      "source": [
        "## 6.1 ABテストの効果検証"
      ]
    },
    {
      "cell_type": "markdown",
      "metadata": {
        "id": "h0cR7yvwll73"
      },
      "source": [
        "<a href=\"https://colab.research.google.com/github/makaishi2/python_bayes_intro/blob/main/notebooks/6_1_AB%E3%83%86%E3%82%B9%E3%83%88%E5%8A%B9%E6%9E%9C%E6%A4%9C%E8%A8%BC.ipynb\" target=\"_parent\"><img src=\"https://colab.research.google.com/assets/colab-badge.svg\" alt=\"Open In Colab\"/></a>"
      ]
    },
    {
      "cell_type": "markdown",
      "metadata": {
        "id": "vdi2sqRyqr4p"
      },
      "source": [
        "### 共通処理"
      ]
    },
    {
      "cell_type": "code",
      "execution_count": null,
      "metadata": {
        "id": "0dTjJOmIqmiS"
      },
      "outputs": [],
      "source": [
        "%matplotlib inline\n",
        "# 日本語化ライブラリ導入\n",
        "!pip install japanize-matplotlib | tail -n 1"
      ]
    },
    {
      "cell_type": "code",
      "execution_count": null,
      "metadata": {
        "id": "M46-MnBXq5-Z"
      },
      "outputs": [],
      "source": [
        "# ライブラリのimport\n",
        "\n",
        "# NumPy用ライブラリ\n",
        "import numpy as np\n",
        "# Matplotlib中のpyplotライブラリのインポート\n",
        "import matplotlib.pyplot as plt\n",
        "# matplotlib日本語化対応ライブラリのインポート\n",
        "import japanize_matplotlib\n",
        "# pandas用ライブラリ\n",
        "import pandas as pd\n",
        "# データフレーム表示用関数\n",
        "from IPython.display import display\n",
        "# seaborn\n",
        "import seaborn as sns\n",
        "# 表示オプション調整\n",
        "# NumPy表示形式の設定\n",
        "np.set_printoptions(precision=3, floatmode='fixed')\n",
        "# グラフのデフォルトフォント指定\n",
        "plt.rcParams[\"font.size\"] = 14\n",
        "# サイズ設定\n",
        "plt.rcParams['figure.figsize'] = (6, 6)\n",
        "# 方眼表示ON\n",
        "plt.rcParams['axes.grid'] = True\n",
        "# データフレームでの表示精度\n",
        "pd.options.display.float_format = '{:.3f}'.format\n",
        "# データフレームですべての項目を表示\n",
        "pd.set_option(\"display.max_columns\",None)"
      ]
    },
    {
      "cell_type": "code",
      "execution_count": null,
      "metadata": {
        "id": "my5YU9YCq-ou"
      },
      "outputs": [],
      "source": [
        "import pymc as pm\n",
        "import arviz as az\n",
        "\n",
        "print(f\"Running on PyMC v{pm.__version__}\")\n",
        "print(f\"Running on ArViz v{az.__version__}\")"
      ]
    },
    {
      "cell_type": "markdown",
      "metadata": {
        "id": "rBIfYJ_BrGUD"
      },
      "source": [
        "### 6.1.1 問題設定\n",
        "鈴木さんと佐藤さんはそれぞれ自分の担当のWebページに改善を加えました。  \n",
        "改善後のページBと従来のページAをランダムに提示するABテストを実施し、効果検証をしました。  \n",
        "その結果が以下の通りであった場合、それぞれの改善に効果があったかどうか判断したいということがビジネス上の課題と考えて下さい。\n",
        "\n",
        "\n",
        "|                 |            | 鈴木さん | 山田さん |\n",
        "| --------------- | ---------- | --------: | --------: |\n",
        "| 従来のページA   | 表示数     | 40       | 1200     |\n",
        "|                 | クリック数 | 2        | 60       |\n",
        "|                 | クリック率 | 5%       | 5%       |\n",
        "| 改善後のページB | 表示数     | 25       | 1500     |\n",
        "|                 | クリック数 | 2        | 110      |\n",
        "|                 | クリック率 | 8%       | 6.88%    |\n",
        "\n"
      ]
    },
    {
      "cell_type": "markdown",
      "metadata": {
        "id": "PgH4jGWpvoW9"
      },
      "source": [
        "### 6.1.2 確率モデル定義(鈴木さんケース)\n"
      ]
    },
    {
      "cell_type": "markdown",
      "metadata": {
        "id": "XPXTh1tG6Ldo"
      },
      "source": [
        "#### 確率モデル定義と確率モデル構造可視化\n",
        "最初に鈴木さんケースで分析する"
      ]
    },
    {
      "cell_type": "code",
      "execution_count": null,
      "metadata": {
        "id": "Bdk8zw3fuphC"
      },
      "outputs": [],
      "source": [
        "model_s = pm.Model()\n",
        "\n",
        "with pm.Model() as model_s:\n",
        "    # 事前分布として一様分布を採用\n",
        "    p_s_a = pm.Uniform('p_s_a', lower=0.0, upper=1.0)\n",
        "    p_s_b = pm.Uniform('p_s_b', lower=0.0, upper=1.0)\n",
        "\n",
        "    # 二項分布で確率モデルを定義\n",
        "    # n:表示数　observed:ヒット数　とすればよい\n",
        "    obs_s_a = pm.Binomial('obs_s_a', p=p_s_a, n=40, observed=2)\n",
        "    obs_s_b = pm.Binomial('obs_s_b', p=p_s_b, n=25, observed=2)\n",
        "\n",
        "    # 新たな確率変数として二つの確率変数の差を定義\n",
        "    delta_prob_s = pm.Deterministic('delta_prob_s', p_s_b - p_s_a)\n",
        "\n",
        "# 確率モデル構造可視化\n",
        "g = pm.model_to_graphviz(model_s)\n",
        "display(g)"
      ]
    },
    {
      "cell_type": "markdown",
      "metadata": {
        "id": "_mP-yzOLv_9n"
      },
      "source": [
        "### 6.1.3 サンプリングと結果分析"
      ]
    },
    {
      "cell_type": "markdown",
      "metadata": {
        "id": "wcImDr5fDwI8"
      },
      "source": [
        "#### サンプリング"
      ]
    },
    {
      "cell_type": "code",
      "execution_count": null,
      "metadata": {
        "id": "zQSSO-S9v4Qr"
      },
      "outputs": [],
      "source": [
        "with model_s:\n",
        "    idata_s = pm.sample(random_seed=42, target_accept=0.99)"
      ]
    },
    {
      "cell_type": "markdown",
      "metadata": {
        "id": "clM0U3APD3Yc"
      },
      "source": [
        "#### plot_trace関数で推論結果の確認"
      ]
    },
    {
      "cell_type": "code",
      "execution_count": null,
      "metadata": {
        "id": "dHkdwKit1A3W"
      },
      "outputs": [],
      "source": [
        "az.plot_trace(idata_s, compact=False)\n",
        "plt.tight_layout();"
      ]
    },
    {
      "cell_type": "markdown",
      "metadata": {
        "id": "zJVAPn7RECIc"
      },
      "source": [
        "#### delta_prob_sの分布を可視化"
      ]
    },
    {
      "cell_type": "code",
      "execution_count": null,
      "metadata": {
        "id": "gZRIn1vF1I7t"
      },
      "outputs": [],
      "source": [
        "ax = az.plot_posterior(idata_s, var_names=['delta_prob_s'])\n",
        "xx, yy = ax.get_lines()[0].get_data()\n",
        "ax.fill_between(xx[xx<0], yy[xx<0]);"
      ]
    },
    {
      "cell_type": "markdown",
      "metadata": {
        "id": "lXP15bA1EN9M"
      },
      "source": [
        "#### 画面Aの方がクリック率が高い確率を計算"
      ]
    },
    {
      "cell_type": "code",
      "execution_count": null,
      "metadata": {
        "id": "VjWALJCcTDD-"
      },
      "outputs": [],
      "source": [
        "# サンプリング結果から　delta_probの値を抽出\n",
        "delta_prob_s = idata_s['posterior'].data_vars['delta_prob_s']\n",
        "delta_prob_s_values = delta_prob_s.values.reshape(-1)\n",
        "\n",
        "# delta_probの値がマイナスであった件数\n",
        "n1_s = (delta_prob_s_values < 0).sum()\n",
        "\n",
        "# 全体サンプル数\n",
        "n_s = len(delta_prob_s_values)\n",
        "\n",
        "# 比率計算\n",
        "n1_rate_s = n1_s/n_s\n",
        "print(f'鈴木さんケース　画面Aの方がクリック率が高い確率: {n1_rate_s*100:.02f}%')"
      ]
    },
    {
      "cell_type": "markdown",
      "metadata": {
        "id": "4hIky2aPLPPj"
      },
      "source": [
        "### 6.1.4 山田さんケースでABテスト効果検証"
      ]
    },
    {
      "cell_type": "markdown",
      "metadata": {
        "id": "XmbI0RY7LhAQ"
      },
      "source": [
        "#### 確率モデル構築・サンプリング・結果分析"
      ]
    },
    {
      "cell_type": "code",
      "execution_count": null,
      "metadata": {
        "id": "F-LqzuFftSHq"
      },
      "outputs": [],
      "source": [
        "model_y = pm.Model()\n",
        "\n",
        "with pm.Model() as model_y:\n",
        "    # 事前分布として一様分布を採用\n",
        "    p_y_a = pm.Uniform('p_y_a', lower=0.0, upper=1.0)\n",
        "    p_y_b = pm.Uniform('p_y_b', lower=0.0, upper=1.0)\n",
        "\n",
        "    # 二項分布で確率モデルを定義\n",
        "    # n:表示数　observed:ヒット数　とすればよい\n",
        "    obs_y_a = pm.Binomial('obs_y_a', p=p_y_a, n=1200, observed=60)\n",
        "    obs_y_b = pm.Binomial('obs_y_b', p=p_y_b, n=1600, observed=110)\n",
        "\n",
        "    # 新たな確率変数として二つの確率変数の差を定義\n",
        "    delta_prob_y = pm.Deterministic('delta_prob_y', p_y_b - p_y_a)\n",
        "\n",
        "# サンプリング\n",
        "with model_y:\n",
        "    idata_y = pm.sample(random_seed=42, target_accept=0.99)\n",
        "\n",
        "# traceの確認\n",
        "az.plot_trace(idata_y, compact=False)\n",
        "plt.tight_layout();\n",
        "plt.show()\n",
        "\n",
        "# delta_prob_yの分布を可視化\n",
        "ax = az.plot_posterior(idata_y, var_names=['delta_prob_y'])\n",
        "xx, yy = ax.get_lines()[0].get_data()\n",
        "ax.fill_between(xx[xx<0], yy[xx<0]);"
      ]
    },
    {
      "cell_type": "code",
      "execution_count": null,
      "metadata": {
        "id": "G-kXINLGvObv"
      },
      "outputs": [],
      "source": [
        "# サンプリング結果から　delta_probの値を抽出\n",
        "delta_prob_y = idata_y['posterior'].data_vars['delta_prob_y']\n",
        "delta_prob_y_values = delta_prob_y.values.reshape(-1)\n",
        "\n",
        "# delta_probの値がマイナスであった件数\n",
        "n1_y = (delta_prob_y_values < 0).sum()\n",
        "\n",
        "# 全体サンプル数\n",
        "n_y = len(delta_prob_y_values)\n",
        "\n",
        "# 比率計算\n",
        "n1_rate_y = n1_y/n_y\n",
        "\n",
        "print(f'山田さんケース　画面Aの方がクリック率が高い確率: {n1_rate_y*100:.02f}%')"
      ]
    },
    {
      "cell_type": "markdown",
      "metadata": {
        "id": "I0_cnO4fOoPL"
      },
      "source": [
        "### 6.1.5 確率モデルを直接使った別解\n"
      ]
    },
    {
      "cell_type": "markdown",
      "metadata": {
        "id": "cXPwAFZbO7oE"
      },
      "source": [
        "#### 鈴木さんケース"
      ]
    },
    {
      "cell_type": "code",
      "execution_count": null,
      "metadata": {
        "id": "onseiB__Xppa"
      },
      "outputs": [],
      "source": [
        "# 画面A 成功2回　失敗3８回\n",
        "alpha_a = 2 + 1\n",
        "beta_a = 38 + 1\n",
        "\n",
        "# 画面B 成功2回　失敗23回\n",
        "alpha_b = 2 + 1\n",
        "beta_b = 23 + 1\n",
        "\n",
        "model_s2 = pm.Model()\n",
        "with model_s2:\n",
        "    # 確率モデル定義\n",
        "    # pm.Beta: ベータ分布\n",
        "    # alpha: 注目している試行の成功数+1\n",
        "    # beta: 注目している試行の失敗数+1\n",
        "    p_a = pm.Beta('p_a', alpha=alpha_a, beta=beta_a)\n",
        "    p_b = pm.Beta('p_b', alpha=alpha_b, beta=beta_b)\n",
        "\n",
        "    # サンプル値取得\n",
        "    samples_s2 = pm.sample_prior_predictive(random_seed=42, samples=10000)\n",
        "\n",
        "# サンプル値抽出\n",
        "p_a_samples_s2 = samples_s2['prior']['p_a'].values.reshape(-1)\n",
        "p_b_samples_s2 = samples_s2['prior']['p_b'].values.reshape(-1)\n",
        "delta_a_b_s2 = p_b_samples_s2 - p_a_samples_s2\n",
        "\n",
        "# delta_probの値がマイナスであった件数\n",
        "n1_s2 = (delta_a_b_s2 < 0).sum()\n",
        "\n",
        "# 全体サンプル数\n",
        "n_s2 = len(delta_a_b_s2)\n",
        "\n",
        "# 比率計算\n",
        "n1_rate_s2 = n1_s2/n_s2\n",
        "\n",
        "# 可視化\n",
        "ax = az.plot_dist(delta_a_b_s2)\n",
        "xx, yy = ax.get_lines()[0].get_data()\n",
        "ax.fill_between(xx[xx<0], yy[xx<0])\n",
        "\n",
        "# グラフタイトル\n",
        "title = f'鈴木さんケース　画面Aの方がクリック率が高い確率(別解):\\\n",
        "{n1_rate_s2*100:.02f}%'\n",
        "ax.set_title(title, fontsize=12);"
      ]
    },
    {
      "cell_type": "markdown",
      "metadata": {
        "id": "fKvSJbNdTe6M"
      },
      "source": [
        "#### 山田さんケース"
      ]
    },
    {
      "cell_type": "code",
      "execution_count": null,
      "metadata": {
        "id": "lK-Y5pQLRqqA"
      },
      "outputs": [],
      "source": [
        "# A 成功60回　失敗1140回\n",
        "alpha_a = 60 + 1\n",
        "beta_a = 1140 + 1\n",
        "\n",
        "# B 成功110回　失敗1490回\n",
        "alpha_b = 110 + 1\n",
        "beta_b = 1490 + 1\n",
        "\n",
        "model_y2 = pm.Model()\n",
        "with model_y2:\n",
        "    # 確率モデル定義\n",
        "    # pm.Beta: ベータ分布\n",
        "    # alpha: 注目している試行の成功数+1\n",
        "    # beta: 注目している試行の失敗数+1\n",
        "    p_a = pm.Beta('p_a', alpha=alpha_a, beta=beta_a)\n",
        "    p_b = pm.Beta('p_b', alpha=alpha_b, beta=beta_b)\n",
        "\n",
        "    # サンプル値取得\n",
        "    samples_y2 = pm.sample_prior_predictive(random_seed=42, samples=10000)\n",
        "\n",
        "# サンプル値抽出\n",
        "p_a_samples_y2 = samples_y2['prior']['p_a'].values.reshape(-1)\n",
        "p_b_samples_y2 = samples_y2['prior']['p_b'].values.reshape(-1)\n",
        "delta_a_b_y2 = p_b_samples_y2 - p_a_samples_y2\n",
        "\n",
        "# delta_probの値がマイナスであった件数\n",
        "n1_y2 = (delta_a_b_y2 < 0).sum()\n",
        "\n",
        "# 全体サンプル数\n",
        "n_y2 = len(delta_a_b_y2)\n",
        "\n",
        "# 比率計算\n",
        "n1_rate_y2 = n1_y2/n_y2\n",
        "\n",
        "# 可視化\n",
        "ax = az.plot_dist(delta_a_b_y2)\n",
        "xx, yy = ax.get_lines()[0].get_data()\n",
        "ax.fill_between(xx[xx<0], yy[xx<0])\n",
        "\n",
        "# グラフタイトル\n",
        "title = f'山田さんケース　画面Aの方がクリック率が高い確率(別解):\\\n",
        "{n1_rate_y2*100:.02f}%'\n",
        "ax.set_title(title, fontsize=12);"
      ]
    },
    {
      "cell_type": "markdown",
      "metadata": {
        "id": "jE102bygTmYs"
      },
      "source": [
        "#### バージョンの確認"
      ]
    },
    {
      "cell_type": "code",
      "execution_count": null,
      "metadata": {
        "id": "b2skIcAaSbFC"
      },
      "outputs": [],
      "source": [
        "!pip install watermark | tail -n 1\n",
        "%load_ext watermark\n",
        "%watermark --iversions"
      ]
    },
    {
      "cell_type": "code",
      "execution_count": null,
      "metadata": {
        "id": "Jsl0TNsgVlA-"
      },
      "outputs": [],
      "source": []
    }
  ],
  "metadata": {
    "colab": {
      "provenance": [],
      "toc_visible": true
    },
    "kernelspec": {
      "display_name": "Python 3",
      "name": "python3"
    },
    "language_info": {
      "name": "python"
    }
  },
  "nbformat": 4,
  "nbformat_minor": 0
}