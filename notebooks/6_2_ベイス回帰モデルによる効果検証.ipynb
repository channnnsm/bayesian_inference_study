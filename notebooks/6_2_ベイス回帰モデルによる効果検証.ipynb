{
  "cells": [
    {
      "cell_type": "markdown",
      "source": [
        "``plot_trace``関数でワーニングを出さないため次のコマンド実行が必要です。"
      ],
      "metadata": {
        "id": "IvEX8cm2gUo8"
      }
    },
    {
      "cell_type": "code",
      "source": [
        "!pip install --upgrade numba | tail -n 1"
      ],
      "metadata": {
        "id": "Q3bey6oygVkm"
      },
      "execution_count": null,
      "outputs": []
    },
    {
      "cell_type": "markdown",
      "metadata": {
        "id": "mfW1NghXXjph"
      },
      "source": [
        "##  6.2 ベイス回帰モデルによる効果検証\n",
        "参照リンク　(PyMCチュートリアル)　https://www.pymc.io/projects/docs/en/stable/learn/core_notebooks/pymc_overview.html#case-study-1-educational-outcomes-for-hearing-impaired-children\n",
        "\n",
        "チュートリアルでは正則化を含んだ複雑なモデルを作っているが、簡略化して単純な線形回帰モデルを作り、各説明変数の影響度を考察する"
      ]
    },
    {
      "cell_type": "markdown",
      "metadata": {
        "id": "5GnkdjsgeSem"
      },
      "source": [
        "<a href=\"https://colab.research.google.com/github/makaishi2/python_bayes_intro/blob/main/notebooks/6_2_%E3%83%99%E3%82%A4%E3%82%B9%E5%9B%9E%E5%B8%B0%E3%83%A2%E3%83%87%E3%83%AB%E3%81%AB%E3%82%88%E3%82%8B%E5%8A%B9%E6%9E%9C%E6%A4%9C%E8%A8%BC.ipynb\" target=\"_parent\"><img src=\"https://colab.research.google.com/assets/colab-badge.svg\" alt=\"Open In Colab\"/></a>"
      ]
    },
    {
      "cell_type": "markdown",
      "metadata": {
        "id": "44VPXX5bgtKT"
      },
      "source": [
        "### 共通処理"
      ]
    },
    {
      "cell_type": "code",
      "execution_count": null,
      "metadata": {
        "id": "64-SAjF1gkms"
      },
      "outputs": [],
      "source": [
        "%matplotlib inline\n",
        "# 日本語化ライブラリ導入\n",
        "!pip install japanize-matplotlib | tail -n 1"
      ]
    },
    {
      "cell_type": "code",
      "execution_count": null,
      "metadata": {
        "id": "UKyvpbGBg3q4"
      },
      "outputs": [],
      "source": [
        "# ライブラリのimport\n",
        "\n",
        "# NumPy用ライブラリ\n",
        "import numpy as np\n",
        "# Matplotlib中のpyplotライブラリのインポート\n",
        "import matplotlib.pyplot as plt\n",
        "# matplotlib日本語化対応ライブラリのインポート\n",
        "import japanize_matplotlib\n",
        "# pandas用ライブラリ\n",
        "import pandas as pd\n",
        "# データフレーム表示用関数\n",
        "from IPython.display import display\n",
        "# seaborn\n",
        "import seaborn as sns\n",
        "# 表示オプション調整\n",
        "# NumPy表示形式の設定\n",
        "np.set_printoptions(precision=3, floatmode='fixed')\n",
        "# グラフのデフォルトフォント指定\n",
        "plt.rcParams[\"font.size\"] = 14\n",
        "# サイズ設定\n",
        "plt.rcParams['figure.figsize'] = (6, 6)\n",
        "# 方眼表示ON\n",
        "plt.rcParams['axes.grid'] = True\n",
        "# データフレームでの表示精度\n",
        "pd.options.display.float_format = '{:.3f}'.format\n",
        "# データフレームですべての項目を表示\n",
        "pd.set_option(\"display.max_columns\",None)"
      ]
    },
    {
      "cell_type": "code",
      "execution_count": null,
      "metadata": {
        "id": "Iw1YsHsqiKOP"
      },
      "outputs": [],
      "source": [
        "import pymc as pm\n",
        "import arviz as az\n",
        "\n",
        "print(f\"Running on PyMC v{pm.__version__}\")\n",
        "print(f\"Running on ArViz v{az.__version__}\")"
      ]
    },
    {
      "cell_type": "markdown",
      "metadata": {
        "id": "pKjboyDdhAqu"
      },
      "source": [
        "### 6.2.1 問題設定"
      ]
    },
    {
      "cell_type": "markdown",
      "metadata": {
        "id": "WyjYNL7khjm5"
      },
      "source": [
        "　本節では、Listening and Spoken Language Data Repository (LSL-DR)で提供されているデータを用いて、ベイス推論により線形回帰モデルを構築します。\n",
        "\n",
        "　LSL-DRは難聴の子供の音声言語スキルの発達を支援する専門教育プログラムにおける国際的なデータリポジトリです。4か国の48のプログラムで、5,748人の難聴の子供の情報を収集し、彼らの音声言語の発達に影響を与える要因を調査するデータを収集しています。\n",
        "\n",
        "\n",
        "　このデータセットには、以下のような項目が含まれています。\n",
        "\n",
        "| 項目名        | 説明                                           | 項目値      |\n",
        "| ------------- | ---------------------------------------------- | ----------- |\n",
        "| score         | 能力テストのスコア(目的変数)                   | 0-144の整数 |\n",
        "| male          | 性別                                           | 1/0         |\n",
        "| siblings      | 世帯内の兄弟の数                               | 非負整数値  |\n",
        "| family_inv    | 家族の関与の指標                               | 0-4の整数値 |\n",
        "| non_english   | 家庭での主な言語が英語ではないか               | True/False  |\n",
        "| prev_disab    | 以前の障害の存在                               | 1/0         |\n",
        "| age_test      | テスト時の年齢                                 | 48-59の整数 |\n",
        "| non_severe_hl | 重度の難聴ではないか                           | 1/0         |\n",
        "| mother_hs     | 被験者の母親が高校卒業以上の学歴を持っているか | 1/0         |\n",
        "| early_ident   | 聴覚障害が生後3か月までに特定されたか          | True/False  |\n",
        "| non_white     | 非白人                                         | True/False  |\n",
        "\n",
        "\n",
        "　目的変数は、学習ドメインにおいて標準化されたテストのスコア の1つを用いています(score)。"
      ]
    },
    {
      "cell_type": "markdown",
      "metadata": {
        "id": "j3bqcZ5oidnY"
      },
      "source": [
        "### 6.2.2 データ読み込み"
      ]
    },
    {
      "cell_type": "code",
      "execution_count": null,
      "metadata": {
        "id": "JsG19bl8g7dQ"
      },
      "outputs": [],
      "source": [
        "# LSL-DR データ読み込み\n",
        "df = pd.read_csv(pm.get_data('test_scores.csv'), index_col=0)\n",
        "\n",
        "# 結果確認\n",
        "display(df.head())"
      ]
    },
    {
      "cell_type": "markdown",
      "metadata": {
        "id": "a3R3OTtUmjvH"
      },
      "source": [
        "### 6.2.3 データ確認"
      ]
    },
    {
      "cell_type": "markdown",
      "metadata": {
        "id": "EDLkaX5HmzrI"
      },
      "source": [
        "#### 目的変数scoreの分布"
      ]
    },
    {
      "cell_type": "code",
      "execution_count": null,
      "metadata": {
        "id": "LgbugmoTipUH"
      },
      "outputs": [],
      "source": [
        "bins = np.arange(0, 150, 10)\n",
        "fig, ax = plt.subplots()\n",
        "df['score'].hist(bins=bins, align='left')\n",
        "plt.setp(ax.get_xticklabels(), rotation=90)\n",
        "plt.title('目的変数scoreスコアの分布')\n",
        "plt.xticks(bins);"
      ]
    },
    {
      "cell_type": "markdown",
      "metadata": {
        "id": "gh3mRSKPm6zZ"
      },
      "source": [
        "#### 統計情報の確認"
      ]
    },
    {
      "cell_type": "code",
      "execution_count": null,
      "metadata": {
        "id": "i9BSIMn8isEm"
      },
      "outputs": [],
      "source": [
        "df.describe()"
      ]
    },
    {
      "cell_type": "markdown",
      "metadata": {
        "id": "d4-nsEaHnETb"
      },
      "source": [
        "#### データ件数と欠損値の確認"
      ]
    },
    {
      "cell_type": "code",
      "execution_count": null,
      "metadata": {
        "id": "usmq6yUGjTJy"
      },
      "outputs": [],
      "source": [
        "# データ件数の確認\n",
        "print(f'データ件数 {len(df)}\\n')\n",
        "\n",
        "# 欠損値値の確認\n",
        "print(df.isnull().sum())"
      ]
    },
    {
      "cell_type": "markdown",
      "metadata": {
        "id": "kwypJMkVkkry"
      },
      "source": [
        "### 6.2.4 データ加工"
      ]
    },
    {
      "cell_type": "markdown",
      "metadata": {
        "id": "e3j_p0P1nS8K"
      },
      "source": [
        "#### 欠損値除去"
      ]
    },
    {
      "cell_type": "code",
      "execution_count": null,
      "metadata": {
        "id": "ACHpxyaEjy5s"
      },
      "outputs": [],
      "source": [
        "# 欠損値除去\n",
        "df1 = df.dropna().astype(float)\n",
        "\n",
        "# データ件数の確認\n",
        "print(f'データ件数 {len(df1)}')"
      ]
    },
    {
      "cell_type": "markdown",
      "metadata": {
        "id": "MIfjVv1JneCl"
      },
      "source": [
        "#### 目的変数yと説明変数Xに分離"
      ]
    },
    {
      "cell_type": "code",
      "execution_count": null,
      "metadata": {
        "id": "AaLZGSspkcK9"
      },
      "outputs": [],
      "source": [
        "y = df1.pop(\"score\")\n",
        "X = df1.copy()\n",
        "\n",
        "# Xの結果確認\n",
        "display(X.head())"
      ]
    },
    {
      "cell_type": "markdown",
      "metadata": {
        "id": "dka6ajgMnl-o"
      },
      "source": [
        "#### Xの正規化"
      ]
    },
    {
      "cell_type": "code",
      "execution_count": null,
      "metadata": {
        "id": "hVfZQT4KlGhi"
      },
      "outputs": [],
      "source": [
        "X -= X.mean()\n",
        "X /= X.std()\n",
        "\n",
        "# 結果確認\n",
        "display(X.head())"
      ]
    },
    {
      "cell_type": "markdown",
      "metadata": {
        "id": "dgmMK-F9nr26"
      },
      "source": [
        "#### ベイズモデル構築に必要な変数定義"
      ]
    },
    {
      "cell_type": "code",
      "execution_count": null,
      "metadata": {
        "id": "2vZARmUiti9t"
      },
      "outputs": [],
      "source": [
        "# データ件数とデータ項目数の設定\n",
        "N, D = X.shape\n",
        "\n",
        "# 項目名一覧をcolumnsに設定する\n",
        "columns = X.columns.values\n",
        "\n",
        "# 結果確認\n",
        "print(f'N: {N} (データ件数)\\n')\n",
        "print(f'D: {D} (説明変数項目数)\\n')\n",
        "print(f'項目名一覧: {columns}')"
      ]
    },
    {
      "cell_type": "markdown",
      "metadata": {
        "id": "mJJgPCHlmmSe"
      },
      "source": [
        "### 6.2.5 確率モデル定義"
      ]
    },
    {
      "cell_type": "code",
      "execution_count": null,
      "metadata": {
        "id": "xYuuSAdIloc3"
      },
      "outputs": [],
      "source": [
        "# 説明変数リストをpredictorsとして定義\n",
        "model1 = pm.Model(coords={'predictors': columns})\n",
        "\n",
        "with model1:\n",
        "    # Xは従来のベクトルが行列になる。転置していることに注意\n",
        "    X_data = pm.ConstantData('X_data', X.T)\n",
        "\n",
        "    # yが回帰モデルの目的変数\n",
        "    y_data = pm.ConstantData('y_data', y)\n",
        "\n",
        "    # 単回帰のときスカラーだったalphaは重回帰でベクトルになる\n",
        "    # 要素数はpredictorsにより間接的に指定できる(上でcoordsパラメータを指定した効果)\n",
        "    alpha = pm.Normal('alpha', mu=0.0, sigma=10.0, dims='predictors')\n",
        "\n",
        "    # betaとepsilonは単回帰の時と同じ(パラメータ値の選定理由は本文で説明)\n",
        "    beta = pm.Normal('beta', mu=100.0, sigma=25.0)\n",
        "    epsilon = pm.HalfNormal('epsilon', sigma=25.0)\n",
        "\n",
        "    # muの計算では、単回帰のときのかけ算が内積に変わっている\n",
        "    mu = pm.Deterministic('mu', alpha @ X_data + beta)\n",
        "\n",
        "    # 正規分布の定義は5.2節の単回帰と同じ\n",
        "    obs = pm.Normal('obs', mu=mu, sigma=epsilon, observed=y_data)\n",
        "\n",
        "g = pm.model_to_graphviz(model1)\n",
        "display(g)"
      ]
    },
    {
      "cell_type": "markdown",
      "metadata": {
        "id": "Gh-YIGW4xVqm"
      },
      "source": [
        "### 6.2.6 サンプリングと結果分析"
      ]
    },
    {
      "cell_type": "markdown",
      "metadata": {
        "id": "7UVoAYaaJRRu"
      },
      "source": [
        "#### サンプリングとplot_trace関数による」結果分析"
      ]
    },
    {
      "cell_type": "code",
      "execution_count": null,
      "metadata": {
        "id": "0ogASrZAwJWy"
      },
      "outputs": [],
      "source": [
        "with model1:\n",
        "    idata1 = pm.sample(random_seed=42, target_accept=0.95)\n",
        "\n",
        "# plot_trace関数で推論結果の確認\n",
        "az.plot_trace(idata1, var_names=['alpha', 'beta', 'epsilon'], compact=False)\n",
        "plt.tight_layout();"
      ]
    },
    {
      "cell_type": "markdown",
      "metadata": {
        "id": "IpIKPWPqJkmL"
      },
      "source": [
        "#### サンプリング結果の統計情報取得"
      ]
    },
    {
      "cell_type": "code",
      "execution_count": null,
      "metadata": {
        "id": "3Q5d5AY2249Q"
      },
      "outputs": [],
      "source": [
        "summary1 = az.summary(idata1, var_names=['alpha'])\n",
        "display(summary1)"
      ]
    },
    {
      "cell_type": "markdown",
      "metadata": {
        "id": "mIxZ821fRM5O"
      },
      "source": [
        "#### plot_forest関数で各項目の寄与度の確認"
      ]
    },
    {
      "cell_type": "code",
      "execution_count": null,
      "metadata": {
        "id": "d3yNOWxn0jbF"
      },
      "outputs": [],
      "source": [
        "az.plot_forest(idata1, combined=True, var_names=['alpha']);"
      ]
    },
    {
      "cell_type": "markdown",
      "metadata": {
        "id": "kEXNOZHARYxZ"
      },
      "source": [
        "#### plot_forest関数　combinedオプションを指定しない場合"
      ]
    },
    {
      "cell_type": "code",
      "execution_count": null,
      "metadata": {
        "id": "gzG5D3Dbx95z"
      },
      "outputs": [],
      "source": [
        "az.plot_forest(idata1, var_names=['alpha']);"
      ]
    },
    {
      "cell_type": "markdown",
      "metadata": {
        "id": "l_NxOrYJvHsk"
      },
      "source": [
        "### コラム　チュートリアルの確率モデル"
      ]
    },
    {
      "cell_type": "markdown",
      "metadata": {
        "id": "AbrseeJTvu-8"
      },
      "source": [
        "#### 確率モデル定義"
      ]
    },
    {
      "cell_type": "code",
      "execution_count": null,
      "metadata": {
        "id": "rO7ETJPNvdXl"
      },
      "outputs": [],
      "source": [
        "# D0の定義\n",
        "D0 = int(D / 2)\n",
        "\n",
        "# 説明変数リストをpredictorsとして定義\n",
        "model2 = pm.Model(coords={'predictors': columns})\n",
        "\n",
        "with model2:\n",
        "\n",
        "    # Xは従来のベクトルが行列になる。転置していることに注意\n",
        "    X_data = pm.ConstantData('X_data', X.T)\n",
        "\n",
        "    # yが回帰モデルの目的変数\n",
        "    y_data = pm.ConstantData('y_data', y)\n",
        "\n",
        "    # 誤差の分布 sigma -> epsilon 文字の置き換えのみ\n",
        "    epsilon = pm.HalfNormal('epsilon', sigma=25.0)\n",
        "\n",
        "    # 一次関数の係数の分布　beta -> alpha 定義内容も全面的に変更\n",
        "\n",
        "    # 事前分布の全体的な縮小\n",
        "    tau = pm.HalfStudentT(\"tau\", 2, D0 / (D - D0) * epsilon / np.sqrt(N))\n",
        "\n",
        "    # 事前分布の局所的な縮小\n",
        "    lam = pm.HalfStudentT(\"lam\", 2, dims=\"predictors\")\n",
        "    c2 = pm.InverseGamma(\"c2\", 1, 0.1)\n",
        "    z = pm.Normal(\"z\", 0.0, 1.0, dims=\"predictors\")\n",
        "\n",
        "    alpha = pm.Deterministic(\n",
        "        \"alpha\", z * tau * lam * pm.math.sqrt(\n",
        "        c2 / (c2 + tau**2 * lam**2)), dims=\"predictors\")\n",
        "\n",
        "    # 定数項　beta0 -> beta　文字の置き換えのみ\n",
        "    beta = pm.Normal(\"beta\",  mu=100.0, sigma=25.0)\n",
        "\n",
        "    # 正規分布の平均　mu np.dotを@に変えたがロジックは同じ\n",
        "    mu = pm.Deterministic('mu', alpha @ X_data + beta)\n",
        "\n",
        "    # 観測値の分布　scores -> obs 文字の置き換えのみ\n",
        "    obs = pm.Normal(\"obs\", mu, epsilon, observed=y_data)\n",
        "\n",
        "# 確率モデル可視化\n",
        "g = pm.model_to_graphviz(model2)\n",
        "display(g)"
      ]
    },
    {
      "cell_type": "markdown",
      "metadata": {
        "id": "i5ZqZqnh2T4k"
      },
      "source": [
        "#### サンプリングと推論結果の確認"
      ]
    },
    {
      "cell_type": "code",
      "execution_count": null,
      "metadata": {
        "id": "JtNJ2g0ev4TO"
      },
      "outputs": [],
      "source": [
        "with model2:\n",
        "    idata2 = pm.sample(random_seed=42, target_accept=0.95)\n",
        "\n",
        "# plot_trace関数で推論結果の確認\n",
        "az.plot_trace(idata2, var_names=['alpha', 'beta', 'epsilon'], compact=False)\n",
        "plt.tight_layout();"
      ]
    },
    {
      "cell_type": "markdown",
      "metadata": {
        "id": "YuSQrLJQ2xCs"
      },
      "source": [
        "#### plot_forest関数で各項目の寄与度の確認"
      ]
    },
    {
      "cell_type": "code",
      "execution_count": null,
      "metadata": {
        "id": "enV-c9OF2XDv"
      },
      "outputs": [],
      "source": [
        "az.plot_forest(idata2, combined=True, var_names=['alpha']);"
      ]
    },
    {
      "cell_type": "markdown",
      "metadata": {
        "id": "Kbeq8nKofJWK"
      },
      "source": [
        "#### サンプリング結果の統計分析"
      ]
    },
    {
      "cell_type": "code",
      "execution_count": null,
      "metadata": {
        "id": "xvOgJLxa21JJ"
      },
      "outputs": [],
      "source": [
        "summary2 = az.summary(idata2, var_names=['alpha'])\n",
        "display(summary2)"
      ]
    },
    {
      "cell_type": "markdown",
      "metadata": {
        "id": "yIpoduRaWSsJ"
      },
      "source": [
        "#### バージョンの確認"
      ]
    },
    {
      "cell_type": "code",
      "execution_count": null,
      "metadata": {
        "id": "Tn17A0Iu3hIV"
      },
      "outputs": [],
      "source": [
        "!pip install watermark | tail -n 1\n",
        "%load_ext watermark\n",
        "%watermark --iversions"
      ]
    },
    {
      "cell_type": "code",
      "execution_count": null,
      "metadata": {
        "id": "EPeyuEI6WcFC"
      },
      "outputs": [],
      "source": []
    }
  ],
  "metadata": {
    "colab": {
      "provenance": [],
      "toc_visible": true
    },
    "kernelspec": {
      "display_name": "Python 3",
      "name": "python3"
    },
    "language_info": {
      "name": "python"
    }
  },
  "nbformat": 4,
  "nbformat_minor": 0
}