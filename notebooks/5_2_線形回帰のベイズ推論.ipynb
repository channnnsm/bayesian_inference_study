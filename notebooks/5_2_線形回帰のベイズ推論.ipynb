{
  "cells": [
    {
      "cell_type": "markdown",
      "source": [
        "``plot_trace``関数でワーニングを出さないため次のコマンド実行が必要です。"
      ],
      "metadata": {
        "id": "sPUJpOrtKLYo"
      }
    },
    {
      "cell_type": "code",
      "source": [
        "!pip install --upgrade numba | tail -n 1"
      ],
      "metadata": {
        "id": "2sy-eC_jKMhy"
      },
      "execution_count": null,
      "outputs": []
    },
    {
      "cell_type": "markdown",
      "metadata": {
        "id": "uIoj_UW_qasp"
      },
      "source": [
        "## 5.2 線形回帰のベイス推論"
      ]
    },
    {
      "cell_type": "markdown",
      "metadata": {
        "id": "CW5ODy9I5R71"
      },
      "source": [
        "<a href=\"https://colab.research.google.com/github/makaishi2/python_bayes_intro/blob/main/notebooks/5_2_%E7%B7%9A%E5%BD%A2%E5%9B%9E%E5%B8%B0%E3%81%AE%E3%83%99%E3%82%A4%E3%82%BA%E6%8E%A8%E8%AB%96.ipynb\" target=\"_parent\"><img src=\"https://colab.research.google.com/assets/colab-badge.svg\" alt=\"Open In Colab\"/></a>"
      ]
    },
    {
      "cell_type": "markdown",
      "metadata": {
        "id": "vdi2sqRyqr4p"
      },
      "source": [
        "### 共通処理"
      ]
    },
    {
      "cell_type": "code",
      "execution_count": null,
      "metadata": {
        "id": "0dTjJOmIqmiS"
      },
      "outputs": [],
      "source": [
        "%matplotlib inline\n",
        "# 日本語化ライブラリ導入\n",
        "!pip install japanize-matplotlib | tail -n 1"
      ]
    },
    {
      "cell_type": "code",
      "execution_count": null,
      "metadata": {
        "id": "M46-MnBXq5-Z"
      },
      "outputs": [],
      "source": [
        "# ライブラリのimport\n",
        "\n",
        "# NumPy用ライブラリ\n",
        "import numpy as np\n",
        "# Matplotlib中のpyplotライブラリのインポート\n",
        "import matplotlib.pyplot as plt\n",
        "# matplotlib日本語化対応ライブラリのインポート\n",
        "import japanize_matplotlib\n",
        "# pandas用ライブラリ\n",
        "import pandas as pd\n",
        "# データフレーム表示用関数\n",
        "from IPython.display import display\n",
        "# seaborn\n",
        "import seaborn as sns\n",
        "# 表示オプション調整\n",
        "# NumPy表示形式の設定\n",
        "np.set_printoptions(precision=3, floatmode='fixed')\n",
        "# グラフのデフォルトフォント指定\n",
        "plt.rcParams[\"font.size\"] = 14\n",
        "# サイズ設定\n",
        "plt.rcParams['figure.figsize'] = (6, 6)\n",
        "# 方眼表示ON\n",
        "plt.rcParams['axes.grid'] = True\n",
        "# データフレームでの表示精度\n",
        "pd.options.display.float_format = '{:.3f}'.format\n",
        "# データフレームですべての項目を表示\n",
        "pd.set_option(\"display.max_columns\",None)"
      ]
    },
    {
      "cell_type": "code",
      "execution_count": null,
      "metadata": {
        "id": "my5YU9YCq-ou"
      },
      "outputs": [],
      "source": [
        "import pymc as pm\n",
        "import arviz as az\n",
        "\n",
        "print(f\"Running on PyMC v{pm.__version__}\")\n",
        "print(f\"Running on ArViz v{az.__version__}\")"
      ]
    },
    {
      "cell_type": "markdown",
      "metadata": {
        "id": "rBIfYJ_BrGUD"
      },
      "source": [
        "###  5.2.1 問題設定\n",
        "アイリスデータセットで花の種類を特定した場合、２つの項目値には正の相関があり。線形回帰(単回帰)に従うと見なせる。  \n",
        "当実習では、上の点を前提とした上で、最適な回帰式をベイズ推論で求める。  \n"
      ]
    },
    {
      "cell_type": "markdown",
      "metadata": {
        "id": "lnTxrJeXtJlG"
      },
      "source": [
        "### 5.2.2 データ準備"
      ]
    },
    {
      "cell_type": "markdown",
      "metadata": {
        "id": "qtTYOjAQlH-G"
      },
      "source": [
        "#### データ読み込みと確認"
      ]
    },
    {
      "cell_type": "code",
      "execution_count": null,
      "metadata": {
        "id": "4DkJdzLIrCFM"
      },
      "outputs": [],
      "source": [
        "# アイリスデータセットの読み込み\n",
        "df = sns.load_dataset('iris')\n",
        "\n",
        "# 先頭5行の確認\n",
        "display(df.head())\n",
        "\n",
        "#  speciesの分布確認\n",
        "df['species'].value_counts()"
      ]
    },
    {
      "cell_type": "markdown",
      "metadata": {
        "id": "OZIm6GndlUDA"
      },
      "source": [
        "#### 分析対象データ抽出"
      ]
    },
    {
      "cell_type": "code",
      "execution_count": null,
      "metadata": {
        "id": "ugzTmiojNV6m"
      },
      "outputs": [],
      "source": [
        "# versicolorの行のみ抽出\n",
        "df1 = df.query('species == \"versicolor\"')\n",
        "\n",
        "# sepal_lengthとsepal_widthの列を抽出\n",
        "X = df1['sepal_length']\n",
        "Y = df1['sepal_width']"
      ]
    },
    {
      "cell_type": "markdown",
      "metadata": {
        "id": "TMDozZ0XojEK"
      },
      "source": [
        "####  分析対象項目間の散布図表示"
      ]
    },
    {
      "cell_type": "code",
      "execution_count": null,
      "metadata": {
        "id": "RVvUfPLGVTH-"
      },
      "outputs": [],
      "source": [
        "plt.title('２つの項目間の関係')\n",
        "plt.scatter(X, Y, label='ベイズ推論で利用', c='b', marker='o')\n",
        "plt.legend()\n",
        "plt.xlabel('sepal_length')\n",
        "plt.ylabel('sepal_width');"
      ]
    },
    {
      "cell_type": "markdown",
      "metadata": {
        "id": "PgH4jGWpvoW9"
      },
      "source": [
        "### 5.2.3 確率モデル定義1"
      ]
    },
    {
      "cell_type": "markdown",
      "metadata": {
        "id": "_OL7srviYyiX"
      },
      "source": [
        "$ y_n =  \\alpha  x_n + \\beta +  \\epsilon_n$"
      ]
    },
    {
      "cell_type": "markdown",
      "metadata": {
        "id": "KGL7gLc4Iy8M"
      },
      "source": [
        "#### 確率モデル定義1\n",
        "シンプルなモデル定義の方法"
      ]
    },
    {
      "cell_type": "code",
      "execution_count": null,
      "metadata": {
        "id": "Bdk8zw3fuphC"
      },
      "outputs": [],
      "source": [
        "model1 = pm.Model()\n",
        "\n",
        "with model1:\n",
        "    # 確率変数alpha、betaの定義(一次関数の傾きと切片)\n",
        "    alpha = pm.Normal('alpha', mu=0.0, sigma=10.0)\n",
        "    beta = pm.Normal('beta', mu=0.0, sigma=10.0)\n",
        "\n",
        "    # 平均値muの計算\n",
        "    mu = alpha * X + beta\n",
        "\n",
        "    #　誤差を示す確率変数epsilonの定義\n",
        "    epsilon = pm.HalfNormal('epsilon', sigma=1.0)\n",
        "\n",
        "    # 観測値を持つ確率変数はY_obsとして定義\n",
        "    Y_obs= pm.Normal('Y_obs', mu=mu, sigma=epsilon, observed=Y)"
      ]
    },
    {
      "cell_type": "markdown",
      "metadata": {
        "id": "KP68nsy3I9Eo"
      },
      "source": [
        "#### 確率モデル構造の可視化"
      ]
    },
    {
      "cell_type": "code",
      "execution_count": null,
      "metadata": {
        "id": "WoopmWwGvvWe"
      },
      "outputs": [],
      "source": [
        "g = pm.model_to_graphviz(model1)\n",
        "display(g)"
      ]
    },
    {
      "cell_type": "markdown",
      "metadata": {
        "id": "eAKDls9dJ-Q_"
      },
      "source": [
        "### 5.2.4 確率モデル定義2\n",
        "より詳細なモデル定義の方法"
      ]
    },
    {
      "cell_type": "markdown",
      "metadata": {
        "id": "QdqlMSQOJGBz"
      },
      "source": [
        "#### 確率モデル定義2"
      ]
    },
    {
      "cell_type": "code",
      "execution_count": null,
      "metadata": {
        "id": "8ibX_Xo2J2pB"
      },
      "outputs": [],
      "source": [
        "model2 = pm.Model()\n",
        "\n",
        "with model2:\n",
        "    # X, Yの観測値をConstantDataとして定義\n",
        "    X_data = pm.ConstantData('X_data', X)\n",
        "    Y_data = pm.ConstantData('Y_data', Y)\n",
        "\n",
        "    # 確率変数alpha、betaの定義(一次関数の傾きと切片)\n",
        "    alpha = pm.Normal('alpha', mu=0.0, sigma=10.0)\n",
        "    beta = pm.Normal('beta', mu=0.0, sigma=10.0)\n",
        "\n",
        "    # 平均値muの計算\n",
        "    mu = pm.Deterministic('mu', alpha * X_data + beta)\n",
        "\n",
        "    #　誤差を示す確率変数epsilonの定義\n",
        "    epsilon = pm.HalfNormal('epsilon', sigma=1.0)\n",
        "\n",
        "    # 観測値を持つ確率変数はobsとして定義\n",
        "    obs = pm.Normal('obs', mu=mu, sigma=epsilon, observed=Y_data)"
      ]
    },
    {
      "cell_type": "markdown",
      "metadata": {
        "id": "yag_0AbFxpJ3"
      },
      "source": [
        "#### 確率モデル構造の可視化"
      ]
    },
    {
      "cell_type": "code",
      "execution_count": null,
      "metadata": {
        "id": "QtK06_gdKESL"
      },
      "outputs": [],
      "source": [
        "g = pm.model_to_graphviz(model2)\n",
        "display(g)"
      ]
    },
    {
      "cell_type": "markdown",
      "metadata": {
        "id": "_mP-yzOLv_9n"
      },
      "source": [
        "### 5.2.5 サンプリングと結果分析"
      ]
    },
    {
      "cell_type": "markdown",
      "metadata": {
        "id": "pIhC2Q0NxysT"
      },
      "source": [
        "#### サンプリング"
      ]
    },
    {
      "cell_type": "code",
      "execution_count": null,
      "metadata": {
        "id": "zQSSO-S9v4Qr"
      },
      "outputs": [],
      "source": [
        "with model2:\n",
        "    idata2 = pm.sample(random_seed=42)"
      ]
    },
    {
      "cell_type": "markdown",
      "metadata": {
        "id": "jUIFku6B0Pt0"
      },
      "source": [
        "#### plot_trace関数呼び出し"
      ]
    },
    {
      "cell_type": "code",
      "execution_count": null,
      "metadata": {
        "id": "IFYibU57KOdZ"
      },
      "outputs": [],
      "source": [
        "az.plot_trace(idata2, compact=False, var_names=['alpha', 'beta', 'epsilon'])\n",
        "plt.tight_layout();"
      ]
    },
    {
      "cell_type": "markdown",
      "metadata": {
        "id": "Nsc3eedw0ab-"
      },
      "source": [
        "#### plot_posterior関数呼び出し"
      ]
    },
    {
      "cell_type": "code",
      "execution_count": null,
      "metadata": {
        "id": "UbMt15TcrCTi"
      },
      "outputs": [],
      "source": [
        "az.plot_posterior(idata2, var_names=['alpha', 'beta', 'epsilon']);"
      ]
    },
    {
      "cell_type": "markdown",
      "metadata": {
        "id": "PTcyd5k32g6G"
      },
      "source": [
        "### 5.2.6 散布図と回帰直線の重ね描き"
      ]
    },
    {
      "cell_type": "markdown",
      "metadata": {
        "id": "d-UzacE93MZ3"
      },
      "source": [
        "#### 個別のサンプルにおける回帰直線予測値の計算"
      ]
    },
    {
      "cell_type": "code",
      "execution_count": null,
      "metadata": {
        "id": "kIMQA4gojgSk"
      },
      "outputs": [],
      "source": [
        "# xの２点をNumPy配列にする\n",
        "x_values = np.array([X.min()-0.1, X.max()+0.1])\n",
        "print(x_values, x_values.shape)\n",
        "\n",
        "# サンプリング結果からalphaとbetaを取り出しshapeを加工する\n",
        "alphas2 = idata2['posterior']['alpha'].values.reshape(-1, 1)\n",
        "betas2 = idata2['posterior']['beta'].values.reshape(-1, 1)\n",
        "\n",
        "# shapeの確認\n",
        "print(alphas2.shape, betas2.shape)\n",
        "\n",
        "# 2000パターンそれぞれで、２点の１次関数値の計算\n",
        "y_preds = x_values * alphas2 + betas2\n",
        "print(y_preds.shape)"
      ]
    },
    {
      "cell_type": "markdown",
      "metadata": {
        "id": "Px8DRNbF3PP3"
      },
      "source": [
        "#### ベイズ推論における回帰直線"
      ]
    },
    {
      "cell_type": "code",
      "execution_count": null,
      "metadata": {
        "id": "Eox4W8MtnkSv"
      },
      "outputs": [],
      "source": [
        "for y_pred in y_preds:\n",
        "    plt.plot(x_values, y_pred, lw=1, alpha=0.01, c='g')\n",
        "plt.scatter(X, Y)\n",
        "plt.title('ベイズ推論による回帰直線')\n",
        "plt.xlabel('sepal_length')\n",
        "plt.ylabel('sepal_width');"
      ]
    },
    {
      "cell_type": "markdown",
      "metadata": {
        "id": "yCzyPliQ3qWQ"
      },
      "source": [
        "###  5.2.7 少ないサンプル数でベイス推論"
      ]
    },
    {
      "cell_type": "markdown",
      "metadata": {
        "id": "PCVhshFFCdgH"
      },
      "source": [
        "#### 乱数により3個のインデックスを生成"
      ]
    },
    {
      "cell_type": "code",
      "execution_count": null,
      "metadata": {
        "id": "SRWppjjmPGat"
      },
      "outputs": [],
      "source": [
        "import random\n",
        "random.seed(42)\n",
        "indexes =range(len(X))\n",
        "sample_indexes=random.sample(indexes, 3)\n",
        "print('インデックス値', sample_indexes)\n",
        "\n",
        "# データ数を3個にする\n",
        "X_less = X.iloc[sample_indexes]\n",
        "Y_less = Y.iloc[sample_indexes]\n",
        "print('xの値', X_less.values)\n",
        "print('yの値', Y_less.values)"
      ]
    },
    {
      "cell_type": "markdown",
      "metadata": {
        "id": "FHCDa9bKCmHI"
      },
      "source": [
        "#### 抽出した3点の散布図表示"
      ]
    },
    {
      "cell_type": "code",
      "execution_count": null,
      "metadata": {
        "id": "bW2snNg6Q5sp"
      },
      "outputs": [],
      "source": [
        "plt.title('sepal_lengthとsepal_widthの関係')\n",
        "plt.scatter(X_less, Y_less, label='ベイズ推論で利用', c='b', marker='o')\n",
        "plt.legend()\n",
        "plt.xlabel('sepal_length')\n",
        "plt.ylabel('sepal_width');"
      ]
    },
    {
      "cell_type": "markdown",
      "metadata": {
        "id": "zbkUV8zaCs-8"
      },
      "source": [
        "#### 確率モデル定義とサンプリング"
      ]
    },
    {
      "cell_type": "code",
      "execution_count": null,
      "metadata": {
        "id": "pNqa0GoI3a7S"
      },
      "outputs": [],
      "source": [
        "model3 = pm.Model()\n",
        "\n",
        "with model3:\n",
        "    # X, Yの観測値をConstantDataとして定義\n",
        "    X_data = pm.ConstantData('X_data', X_less)\n",
        "    Y_data = pm.ConstantData('Y_data', Y_less)\n",
        "\n",
        "    # 確率変数alpha、betaの定義(一次関数の傾きと切片)\n",
        "    alpha = pm.Normal('alpha', mu=0.0, sigma=10.0)\n",
        "    beta = pm.Normal('beta', mu=0.0, sigma=10.0)\n",
        "\n",
        "    # 平均値muの計算\n",
        "    mu = pm.Deterministic('mu', alpha * X_data + beta)\n",
        "\n",
        "    #　誤差を示す確率変数epsilonの定義\n",
        "    epsilon = pm.HalfNormal('epsilon', sigma=1.0)\n",
        "\n",
        "    # 観測値を持つ確率変数はobsとして定義\n",
        "    obs = pm.Normal('obs', mu=mu, sigma=epsilon, observed=Y_data)\n",
        "\n",
        "    # サンプリング\n",
        "    idata3 = pm.sample(random_seed=42, target_accept=0.995)"
      ]
    },
    {
      "cell_type": "markdown",
      "metadata": {
        "id": "c2XPr0QNC3h9"
      },
      "source": [
        "#### plot_trace関数でベイズ推論結果の確認"
      ]
    },
    {
      "cell_type": "code",
      "execution_count": null,
      "metadata": {
        "id": "qmASPaG_goiN"
      },
      "outputs": [],
      "source": [
        "az.plot_trace(idata3, compact=False, var_names=['alpha', 'beta', 'epsilon'])\n",
        "plt.tight_layout();"
      ]
    },
    {
      "cell_type": "markdown",
      "metadata": {
        "id": "qLM8PGmpC-cY"
      },
      "source": [
        "#### 散布図と回帰直線の重ね描き"
      ]
    },
    {
      "cell_type": "code",
      "execution_count": null,
      "metadata": {
        "id": "1mNaKloG5O2n"
      },
      "outputs": [],
      "source": [
        "# xの２点をNumPy配列にする\n",
        "x_values = np.array([X_less.min()-0.1, X_less.max()+0.1])\n",
        "\n",
        "# サンプル値からalphaとbetaを取り出しshapeを加工する\n",
        "alphas3 = idata3['posterior']['alpha'].values.reshape(-1, 1)\n",
        "betas3 = idata3['posterior']['beta'].values.reshape(-1, 1)\n",
        "\n",
        "# 2000パターンそれぞれで、２点の１次関数値の計算\n",
        "y_preds = x_values * alphas3 + betas3\n",
        "\n",
        "# 2000組の直線を散布図と同時表示\n",
        "for y_pred in y_preds:\n",
        "    plt.plot(x_values, y_pred, lw=1, alpha=0.01, c='g')\n",
        "plt.scatter(X_less, Y_less)\n",
        "plt.ylim(1.75, 3.75)\n",
        "plt.title('ベイズ推論による回帰直線')\n",
        "plt.xlabel('sepal_length')\n",
        "plt.ylabel('sepal_width');"
      ]
    },
    {
      "cell_type": "markdown",
      "metadata": {
        "id": "bBOCfigvJl9A"
      },
      "source": [
        "### コラム　target_acceptによるチューニング"
      ]
    },
    {
      "cell_type": "markdown",
      "metadata": {
        "id": "Gv2T_qMeDGaQ"
      },
      "source": [
        "#### 確率モデル定義とサンプリング(``target_accept``パラメータなし)"
      ]
    },
    {
      "cell_type": "code",
      "execution_count": null,
      "metadata": {
        "id": "pf97GBZ_05sJ"
      },
      "outputs": [],
      "source": [
        "model4 = pm.Model()\n",
        "\n",
        "with model4:\n",
        "    # X, Yの観測値をConstantDataとして定義\n",
        "    X_data = pm.ConstantData('X_data', X_less)\n",
        "    Y_data = pm.ConstantData('Y_data', Y_less)\n",
        "\n",
        "    # 確率変数alpha、betaの定義(一次関数の傾きと切片)\n",
        "    alpha = pm.Normal('alpha', mu=0.0, sigma=10.0)\n",
        "    beta = pm.Normal('beta', mu=0.0, sigma=10.0)\n",
        "\n",
        "    # 平均値muの計算\n",
        "    mu = pm.Deterministic('mu', alpha * X_data + beta)\n",
        "\n",
        "    #　誤差を示す確率変数epsilonの定義\n",
        "    epsilon = pm.HalfNormal('epsilon', sigma=1.0)\n",
        "\n",
        "    # 観測値を持つ確率変数はobsとして定義\n",
        "    obs = pm.Normal('obs', mu=mu, sigma=epsilon, observed=Y_data)\n",
        "\n",
        "    # サンプリング\n",
        "    idata4 = pm.sample(random_seed=42)"
      ]
    },
    {
      "cell_type": "markdown",
      "metadata": {
        "id": "LO0YvmJmDLe_"
      },
      "source": [
        "#### plot_trace関数でベイズ推論結果の確認"
      ]
    },
    {
      "cell_type": "code",
      "execution_count": null,
      "metadata": {
        "id": "UFnNkdxtJ0vq"
      },
      "outputs": [],
      "source": [
        "az.plot_trace(idata4, compact=False, var_names=['alpha', 'beta', 'epsilon'])\n",
        "plt.tight_layout();"
      ]
    },
    {
      "cell_type": "markdown",
      "metadata": {
        "id": "hdRMXdvd3cw9"
      },
      "source": [
        "#### summary関数でベイズ推論結果の確認"
      ]
    },
    {
      "cell_type": "code",
      "execution_count": null,
      "metadata": {
        "id": "_sUOZ7-n1RMm"
      },
      "outputs": [],
      "source": [
        "summary4 = az.summary(idata4, var_names=['alpha', 'beta', 'epsilon'])\n",
        "display(summary4)"
      ]
    },
    {
      "cell_type": "markdown",
      "metadata": {
        "id": "F4m2U-HADRGo"
      },
      "source": [
        "#### 散布図と回帰直線の重ね描き"
      ]
    },
    {
      "cell_type": "code",
      "execution_count": null,
      "metadata": {
        "id": "Y3axvdwBJ6Qc"
      },
      "outputs": [],
      "source": [
        "# xの２点をNumPy配列にする\n",
        "x_values = np.array([X_less.min()-0.1, X_less.max()+0.1])\n",
        "\n",
        "# サンプル値からalphaとbetaを取り出しshapeを加工する\n",
        "alphas4 = idata4['posterior']['alpha'].values.reshape(-1, 1)\n",
        "betas4 = idata4['posterior']['beta'].values.reshape(-1, 1)\n",
        "\n",
        "# 2000パターンそれぞれで、２点の１次関数値の計算\n",
        "y_preds = x_values * alphas4 + betas4\n",
        "\n",
        "# 2000組の直線を散布図と同時表示\n",
        "for y_pred in y_preds:\n",
        "    plt.plot(x_values, y_pred, lw=1, alpha=0.01, c='g')\n",
        "plt.scatter(X_less, Y_less)\n",
        "plt.ylim(1.75, 3.75)\n",
        "plt.title('ベイズ推論による回帰直線')\n",
        "plt.xlabel('sepal_length')\n",
        "plt.ylabel('sepal_width');"
      ]
    },
    {
      "cell_type": "markdown",
      "metadata": {
        "id": "P-xWewzUPm65"
      },
      "source": [
        "#### バージョンの確認"
      ]
    },
    {
      "cell_type": "code",
      "execution_count": null,
      "metadata": {
        "id": "TMop6cFw1jlv"
      },
      "outputs": [],
      "source": [
        "!pip install watermark | tail -n 1\n",
        "%load_ext watermark\n",
        "%watermark --iversions"
      ]
    },
    {
      "cell_type": "code",
      "execution_count": null,
      "metadata": {
        "id": "t2UAcikzUdlq"
      },
      "outputs": [],
      "source": []
    }
  ],
  "metadata": {
    "colab": {
      "provenance": [],
      "toc_visible": true
    },
    "kernelspec": {
      "display_name": "Python 3",
      "name": "python3"
    },
    "language_info": {
      "name": "python"
    }
  },
  "nbformat": 4,
  "nbformat_minor": 0
}