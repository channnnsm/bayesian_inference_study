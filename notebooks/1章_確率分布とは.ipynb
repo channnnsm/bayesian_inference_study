{
  "cells": [
    {
      "cell_type": "markdown",
      "metadata": {
        "id": "qSPzKMVJyI1Q"
      },
      "source": [
        "## 1章　確率分布"
      ]
    },
    {
      "cell_type": "markdown",
      "metadata": {
        "id": "k78Unf4mzxD6"
      },
      "source": [
        "<a href=\"https://colab.research.google.com/github/makaishi2/python_bayes_intro/blob/main/notebooks/1%E7%AB%A0_%E7%A2%BA%E7%8E%87%E5%88%86%E5%B8%83%E3%81%A8%E3%81%AF.ipynb\" target=\"_parent\"><img src=\"https://colab.research.google.com/assets/colab-badge.svg\" alt=\"Open In Colab\"/></a>"
      ]
    },
    {
      "cell_type": "markdown",
      "metadata": {
        "id": "GnnBseyayPhn"
      },
      "source": [
        "### 共通処理"
      ]
    },
    {
      "cell_type": "code",
      "execution_count": null,
      "metadata": {
        "id": "if-gXKFKx5c9"
      },
      "outputs": [],
      "source": [
        "%matplotlib inline\n",
        "# 日本語化ライブラリ導入\n",
        "!pip install japanize-matplotlib | tail -n 1"
      ]
    },
    {
      "cell_type": "code",
      "execution_count": null,
      "metadata": {
        "id": "zS2KvH3Kx-zQ"
      },
      "outputs": [],
      "source": [
        "# ライブラリのimport\n",
        "\n",
        "# NumPy用ライブラリ\n",
        "import numpy as np\n",
        "# Matplotlib中のpyplotライブラリのインポート\n",
        "import matplotlib.pyplot as plt\n",
        "# matplotlib日本語化対応ライブラリのインポート\n",
        "import japanize_matplotlib\n",
        "# pandas用ライブラリ\n",
        "import pandas as pd\n",
        "# データフレーム表示用関数\n",
        "from IPython.display import display\n",
        "# seaborn\n",
        "import seaborn as sns\n",
        "# 表示オプション調整\n",
        "# NumPy表示形式の設定\n",
        "np.set_printoptions(precision=3, floatmode='fixed')\n",
        "# グラフのデフォルトフォント指定\n",
        "plt.rcParams[\"font.size\"] = 14\n",
        "# サイズ設定\n",
        "plt.rcParams['figure.figsize'] = (6, 6)\n",
        "# 方眼表示ON\n",
        "plt.rcParams['axes.grid'] = True\n",
        "# データフレームでの表示精度\n",
        "pd.options.display.float_format = '{:.3f}'.format\n",
        "# データフレームですべての項目を表示\n",
        "pd.set_option(\"display.max_columns\",None)"
      ]
    },
    {
      "cell_type": "markdown",
      "metadata": {
        "id": "wTy9T_N0Yz8b"
      },
      "source": [
        "### 1.3 離散分布と連続分布"
      ]
    },
    {
      "cell_type": "markdown",
      "metadata": {
        "id": "kMDHDLNGFVJ5"
      },
      "source": [
        "#### くじ引き問題の確率分布の可視化プログラム"
      ]
    },
    {
      "cell_type": "code",
      "execution_count": null,
      "metadata": {
        "id": "vqA9_i3NUaMj"
      },
      "outputs": [],
      "source": [
        "from scipy.special import comb\n",
        "n = 5\n",
        "x = range(n+1)\n",
        "y = [comb(n, i)/2**n for i in x]\n",
        "plt.bar(x, y)\n",
        "plt.title('くじ引き問題の確率分布の可視化結果');"
      ]
    },
    {
      "cell_type": "markdown",
      "metadata": {
        "id": "mEFPmS4AFkrI"
      },
      "source": [
        "#### くじ引き問題の確率分布の可視化プログラム(n=1000)"
      ]
    },
    {
      "cell_type": "code",
      "execution_count": null,
      "metadata": {
        "id": "RGPPAx6kmywq"
      },
      "outputs": [],
      "source": [
        "from scipy.special import comb\n",
        "n = 1000\n",
        "x = range(n+1)\n",
        "y = [comb(n, i)/2**n for i in x]\n",
        "plt.bar(x, y)\n",
        "plt.xlim((430,570))\n",
        "plt.title('くじ引き問題の確率分布の可視化結果(n=1000)');"
      ]
    },
    {
      "cell_type": "markdown",
      "metadata": {
        "id": "5s48or3cFrqI"
      },
      "source": [
        "#### 確率分布と正規分布関数の重ね描き"
      ]
    },
    {
      "cell_type": "code",
      "execution_count": null,
      "metadata": {
        "id": "ZZDtKNGkoMKA"
      },
      "outputs": [],
      "source": [
        "# 正規分布関数の定義\n",
        "def norm(x, mu, sigma):\n",
        "    return np.exp(-((x - mu)/sigma)**2/2) / (np.sqrt(2 * np.pi) * sigma)\n",
        "\n",
        "n = 1000\n",
        "\n",
        "# グラフ描画\n",
        "plt.xlim((430,570))\n",
        "x = np.arange(430, 571)\n",
        "\n",
        "# 確率分布のグラフ描画\n",
        "y1 = [comb(n, i)/2**n for i in x]\n",
        "plt.bar(x, y1)\n",
        "\n",
        "# 正規分布関数のグラフ描画\n",
        "mu = n/2\n",
        "sigma = np.sqrt(mu/2)\n",
        "y2 = norm(x, mu, sigma)\n",
        "plt.plot(x, y2, c='k')\n",
        "\n",
        "plt.title('確率分布と正規分布関数の重ね描き');"
      ]
    },
    {
      "cell_type": "markdown",
      "metadata": {
        "id": "jVV7J1e_GFwf"
      },
      "source": [
        "#### 正規分布関数と確率の関係正規分布関数と確率の関係"
      ]
    },
    {
      "cell_type": "code",
      "execution_count": null,
      "metadata": {
        "id": "k36bvH-Kr8kn"
      },
      "outputs": [],
      "source": [
        "n = 1000\n",
        "\n",
        "# グラフ描画\n",
        "plt.xlim((430,570))\n",
        "x = np.arange(430, 571)\n",
        "x1 = 460\n",
        "x2 = 480\n",
        "x_range = np.arange(x1, x2+1)\n",
        "\n",
        "# 正規分布関数\n",
        "mu = n/2\n",
        "sigma = np.sqrt(mu/2)\n",
        "plt.plot(x, norm(x, mu, sigma), c='k')\n",
        "plt.fill_between(x_range, 0, norm(x_range, mu, sigma), facecolor='b', alpha=0.2)\n",
        "plt.plot((x1, x1), (0, norm(x1, mu, sigma)), c='b')\n",
        "plt.plot((x2, x2), (0, norm(x2, mu, sigma)), c='b')\n",
        "plt.title('正規分布関数と確率の関係');"
      ]
    },
    {
      "cell_type": "markdown",
      "metadata": {
        "id": "4Ancrb2l6EBU"
      },
      "source": [
        "### 1.4 PyMCプログラミング"
      ]
    },
    {
      "cell_type": "markdown",
      "metadata": {
        "id": "JGsKiNojRCXl"
      },
      "source": [
        "#### インポート文"
      ]
    },
    {
      "cell_type": "code",
      "execution_count": null,
      "metadata": {
        "id": "iXT5wRuQyw3w"
      },
      "outputs": [],
      "source": [
        "import pymc as pm\n",
        "import arviz as az\n",
        "\n",
        "print(f\"Running on PyMC v{pm.__version__}\")\n",
        "print(f\"Running on ArviZ v{az.__version__}\")"
      ]
    },
    {
      "cell_type": "markdown",
      "metadata": {
        "id": "lHJ7uJVuRLac"
      },
      "source": [
        "#### 確率モデル定義"
      ]
    },
    {
      "cell_type": "code",
      "execution_count": null,
      "metadata": {
        "id": "FwlXwkox9v-k"
      },
      "outputs": [],
      "source": [
        "# 確率モデルコンテキスト用インスタンス生成\n",
        "model = pm.Model()\n",
        "\n",
        "# 先ほど定義したインスタンスを用いてwith文でコンテキストを指定\n",
        "with model:\n",
        "    # Binomial: 二項分布の確率分布クラス\n",
        "    # p: 二項分布の元になる試行の成功確率\n",
        "    # n: 二項分布における試行回数\n",
        "    # 'x':  確率変数 x のサンプル値を参照するときのラベル\n",
        "    x = pm.Binomial('x', p=0.5, n=5)"
      ]
    },
    {
      "cell_type": "markdown",
      "metadata": {
        "id": "_jZHMFWhRRJn"
      },
      "source": [
        "#### サンプリングの実施"
      ]
    },
    {
      "cell_type": "code",
      "execution_count": null,
      "metadata": {
        "id": "-wHEgO4mNr31"
      },
      "outputs": [],
      "source": [
        "# with modelのコンテキスト定義により、\n",
        "# 上で定義した確率モデルと紐付けられる\n",
        "# sample_prior_predictive: 事前分布の予測値取得関数\n",
        "# 乱数により生成されたサンプル値が変数prior_samplesにセットされる\n",
        "with model:\n",
        "    prior_samples = pm.sample_prior_predictive(random_seed=42)"
      ]
    },
    {
      "cell_type": "markdown",
      "metadata": {
        "id": "8w0TiB2eRWI5"
      },
      "source": [
        "### 1.5 サンプル値分析"
      ]
    },
    {
      "cell_type": "markdown",
      "metadata": {
        "id": "ynpfI4uAvleZ"
      },
      "source": [
        "#### notebook UIによる方法"
      ]
    },
    {
      "cell_type": "code",
      "execution_count": null,
      "metadata": {
        "id": "HRdnOGBQ8tD4"
      },
      "outputs": [],
      "source": [
        "prior_samples"
      ]
    },
    {
      "cell_type": "markdown",
      "metadata": {
        "id": "LZFPv7JAvuNe"
      },
      "source": [
        "#### NumPy形式データを抽出して分析する方法"
      ]
    },
    {
      "cell_type": "code",
      "execution_count": null,
      "metadata": {
        "id": "wTQH6mM2N2ZQ"
      },
      "outputs": [],
      "source": [
        "# 事前分布(prior)としてのサンプル値を取得\n",
        "x_samples = prior_samples['prior']['x'].values\n",
        "print('type: ', type(x_samples))\n",
        "print('shape: ', x_samples.shape)\n",
        "print('values: ' , x_samples, '\\n')\n",
        "\n",
        "# 通常のNumPyデータとして頻度分析をした例\n",
        "value_counts = pd.DataFrame(\n",
        "    x_samples.reshape(-1)).value_counts().sort_index()\n",
        "print(value_counts)"
      ]
    },
    {
      "cell_type": "markdown",
      "metadata": {
        "id": "EVt5HAdSvzLs"
      },
      "source": [
        "#### ArviZによる分析"
      ]
    },
    {
      "cell_type": "markdown",
      "metadata": {
        "id": "ay1ljOEvHpVe"
      },
      "source": [
        "#####  ArviZによるサンプル値の集計"
      ]
    },
    {
      "cell_type": "code",
      "execution_count": null,
      "metadata": {
        "id": "OHu8odHkwPfq"
      },
      "outputs": [],
      "source": [
        "summary = az.summary(prior_samples, kind='stats')\n",
        "display(summary)"
      ]
    },
    {
      "cell_type": "markdown",
      "metadata": {
        "id": "FIK3QIh_Hv5w"
      },
      "source": [
        "##### ArviZによる可視化分析"
      ]
    },
    {
      "cell_type": "code",
      "execution_count": null,
      "metadata": {
        "id": "721FFuePfYT9"
      },
      "outputs": [],
      "source": [
        "ax = az.plot_dist(x_samples)\n",
        "ax.set_title('ArviZによるサンプル値の可視化結果');"
      ]
    },
    {
      "cell_type": "markdown",
      "metadata": {
        "id": "2oUa1cRnsU_q"
      },
      "source": [
        "### バージョンの確認"
      ]
    },
    {
      "cell_type": "code",
      "execution_count": null,
      "metadata": {
        "id": "HXPitM6GS8ti"
      },
      "outputs": [],
      "source": [
        "!pip install watermark | tail -n 1\n",
        "%load_ext watermark\n",
        "%watermark --iversions"
      ]
    },
    {
      "cell_type": "code",
      "execution_count": null,
      "metadata": {
        "id": "5dY6lqRIsbWV"
      },
      "outputs": [],
      "source": []
    }
  ],
  "metadata": {
    "colab": {
      "provenance": [],
      "toc_visible": true
    },
    "kernelspec": {
      "display_name": "Python 3",
      "name": "python3"
    },
    "language_info": {
      "name": "python"
    }
  },
  "nbformat": 4,
  "nbformat_minor": 0
}