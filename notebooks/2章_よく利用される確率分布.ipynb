{
  "cells": [
    {
      "cell_type": "markdown",
      "metadata": {
        "id": "qSPzKMVJyI1Q"
      },
      "source": [
        "## 2章　よく利用される確率分布"
      ]
    },
    {
      "cell_type": "markdown",
      "metadata": {
        "id": "_HDPjKRqpywu"
      },
      "source": [
        "<a href=\"https://colab.research.google.com/github/makaishi2/python_bayes_intro/blob/main/notebooks/2%E7%AB%A0_%E3%82%88%E3%81%8F%E5%88%A9%E7%94%A8%E3%81%95%E3%82%8C%E3%82%8B%E7%A2%BA%E7%8E%87%E5%88%86%E5%B8%83.ipynb\" target=\"_parent\"><img src=\"https://colab.research.google.com/assets/colab-badge.svg\" alt=\"Open In Colab\"/></a>\n"
      ]
    },
    {
      "cell_type": "markdown",
      "metadata": {
        "id": "GnnBseyayPhn"
      },
      "source": [
        "### 共通処理"
      ]
    },
    {
      "cell_type": "code",
      "execution_count": null,
      "metadata": {
        "id": "if-gXKFKx5c9"
      },
      "outputs": [],
      "source": [
        "%matplotlib inline\n",
        "# 日本語化ライブラリ導入\n",
        "!pip install japanize-matplotlib | tail -n 1"
      ]
    },
    {
      "cell_type": "code",
      "execution_count": null,
      "metadata": {
        "id": "zS2KvH3Kx-zQ"
      },
      "outputs": [],
      "source": [
        "# ライブラリのimport\n",
        "\n",
        "# NumPy用ライブラリ\n",
        "import numpy as np\n",
        "# Matplotlib中のpyplotライブラリのインポート\n",
        "import matplotlib.pyplot as plt\n",
        "# matplotlib日本語化対応ライブラリのインポート\n",
        "import japanize_matplotlib\n",
        "# pandas用ライブラリ\n",
        "import pandas as pd\n",
        "# データフレーム表示用関数\n",
        "from IPython.display import display\n",
        "# seaborn\n",
        "import seaborn as sns\n",
        "# 表示オプション調整\n",
        "# NumPy表示形式の設定\n",
        "np.set_printoptions(precision=3, floatmode='fixed')\n",
        "# グラフのデフォルトフォント指定\n",
        "plt.rcParams[\"font.size\"] = 14\n",
        "# サイズ設定\n",
        "plt.rcParams['figure.figsize'] = (6, 6)\n",
        "# 方眼表示ON\n",
        "plt.rcParams['axes.grid'] = True\n",
        "# データフレームでの表示精度\n",
        "pd.options.display.float_format = '{:.3f}'.format\n",
        "# データフレームですべての項目を表示\n",
        "pd.set_option(\"display.max_columns\",None)"
      ]
    },
    {
      "cell_type": "code",
      "execution_count": null,
      "metadata": {
        "id": "MFjinDyer3ue"
      },
      "outputs": [],
      "source": [
        "import pymc as pm\n",
        "import arviz as az\n",
        "\n",
        "print(f\"Running on PyMC v{pm.__version__}\")\n",
        "print(f\"Running on ArViz v{az.__version__}\")"
      ]
    },
    {
      "cell_type": "markdown",
      "metadata": {
        "id": "V2FVffYn3_vQ"
      },
      "source": [
        "### 2.1 ベルヌーイ分布"
      ]
    },
    {
      "cell_type": "markdown",
      "metadata": {
        "id": "6AeYYMb05uxO"
      },
      "source": [
        "#### 確率モデル定義"
      ]
    },
    {
      "cell_type": "code",
      "execution_count": null,
      "metadata": {
        "id": "4Vv8KwJ72gpZ"
      },
      "outputs": [],
      "source": [
        "# パラメータ設定\n",
        "p = 0.5\n",
        "\n",
        "model1 = pm.Model()\n",
        "with model1:\n",
        "    # pm.Bernoulli: ベルヌーイ分布\n",
        "    # p: くじに当たる確率\n",
        "    x = pm.Bernoulli('x', p=p)"
      ]
    },
    {
      "cell_type": "markdown",
      "metadata": {
        "id": "IeElm9j9mORW"
      },
      "source": [
        "#### サンプリング"
      ]
    },
    {
      "cell_type": "code",
      "execution_count": null,
      "metadata": {
        "id": "DsCTkXRfmLrM"
      },
      "outputs": [],
      "source": [
        "with model1:\n",
        "    prior_samples1 = pm.sample_prior_predictive(random_seed=42)"
      ]
    },
    {
      "cell_type": "markdown",
      "metadata": {
        "id": "r4b5ULfjjAQk"
      },
      "source": [
        "#### 結果分析"
      ]
    },
    {
      "cell_type": "markdown",
      "metadata": {
        "id": "EI_Z1Z03jLo9"
      },
      "source": [
        "##### NumPy形式のサンプル値抽出"
      ]
    },
    {
      "cell_type": "code",
      "execution_count": null,
      "metadata": {
        "id": "wQGWtIkNeb_S"
      },
      "outputs": [],
      "source": [
        "x_samples1 = prior_samples1['prior']['x'].values\n",
        "print(x_samples1)"
      ]
    },
    {
      "cell_type": "markdown",
      "metadata": {
        "id": "K62w1LCljUVd"
      },
      "source": [
        "##### サンプリング結果の統計分析"
      ]
    },
    {
      "cell_type": "code",
      "execution_count": null,
      "metadata": {
        "id": "jC8fnBaVecli"
      },
      "outputs": [],
      "source": [
        "summary1 = az.summary(prior_samples1, kind='stats')\n",
        "display(summary1)"
      ]
    },
    {
      "cell_type": "markdown",
      "metadata": {
        "id": "08BmsYxxjdAX"
      },
      "source": [
        "  ##### サンプリング結果の可視化"
      ]
    },
    {
      "cell_type": "code",
      "execution_count": null,
      "metadata": {
        "id": "XioagmXMecw_"
      },
      "outputs": [],
      "source": [
        "ax = az.plot_dist(x_samples1)\n",
        "ax.set_title(f'ベルヌーイ分布　p={p}');"
      ]
    },
    {
      "cell_type": "markdown",
      "metadata": {
        "id": "RuXmoumC7kKU"
      },
      "source": [
        "### 2.2 二項分布"
      ]
    },
    {
      "cell_type": "markdown",
      "metadata": {
        "id": "4JmV0ZxGmvcm"
      },
      "source": [
        "#### 確率モデル定義(p=0.5, n=5)"
      ]
    },
    {
      "cell_type": "code",
      "execution_count": null,
      "metadata": {
        "id": "_xWgSMM4m2ga"
      },
      "outputs": [],
      "source": [
        "# パラメータ設定\n",
        "p = 0.5\n",
        "n = 5\n",
        "\n",
        "model2 = pm.Model()\n",
        "with model2:\n",
        "    # pm.Binomial: 二項分布\n",
        "    # p: くじに当たる確率\n",
        "    # n: 試行回数\n",
        "    x = pm.Binomial('x', p=p, n=n)"
      ]
    },
    {
      "cell_type": "markdown",
      "metadata": {
        "id": "hTWTdG5PaWAp"
      },
      "source": [
        "#### サンプルリングと結果分析"
      ]
    },
    {
      "cell_type": "code",
      "execution_count": null,
      "metadata": {
        "id": "Mp5GiheQz0R4"
      },
      "outputs": [],
      "source": [
        "with model2:\n",
        "    # サンプリング\n",
        "    prior_samples2 = pm.sample_prior_predictive(random_seed=42)\n",
        "\n",
        "# サンプル値抽出\n",
        "x_samples2 = prior_samples2['prior']['x'].values\n",
        "print(x_samples2)\n",
        "\n",
        "# サンプリング結果の統計分析\n",
        "summary2 = az.summary(prior_samples2, kind='stats')\n",
        "display(summary2)\n",
        "\n",
        "# サンプリング結果の可視化\n",
        "ax = az.plot_dist(x_samples2)\n",
        "ax.set_title(f'二項分布　p={p} n={n}');"
      ]
    },
    {
      "cell_type": "markdown",
      "metadata": {
        "id": "R7sDSnw0ePzC"
      },
      "source": [
        "#### 確率モデル定義(p=0.5, n=50)、サンプリング"
      ]
    },
    {
      "cell_type": "code",
      "execution_count": null,
      "metadata": {
        "id": "5njw6OoteX7V"
      },
      "outputs": [],
      "source": [
        "# パラメータ設定\n",
        "p = 0.5\n",
        "n = 50\n",
        "\n",
        "model3 = pm.Model()\n",
        "with model3:\n",
        "    # pm.Binomial: 二項分布\n",
        "    # p: くじに当たる確率\n",
        "    # n: 試行回数\n",
        "    x = pm.Binomial('x', p=p, n=n)\n",
        "\n",
        "    # サンプリング\n",
        "    prior_samples3 = pm.sample_prior_predictive(random_seed=42)\n",
        "\n",
        "# サンプル値の抽出\n",
        "x_samples3 = prior_samples3['prior']['x'].values\n",
        "print(x_samples3)\n",
        "\n",
        "# サンプリング結果の統計分析\n",
        "summary3 = az.summary(prior_samples3, kind='stats')\n",
        "display(summary3)\n",
        "\n",
        "# サンプリング結果の可視化\n",
        "ax = az.plot_dist(x_samples3)\n",
        "ax.set_title(f'二項分布　p={p} n={n}');"
      ]
    },
    {
      "cell_type": "markdown",
      "metadata": {
        "id": "D5c1V9sWyew2"
      },
      "source": [
        "### 2.3 正規分布"
      ]
    },
    {
      "cell_type": "markdown",
      "metadata": {
        "id": "AQKScIlU6BhP"
      },
      "source": [
        "#### アイリスデータセットからsetosaのがく片長(sepal_length)の分布を調べる"
      ]
    },
    {
      "cell_type": "code",
      "execution_count": null,
      "metadata": {
        "id": "G98iCww4tszh"
      },
      "outputs": [],
      "source": [
        "# アイリスデータセットの読み込み\n",
        "df = sns.load_dataset('iris')\n",
        "\n",
        "# setosaの行のみ抽出\n",
        "df1 = df.query('species == \"setosa\"')\n",
        "\n",
        "bins = np.arange(4.0, 6.2, 0.2)\n",
        "# 分布の確認\n",
        "sns.histplot(df1, x='sepal_length', bins=bins, kde=True)\n",
        "plt.xticks(bins);"
      ]
    },
    {
      "cell_type": "markdown",
      "metadata": {
        "id": "D63c7o4dg_CI"
      },
      "source": [
        "#### 正規分布関数のグラフ"
      ]
    },
    {
      "cell_type": "code",
      "execution_count": null,
      "metadata": {
        "id": "tKUs3ia1hPcJ"
      },
      "outputs": [],
      "source": [
        "# 正規分布関数の定義\n",
        "# 式(2.3)をNumPyで実装\n",
        "def norm(x, mu, sigma):\n",
        "    return np.exp(-((x - mu)/sigma)**2/2) / (np.sqrt(2 * np.pi) * sigma)\n",
        "\n",
        "# パラメータ定義\n",
        "mu1, sigma1 = 3.0, 2.0\n",
        "mu2, sigma2 = 1.0, 3.0\n",
        "\n",
        "# グラフ描画用x座標の定義\n",
        "# 2つの正規分布関数で±3sigmaまで入るように計算\n",
        "x = np.arange(-8.0, 10.0, 0.01)\n",
        "\n",
        "# x軸目盛の設定\n",
        "xticks = np.arange(-8.0, 11.0, 1.0)\n",
        "\n",
        "# グラフ描画\n",
        "plt.plot(x, norm(x, mu1, sigma1), label=f'mu={mu1} sigma={sigma1}')\n",
        "plt.plot(x, norm(x, mu2, sigma2), label=f'mu={mu2} sigma={sigma2}')\n",
        "plt.xticks(xticks, fontsize=12)\n",
        "plt.legend(fontsize=12)\n",
        "plt.title(f'正規分布関数のグラフ');"
      ]
    },
    {
      "cell_type": "markdown",
      "metadata": {
        "id": "QAVR3w4EFEjT"
      },
      "source": [
        "#### 確率モデル定義(mu=0.0 sigma=1.0)"
      ]
    },
    {
      "cell_type": "code",
      "execution_count": null,
      "metadata": {
        "id": "Fnji26SwnRk_"
      },
      "outputs": [],
      "source": [
        "# パラメータ設定\n",
        "mu = 0.0\n",
        "sigma = 1.0\n",
        "\n",
        "model4 = pm.Model()\n",
        "with model4:\n",
        "    # pm.Normal: 正規分布\n",
        "    # mu:平均\n",
        "    # sigma:標準偏差\n",
        "    x = pm.Normal('x', mu=mu, sigma=sigma)"
      ]
    },
    {
      "cell_type": "markdown",
      "metadata": {
        "id": "EnSsbn83nns3"
      },
      "source": [
        "#### サンプリング"
      ]
    },
    {
      "cell_type": "code",
      "execution_count": null,
      "metadata": {
        "id": "TLqU5QKoEfyO"
      },
      "outputs": [],
      "source": [
        "with model4:\n",
        "    # サンプリング\n",
        "    prior_samples4 = pm.sample_prior_predictive(random_seed=42)\n",
        "\n",
        "# サンプル値抽出\n",
        "x_samples4 = prior_samples4['prior']['x'].values\n",
        "# 桁数が多いので先頭100個だけに限定\n",
        "print(x_samples4[:,:100])\n",
        "\n",
        "# サンプリング結果の可視化\n",
        "ax = az.plot_dist(x_samples4)\n",
        "ax.set_title(f'正規分布　mu={mu} sigma={sigma}');"
      ]
    },
    {
      "cell_type": "markdown",
      "metadata": {
        "id": "IbAe3Wean8mY"
      },
      "source": [
        "#### ヒストグラムによる表示"
      ]
    },
    {
      "cell_type": "code",
      "execution_count": null,
      "metadata": {
        "id": "Buugvn-HyLNt"
      },
      "outputs": [],
      "source": [
        "bins = np.arange(-3,3.5,0.5)\n",
        "ax = az.plot_dist(x_samples4, kind='hist',\n",
        "    hist_kwargs={'bins':bins})\n",
        "plt.xticks(np.arange(-3,4,1))\n",
        "ax.set_title(f'正規分布　mu={mu} sigma={sigma}');"
      ]
    },
    {
      "cell_type": "markdown",
      "metadata": {
        "id": "C16uB7eSoKGe"
      },
      "source": [
        "#### サンプリング結果の統計分析"
      ]
    },
    {
      "cell_type": "code",
      "execution_count": null,
      "metadata": {
        "id": "yfWlnJJvUN_2"
      },
      "outputs": [],
      "source": [
        "summary4 = az.summary(prior_samples4, kind='stats')\n",
        "display(summary4)"
      ]
    },
    {
      "cell_type": "markdown",
      "metadata": {
        "id": "9UL_s5dgNya8"
      },
      "source": [
        "\n",
        "#### 確率モデル定義(mu=3.0 sigma=2,0)とサンプリング結果分析\n"
      ]
    },
    {
      "cell_type": "code",
      "execution_count": null,
      "metadata": {
        "id": "rxafvDj7N8EY"
      },
      "outputs": [],
      "source": [
        "# パラメータ設定\n",
        "mu = 3.0\n",
        "sigma = 2.0\n",
        "\n",
        "model5 = pm.Model()\n",
        "with model5:\n",
        "    # pm.Normal: 正規分布\n",
        "    # mu:平均\n",
        "    # sigma:標準偏差\n",
        "    x = pm.Normal('x', mu=mu, sigma=sigma)\n",
        "\n",
        "    # サンプリング\n",
        "    prior_samples5 = pm.sample_prior_predictive(random_seed=42)\n",
        "\n",
        "# サンプル値抽出\n",
        "x_samples5 = prior_samples5['prior']['x'].values\n",
        "# 桁数が多いので先頭100個だけに限定\n",
        "print(x_samples5[:,:100])\n",
        "\n",
        "# サンプリング結果の可視化\n",
        "ax = az.plot_dist(x_samples5)\n",
        "ax.set_title(f'正規分布　mu={mu} sigma={sigma}');"
      ]
    },
    {
      "cell_type": "markdown",
      "metadata": {
        "id": "3NbxwxD7opmY"
      },
      "source": [
        "#### ヒストグラムによる表示"
      ]
    },
    {
      "cell_type": "code",
      "execution_count": null,
      "metadata": {
        "id": "GcVsbbze1Y3F"
      },
      "outputs": [],
      "source": [
        "bins = np.arange(-4, 10, 1.0)\n",
        "az.plot_dist(x_samples5, kind='hist',\n",
        "    hist_kwargs={'bins':bins})\n",
        "plt.title(f'正規分布　mu={mu} sigma={sigma}');"
      ]
    },
    {
      "cell_type": "markdown",
      "metadata": {
        "id": "2tyW19U6oxY0"
      },
      "source": [
        "#### サンプリング結果の統計分析"
      ]
    },
    {
      "cell_type": "code",
      "execution_count": null,
      "metadata": {
        "id": "yPA63AOXj8kd"
      },
      "outputs": [],
      "source": [
        "summary5 = az.summary(prior_samples5, kind='stats')\n",
        "display(summary5)"
      ]
    },
    {
      "cell_type": "markdown",
      "metadata": {
        "id": "BpDJ0b5K0r6A"
      },
      "source": [
        "### 2.4 一様分布"
      ]
    },
    {
      "cell_type": "markdown",
      "metadata": {
        "id": "WBBD8wB80r6B"
      },
      "source": [
        "#### 確率モデル生成(lower=0.0, upper=1.0)"
      ]
    },
    {
      "cell_type": "code",
      "execution_count": null,
      "metadata": {
        "id": "KnNUsf5t0r6B"
      },
      "outputs": [],
      "source": [
        "# パラメータ設定\n",
        "lower = 0.0\n",
        "upper = 1.0\n",
        "\n",
        "model6 = pm.Model()\n",
        "with model6:\n",
        "    # pm.Uniform: 一様分布\n",
        "    # lower: 下限値\n",
        "    # upper: 上限値\n",
        "    x = pm.Uniform('x', lower=lower, upper=upper)"
      ]
    },
    {
      "cell_type": "markdown",
      "metadata": {
        "id": "FNeanQrMzU_g"
      },
      "source": [
        "#### サンプリングと結果分析"
      ]
    },
    {
      "cell_type": "code",
      "execution_count": null,
      "metadata": {
        "id": "JCOcBNh4zGm6"
      },
      "outputs": [],
      "source": [
        "with model6:\n",
        "    # サンプリング\n",
        "    prior_samples6 = pm.sample_prior_predictive(random_seed=42)\n",
        "\n",
        "# サンプル値抽出\n",
        "x_samples6 = prior_samples6['prior']['x'].values\n",
        "print(x_samples6[:,:100])\n",
        "\n",
        "# サンプリング結果の可視化\n",
        "ax = az.plot_dist(x_samples6)\n",
        "ax.set_title(f'一様分布 lower={lower} upper={upper}');"
      ]
    },
    {
      "cell_type": "markdown",
      "metadata": {
        "id": "N9dDyAcYzgZe"
      },
      "source": [
        "#### サンプリング結果のヒストグラム表示"
      ]
    },
    {
      "cell_type": "code",
      "execution_count": null,
      "metadata": {
        "id": "86m9Frob0r6B"
      },
      "outputs": [],
      "source": [
        "bins = np.arange(0.0,1.1,0.1)\n",
        "ax = az.plot_dist(x_samples6, kind='hist',\n",
        "    hist_kwargs={'bins':bins})\n",
        "ax.set_title(f'一様分布 lower={lower} upper={upper}');"
      ]
    },
    {
      "cell_type": "markdown",
      "metadata": {
        "id": "g-WJZdGmzydc"
      },
      "source": [
        "#### サンプリング結果の統計分析"
      ]
    },
    {
      "cell_type": "code",
      "execution_count": null,
      "metadata": {
        "id": "0lFYJata0r6B"
      },
      "outputs": [],
      "source": [
        "summary6 = az.summary(prior_samples6, kind='stats')\n",
        "display(summary6)"
      ]
    },
    {
      "cell_type": "markdown",
      "metadata": {
        "id": "SQyXSOI10r6B"
      },
      "source": [
        "#### 確率モデル定義(下限値0.1、上限値0.9)とサンプリング結果分析"
      ]
    },
    {
      "cell_type": "code",
      "execution_count": null,
      "metadata": {
        "id": "s9X1aBeE0r6C"
      },
      "outputs": [],
      "source": [
        "# パラメータ設定\n",
        "lower = 0.1\n",
        "upper = 0.9\n",
        "\n",
        "model7 = pm.Model()\n",
        "with model7:\n",
        "    # pm.Uniform: 一様分布\n",
        "    # lower: 下限値\n",
        "    # upper: 上限値\n",
        "    x = pm.Uniform('x', lower=lower, upper=upper)\n",
        "\n",
        "    # サンプリング\n",
        "    prior_samples7 = pm.sample_prior_predictive(random_seed=42)\n",
        "\n",
        "# サンプル値抽出\n",
        "x_samples7 = prior_samples7['prior']['x'].values\n",
        "print(x_samples7[:,:100])\n",
        "\n",
        "# サンプリング結果の可視化\n",
        "ax = az.plot_dist(x_samples7)\n",
        "ax.set_title(f'一様分布 lower={lower} upper={upper}');"
      ]
    },
    {
      "cell_type": "markdown",
      "metadata": {
        "id": "383Drcj96eTu"
      },
      "source": [
        "#### サンプリング結果のヒストグラム表示"
      ]
    },
    {
      "cell_type": "code",
      "execution_count": null,
      "metadata": {
        "id": "5kXo7wOi0r6C"
      },
      "outputs": [],
      "source": [
        "bins = np.arange(0.0,1.1,0.1)\n",
        "ax = az.plot_dist(x_samples7, kind='hist',\n",
        "    hist_kwargs={'bins':bins})\n",
        "ax.set_title(f'一様分布 lower={lower} upper={upper}');"
      ]
    },
    {
      "cell_type": "markdown",
      "metadata": {
        "id": "ovR31ClSp52k"
      },
      "source": [
        "### 2.5 ベータ分布"
      ]
    },
    {
      "cell_type": "markdown",
      "metadata": {
        "id": "TwCpKKFRO8sD"
      },
      "source": [
        "#### ベータ関数のグラフ (alpha=3, beta=4)"
      ]
    },
    {
      "cell_type": "code",
      "execution_count": null,
      "metadata": {
        "id": "EHpCr4MSPCmv"
      },
      "outputs": [],
      "source": [
        "from math import gamma\n",
        "\n",
        "# パラメータ定義\n",
        "alpha = 2.0 + 1.0\n",
        "beta = 3.0 + 1.0\n",
        "\n",
        "# ベータ関数の定義\n",
        "def Beta(p, alpha, beta):\n",
        "    C = gamma(alpha+beta-1)/(gamma(alpha-1)*gamma(beta-1))\n",
        "    return C * p ** (alpha-1) * (1-p) ** (beta-1)\n",
        "\n",
        "# グラフ描画用x座標の定義\n",
        "# 0.0 < p < 1.0\n",
        "p = np.arange(0.0, 1.0, 0.01)\n",
        "\n",
        "# グラフ描画\n",
        "plt.plot(p, Beta(p, alpha, beta))\n",
        "plt.title(f'ベータ関数 alpha={alpha} beta={beta}')\n",
        "plt.xlabel(r'$p$')\n",
        "plt.ylabel('尤度');"
      ]
    },
    {
      "cell_type": "markdown",
      "metadata": {
        "id": "egmIRPJShXmi"
      },
      "source": [
        "#### 確率モデル定義(alpha=3, beta=4)"
      ]
    },
    {
      "cell_type": "code",
      "execution_count": null,
      "metadata": {
        "id": "H7SO9QbZhoaj"
      },
      "outputs": [],
      "source": [
        "# パラメータ設定\n",
        "alpha = 2.0 + 1.0\n",
        "beta = 3.0 + 1.0\n",
        "\n",
        "model8 = pm.Model()\n",
        "with model8:\n",
        "    # pm.Beta: ベータ分布\n",
        "    # alpha:くじに当たった回数+1\n",
        "    # beta:くじにはずれた回数+1\n",
        "    p = pm.Beta('p', alpha=alpha, beta=beta)"
      ]
    },
    {
      "cell_type": "markdown",
      "metadata": {
        "id": "8B9IszOAp-cD"
      },
      "source": [
        "#### サンプリングと結果分析"
      ]
    },
    {
      "cell_type": "code",
      "execution_count": null,
      "metadata": {
        "id": "yHBfUMQe3aHg"
      },
      "outputs": [],
      "source": [
        "with model8:\n",
        "    # サンプリング\n",
        "    prior_samples8 = pm.sample_prior_predictive(random_seed=42)\n",
        "\n",
        "# サンプル値抽出\n",
        "p_samples8 = prior_samples8['prior']['p'].values\n",
        "# 桁数が多いので先頭100個だけに限定\n",
        "print(p_samples8[:,:100])\n",
        "\n",
        "# サンプリング結果の可視化\n",
        "ax = az.plot_dist(p_samples8)\n",
        "ax.set_title(f'ベータ分布　alpha={alpha} beta={beta}');"
      ]
    },
    {
      "cell_type": "markdown",
      "metadata": {
        "id": "pK7QeaMF-Fdz"
      },
      "source": [
        "#### サンプル結果のヒストグラム表示"
      ]
    },
    {
      "cell_type": "code",
      "execution_count": null,
      "metadata": {
        "id": "harYf2O0PmWa"
      },
      "outputs": [],
      "source": [
        "bins = np.arange(0, 1.0, 0.1)\n",
        "ax = az.plot_dist(p_samples8, kind='hist',\n",
        "    hist_kwargs={'bins':bins})\n",
        "ax.set_title(f'ベータ分布　alpha={alpha} beta={beta}');"
      ]
    },
    {
      "cell_type": "markdown",
      "metadata": {
        "id": "0UcKz_h3-Luk"
      },
      "source": [
        "#### サンプリング結果の統計分析"
      ]
    },
    {
      "cell_type": "code",
      "execution_count": null,
      "metadata": {
        "id": "nXj3usJiqc0G"
      },
      "outputs": [],
      "source": [
        "summary8 = az.summary(prior_samples8, kind='stats')\n",
        "display(summary8)"
      ]
    },
    {
      "cell_type": "markdown",
      "metadata": {
        "id": "AzPiLT0us7MB"
      },
      "source": [
        "#### 確率モデル定義(alpha=21, beta=31)とサンプリング結果分析"
      ]
    },
    {
      "cell_type": "code",
      "execution_count": null,
      "metadata": {
        "id": "69gh_aAotDLU"
      },
      "outputs": [],
      "source": [
        "# パラメータ設定\n",
        "alpha = 20.0 + 1.0\n",
        "beta = 30.0 + 1.0\n",
        "\n",
        "model9 = pm.Model()\n",
        "with model9:\n",
        "    # pm.Beta: ベータ分布\n",
        "    # alpha: 注目している試行の成功数+1\n",
        "    # beta: 注目している試行の失敗数+1\n",
        "    p = pm.Beta('p', alpha=alpha, beta=beta)\n",
        "\n",
        "    # サンプリング\n",
        "    prior_samples9 = pm.sample_prior_predictive(random_seed=42)\n",
        "\n",
        "# サンプル値抽出\n",
        "p_samples9 = prior_samples9['prior']['p'].values\n",
        "# 桁数が多いので先頭100個だけに限定\n",
        "print(p_samples9[:,:100])\n",
        "\n",
        "# サンプリング結果の可視化\n",
        "ax = az.plot_dist(p_samples9)\n",
        "ax.set_title(f'ベータ分布　alpha={alpha} beta={beta}');"
      ]
    },
    {
      "cell_type": "markdown",
      "metadata": {
        "id": "D6dw3ewx9e1o"
      },
      "source": [
        "####  サンプリング結果のヒストグラム表示"
      ]
    },
    {
      "cell_type": "code",
      "execution_count": null,
      "metadata": {
        "id": "2CqSleyh9lTb"
      },
      "outputs": [],
      "source": [
        "bins = np.arange(0.2, 0.6, 0.05)\n",
        "ax = az.plot_dist(p_samples9, kind='hist',\n",
        "    hist_kwargs={'bins':bins})\n",
        "ax.set_title(f'ベータ分布　alpha={alpha} beta={beta}');"
      ]
    },
    {
      "cell_type": "markdown",
      "metadata": {
        "id": "JLu5fQi-9vSQ"
      },
      "source": [
        "#### サンプリング結果の統計分析"
      ]
    },
    {
      "cell_type": "code",
      "execution_count": null,
      "metadata": {
        "id": "tDqFx7kBuOPu"
      },
      "outputs": [],
      "source": [
        "summary9 = az.summary(prior_samples9, kind='stats')\n",
        "display(summary9)"
      ]
    },
    {
      "cell_type": "markdown",
      "metadata": {
        "id": "fz7Yh56ivI84"
      },
      "source": [
        "### 2.6 半正規分布\n"
      ]
    },
    {
      "cell_type": "markdown",
      "metadata": {
        "id": "FBP9NkXcincj"
      },
      "source": [
        "#### 確率モデル定義(sigma=1.0)"
      ]
    },
    {
      "cell_type": "code",
      "execution_count": null,
      "metadata": {
        "id": "RfeOhJBbitiW"
      },
      "outputs": [],
      "source": [
        "# パラメータ設定\n",
        "sigma = 1.0\n",
        "\n",
        "model10 = pm.Model()\n",
        "with model10:\n",
        "    # pm.HalfNormal: 半正規分布\n",
        "    # sigma: 標準偏差\n",
        "    x = pm.HalfNormal('x', sigma=sigma)"
      ]
    },
    {
      "cell_type": "markdown",
      "metadata": {
        "id": "tsAlzrNZ65OY"
      },
      "source": [
        "#### サンプリングと結果分析"
      ]
    },
    {
      "cell_type": "code",
      "execution_count": null,
      "metadata": {
        "id": "HXPitM6GS8ti"
      },
      "outputs": [],
      "source": [
        "with model10:\n",
        "    # サンプリング\n",
        "    prior_samples10 = pm.sample_prior_predictive(random_seed=42)\n",
        "\n",
        "# サンプル値抽出\n",
        "x_samples10 = prior_samples10['prior']['x'].values\n",
        "# 桁数が多いので先頭100個だけに限定\n",
        "print(x_samples10[:,:100])\n",
        "\n",
        "# サンプリング結果の可視化\n",
        "ax = az.plot_dist(x_samples10)\n",
        "ax.set_title(f'半正規分布　sigma={sigma}');"
      ]
    },
    {
      "cell_type": "markdown",
      "metadata": {
        "id": "wiDbfCpCipD4"
      },
      "source": [
        "### コラム　HDIとCIの違い"
      ]
    },
    {
      "cell_type": "markdown",
      "metadata": {
        "id": "icIVVsY07OhJ"
      },
      "source": [
        " #### CIグラフ描画準備"
      ]
    },
    {
      "cell_type": "code",
      "execution_count": null,
      "metadata": {
        "id": "DkY_18VJiyNz"
      },
      "outputs": [],
      "source": [
        "# カイ2乗分布(nu=3)の確率密度関数\n",
        "def qui_square(x):\n",
        "    w = x/(2*np.pi)\n",
        "    return np.sqrt(w) * np.exp(-x/2)\n",
        "\n",
        "# x1, x2はa1, a2の値が0.1になるようにヒューリスティックに求めた\n",
        "x1 = 0.585\n",
        "x2 = 6.25\n",
        "\n",
        "# 数値積分でグラフの面積を計算\n",
        "from scipy import integrate\n",
        "a1, _err1 = integrate.quad(qui_square, 0, x1)\n",
        "a2, _err2 = integrate.quad(qui_square, x2, 1000)\n",
        "a = np.array([a1, a2])\n",
        "print(a)"
      ]
    },
    {
      "cell_type": "markdown",
      "metadata": {
        "id": "w99-tzvA7Wa4"
      },
      "source": [
        "#### CIグラフ描画"
      ]
    },
    {
      "cell_type": "code",
      "execution_count": null,
      "metadata": {
        "id": "eNmmR9lJiyYe"
      },
      "outputs": [],
      "source": [
        "x = np.arange(0.0, 15, 0.01)\n",
        "x_between = (x1 < x) & (x  < x2)\n",
        "y = qui_square(x)\n",
        "plt.plot(x, y)\n",
        "plt.fill_between(x, 0, y, where=x_between, color='b')\n",
        "plt.plot((x1, x1), (0, 0.25), c='k')\n",
        "plt.plot((x2, x2), (0, 0.25), c='k')\n",
        "plt.title('CI (confidence interval)の考え方');"
      ]
    },
    {
      "cell_type": "markdown",
      "metadata": {
        "id": "XT459NRt7gT8"
      },
      "source": [
        "#### HDIグラフ描画準備"
      ]
    },
    {
      "cell_type": "code",
      "execution_count": null,
      "metadata": {
        "id": "C9-7Be2_u9QL"
      },
      "outputs": [],
      "source": [
        "from scipy import optimize\n",
        "\n",
        "def h(x):\n",
        "    return qui_square(x) - 0.05\n",
        "\n",
        "print(optimize.fsolve(h, 0.0))\n",
        "print(optimize.fsolve(h, 5.0))"
      ]
    },
    {
      "cell_type": "markdown",
      "metadata": {
        "id": "zQt3yjXQ7nwg"
      },
      "source": [
        "#### HDIグラフ描画"
      ]
    },
    {
      "cell_type": "code",
      "execution_count": null,
      "metadata": {
        "id": "UOAhoyTkiyc5"
      },
      "outputs": [],
      "source": [
        "x = np.arange(0.0, 15, 0.01)\n",
        "x1 = 0.02\n",
        "x2 = 5.93\n",
        "y = qui_square(x)\n",
        "plt.plot(x, y)\n",
        "plt.fill_between(x, 0.0, y, where= np.logical_and(x > x1, x < x2), color='b')\n",
        "plt.plot((0, 15.0), (0.05, 0.05), c='k')\n",
        "plt.plot((x1, x1), (0, 0.25), c='k')\n",
        "plt.plot((x2, x2), (0, 0.25), c='k')\n",
        "plt.title('HDI (highest density interval)の考え方');"
      ]
    },
    {
      "cell_type": "markdown",
      "metadata": {
        "id": "LF9g5uh0sf-g"
      },
      "source": [
        "### バージョンの確認"
      ]
    },
    {
      "cell_type": "code",
      "execution_count": null,
      "metadata": {
        "id": "JTL8C57rDC9t"
      },
      "outputs": [],
      "source": [
        "!pip install watermark | tail -n 1\n",
        "%load_ext watermark\n",
        "%watermark --iversions"
      ]
    },
    {
      "cell_type": "code",
      "execution_count": null,
      "metadata": {
        "id": "0aE6KEvLHQ_i"
      },
      "outputs": [],
      "source": []
    }
  ],
  "metadata": {
    "colab": {
      "provenance": [],
      "toc_visible": true
    },
    "kernelspec": {
      "display_name": "Python 3",
      "name": "python3"
    },
    "language_info": {
      "name": "python"
    }
  },
  "nbformat": 4,
  "nbformat_minor": 0
}