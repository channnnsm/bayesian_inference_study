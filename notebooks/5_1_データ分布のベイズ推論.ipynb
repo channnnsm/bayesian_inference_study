{
  "cells": [
    {
      "cell_type": "markdown",
      "source": [
        "``plot_trace``関数でワーニングを出さないため次のコマンド実行が必要です。"
      ],
      "metadata": {
        "id": "R4d32npiN0Be"
      }
    },
    {
      "cell_type": "code",
      "source": [
        "!pip install --upgrade numba | tail -n 1"
      ],
      "metadata": {
        "id": "UkCP90SUN1GO"
      },
      "execution_count": null,
      "outputs": []
    },
    {
      "cell_type": "markdown",
      "metadata": {
        "id": "uIoj_UW_qasp"
      },
      "source": [
        "## 5.1 データ分布のベイス推論"
      ]
    },
    {
      "cell_type": "markdown",
      "metadata": {
        "id": "nwV0yADH5ED0"
      },
      "source": [
        "<a href=\"https://colab.research.google.com/github/makaishi2/python_bayes_intro/blob/main/notebooks/5_1_%E3%83%87%E3%83%BC%E3%82%BF%E5%88%86%E5%B8%83%E3%81%AE%E3%83%99%E3%82%A4%E3%82%BA%E6%8E%A8%E8%AB%96.ipynb\" target=\"_parent\"><img src=\"https://colab.research.google.com/assets/colab-badge.svg\" alt=\"Open In Colab\"/></a>\n"
      ]
    },
    {
      "cell_type": "markdown",
      "metadata": {
        "id": "vdi2sqRyqr4p"
      },
      "source": [
        "### 共通処理"
      ]
    },
    {
      "cell_type": "code",
      "execution_count": null,
      "metadata": {
        "id": "0dTjJOmIqmiS"
      },
      "outputs": [],
      "source": [
        "%matplotlib inline\n",
        "# 日本語化ライブラリ導入\n",
        "!pip install japanize-matplotlib | tail -n 1"
      ]
    },
    {
      "cell_type": "code",
      "execution_count": null,
      "metadata": {
        "id": "M46-MnBXq5-Z"
      },
      "outputs": [],
      "source": [
        "# ライブラリのimport\n",
        "\n",
        "# NumPy用ライブラリ\n",
        "import numpy as np\n",
        "# Matplotlib中のpyplotライブラリのインポート\n",
        "import matplotlib.pyplot as plt\n",
        "# matplotlib日本語化対応ライブラリのインポート\n",
        "import japanize_matplotlib\n",
        "# pandas用ライブラリ\n",
        "import pandas as pd\n",
        "# データフレーム表示用関数\n",
        "from IPython.display import display\n",
        "# seaborn\n",
        "import seaborn as sns\n",
        "# 表示オプション調整\n",
        "# NumPy表示形式の設定\n",
        "np.set_printoptions(precision=3, floatmode='fixed')\n",
        "# グラフのデフォルトフォント指定\n",
        "plt.rcParams[\"font.size\"] = 14\n",
        "# サイズ設定\n",
        "plt.rcParams['figure.figsize'] = (6, 6)\n",
        "# 方眼表示ON\n",
        "plt.rcParams['axes.grid'] = True\n",
        "# データフレームでの表示精度\n",
        "pd.options.display.float_format = '{:.3f}'.format\n",
        "# データフレームですべての項目を表示\n",
        "pd.set_option(\"display.max_columns\",None)"
      ]
    },
    {
      "cell_type": "code",
      "execution_count": null,
      "metadata": {
        "id": "my5YU9YCq-ou"
      },
      "outputs": [],
      "source": [
        "import pymc as pm\n",
        "import arviz as az\n",
        "\n",
        "print(f\"Running on PyMC v{pm.__version__}\")\n",
        "print(f\"Running on ArViz v{az.__version__}\")"
      ]
    },
    {
      "cell_type": "markdown",
      "metadata": {
        "id": "GKrDeczv3ULO"
      },
      "source": [
        "### 5章"
      ]
    },
    {
      "cell_type": "code",
      "execution_count": null,
      "metadata": {
        "id": "SXSs1e4u3cWX"
      },
      "outputs": [],
      "source": [
        "df = sns.load_dataset('iris')\n",
        "df1 = df.iloc[[0, 1, 50, 51, 100, 101]]\n",
        "display(df1)"
      ]
    },
    {
      "cell_type": "markdown",
      "metadata": {
        "id": "rBIfYJ_BrGUD"
      },
      "source": [
        "### 5.1.1 問題定義\n",
        "アイリスデータセットの特定の花の種類の、特定の項目の長さの分布は、正規分布に従うと見なせるものとする。  \n",
        "3つの花のうちのひとつであるvirginicaのsepal_length(花弁の長さ)に最も近い正規分布のパラメータ(平均と分散)の値をベイズ推論で求めよ。\n"
      ]
    },
    {
      "cell_type": "markdown",
      "metadata": {
        "id": "lnTxrJeXtJlG"
      },
      "source": [
        "### 5.1.2 データ準備"
      ]
    },
    {
      "cell_type": "markdown",
      "metadata": {
        "id": "Jzjj2s1HLA6T"
      },
      "source": [
        "#### データ読み込みと確認"
      ]
    },
    {
      "cell_type": "code",
      "execution_count": null,
      "metadata": {
        "id": "4DkJdzLIrCFM"
      },
      "outputs": [],
      "source": [
        "# アイリスデータセットの読み込み\n",
        "df = sns.load_dataset('iris')\n",
        "\n",
        "# 先頭5件の確認\n",
        "display(df.head())\n",
        "\n",
        "#  speciesの分布確認\n",
        "df['species'].value_counts()"
      ]
    },
    {
      "cell_type": "markdown",
      "metadata": {
        "id": "DTKV9xhELLcO"
      },
      "source": [
        "#### データ抽出とヒストグラムの描画"
      ]
    },
    {
      "cell_type": "code",
      "execution_count": null,
      "metadata": {
        "id": "CPKscIcDu1vf"
      },
      "outputs": [],
      "source": [
        "# setosaの行のみ抽出\n",
        "df1 = df.query('species == \"setosa\"')\n",
        "\n",
        "bins = np.arange(4.0, 6.2, 0.2)\n",
        "# ヒストグラムを描画\n",
        "sns.histplot(df1, x='sepal_length', bins=bins, kde=True)\n",
        "plt.xticks(bins);"
      ]
    },
    {
      "cell_type": "markdown",
      "metadata": {
        "id": "yCkS_qvfLVGf"
      },
      "source": [
        "#### 変数Xの抽出と値の確認"
      ]
    },
    {
      "cell_type": "code",
      "execution_count": null,
      "metadata": {
        "id": "VvS8dmXFvHO1"
      },
      "outputs": [],
      "source": [
        "# sepal_length列の抽出\n",
        "s1 = df1['sepal_length']\n",
        "\n",
        "# NumPy変数の1次元配列に変換\n",
        "X = s1.values\n",
        "\n",
        "# 統計情報の確認\n",
        "print(s1.describe())\n",
        "\n",
        "# 値の確認\n",
        "print(X)"
      ]
    },
    {
      "cell_type": "markdown",
      "metadata": {
        "id": "PgH4jGWpvoW9"
      },
      "source": [
        "### 5.1.3 確率モデル定義"
      ]
    },
    {
      "cell_type": "markdown",
      "metadata": {
        "id": "3FkUoMNwVSzF"
      },
      "source": [
        "#### 確率モデル定義"
      ]
    },
    {
      "cell_type": "code",
      "execution_count": null,
      "metadata": {
        "id": "Bdk8zw3fuphC"
      },
      "outputs": [],
      "source": [
        "model1 = pm.Model()\n",
        "\n",
        "with model1:\n",
        "  mu = pm.Normal('mu',mu=0.0, sigma=10.0)\n",
        "  sigma = pm.HalfNormal('sigma', sigma=10.0)\n",
        "  X_obs = pm.Normal('X_obs', mu=mu, sigma=sigma, observed=X)"
      ]
    },
    {
      "cell_type": "markdown",
      "metadata": {
        "id": "43pVQ0NsVX7V"
      },
      "source": [
        "#### 確率モデル構造可視化"
      ]
    },
    {
      "cell_type": "code",
      "execution_count": null,
      "metadata": {
        "id": "WoopmWwGvvWe"
      },
      "outputs": [],
      "source": [
        "g = pm.model_to_graphviz(model1)\n",
        "display(g)"
      ]
    },
    {
      "cell_type": "markdown",
      "metadata": {
        "id": "_mP-yzOLv_9n"
      },
      "source": [
        "### 5.1.4 サンプリング"
      ]
    },
    {
      "cell_type": "code",
      "execution_count": null,
      "metadata": {
        "id": "zQSSO-S9v4Qr"
      },
      "outputs": [],
      "source": [
        "with model1:\n",
        "    idata1 = pm.sample(random_seed=42)"
      ]
    },
    {
      "cell_type": "markdown",
      "metadata": {
        "id": "A5aRjCmEyVnE"
      },
      "source": [
        "### 5.1.5 結果分析"
      ]
    },
    {
      "cell_type": "markdown",
      "metadata": {
        "id": "FUKh3mO-fMg8"
      },
      "source": [
        "#### plot_trace関数による分析"
      ]
    },
    {
      "cell_type": "code",
      "execution_count": null,
      "metadata": {
        "id": "dHkdwKit1A3W"
      },
      "outputs": [],
      "source": [
        "az.plot_trace(idata1, compact=False)\n",
        "plt.tight_layout();"
      ]
    },
    {
      "cell_type": "markdown",
      "metadata": {
        "id": "20YE1pt5iI7x"
      },
      "source": [
        "#### idata直接確認"
      ]
    },
    {
      "cell_type": "code",
      "execution_count": null,
      "metadata": {
        "id": "qj4Ioag3iOUT"
      },
      "outputs": [],
      "source": [
        "idata1"
      ]
    },
    {
      "cell_type": "markdown",
      "metadata": {
        "id": "fWpyG8h5fWXZ"
      },
      "source": [
        "#### plot_posterior関数による分析"
      ]
    },
    {
      "cell_type": "code",
      "execution_count": null,
      "metadata": {
        "id": "gZRIn1vF1I7t"
      },
      "outputs": [],
      "source": [
        "az.plot_posterior(idata1);"
      ]
    },
    {
      "cell_type": "markdown",
      "metadata": {
        "id": "xp7dgWNZff50"
      },
      "source": [
        "#### sumamry関数による統計分析"
      ]
    },
    {
      "cell_type": "code",
      "execution_count": null,
      "metadata": {
        "id": "CtqOQID11XYs"
      },
      "outputs": [],
      "source": [
        "summary1 = az.summary(idata1)\n",
        "display(summary1)"
      ]
    },
    {
      "cell_type": "markdown",
      "metadata": {
        "id": "-lAI6N26fn5T"
      },
      "source": [
        "#### 各確率変数の平均値取得"
      ]
    },
    {
      "cell_type": "code",
      "execution_count": null,
      "metadata": {
        "id": "nrL3o7ky0nt4"
      },
      "outputs": [],
      "source": [
        "mu_mean1 = summary1.loc['mu','mean']\n",
        "sigma_mean1 = summary1.loc['sigma','mean']\n",
        "\n",
        "# 結果確認\n",
        "print(f'mu={mu_mean1}, sigma={sigma_mean1}')"
      ]
    },
    {
      "cell_type": "markdown",
      "metadata": {
        "id": "PTcyd5k32g6G"
      },
      "source": [
        "### 5.1.6 正規分布関数とヒストグラムの重ね描き"
      ]
    },
    {
      "cell_type": "markdown",
      "metadata": {
        "id": "mgmraDXF8z_b"
      },
      "source": [
        "#### 正規分布関数"
      ]
    },
    {
      "cell_type": "code",
      "execution_count": null,
      "metadata": {
        "id": "Xs55zld60zZQ"
      },
      "outputs": [],
      "source": [
        "def norm(x, mu, sigma):\n",
        "    y = (x-mu)/sigma\n",
        "    a = np.exp(-(y**2)/2)\n",
        "    b = np.sqrt(2*np.pi)*sigma\n",
        "    return a/b"
      ]
    },
    {
      "cell_type": "markdown",
      "metadata": {
        "id": "0I4B_8va9PtY"
      },
      "source": [
        "#### ベイズ推論結果に基づく関数値計算"
      ]
    },
    {
      "cell_type": "code",
      "execution_count": null,
      "metadata": {
        "id": "GogVKUbO2xu8"
      },
      "outputs": [],
      "source": [
        "x_min = X.min()\n",
        "x_max = X.max()\n",
        "x_list = np.arange(x_min, x_max, 0.01)\n",
        "y_list = norm(x_list, mu_mean1, sigma_mean1)"
      ]
    },
    {
      "cell_type": "markdown",
      "metadata": {
        "id": "0E2zs-LV9nx_"
      },
      "source": [
        "#### ベイズ推論結果に基づく正規分布関数とKDE曲線の重ね描き"
      ]
    },
    {
      "cell_type": "code",
      "execution_count": null,
      "metadata": {
        "id": "zN5vCU-hvsIx"
      },
      "outputs": [],
      "source": [
        "delta = 0.2\n",
        "bins=np.arange(4.0, 6.0, delta)\n",
        "fig, ax = plt.subplots()\n",
        "sns.histplot(df1, ax=ax, x='sepal_length',\n",
        "    bins=bins, kde=True, stat='probability')\n",
        "ax.get_lines()[0].set_label('KDE曲線')\n",
        "ax.set_xticks(bins)\n",
        "ax.plot(x_list, y_list*delta, c='b', label='ベイズ推論結果')\n",
        "ax.set_title('ベイズ推論結果とKDE曲線の比較')\n",
        "plt.legend();"
      ]
    },
    {
      "cell_type": "markdown",
      "metadata": {
        "id": "yCzyPliQ3qWQ"
      },
      "source": [
        "### 5.1.7 少ないサンプル数でベイス推論"
      ]
    },
    {
      "cell_type": "markdown",
      "metadata": {
        "id": "xWmhdRGHlPmR"
      },
      "source": [
        "#### データの絞り込み"
      ]
    },
    {
      "cell_type": "code",
      "execution_count": null,
      "metadata": {
        "id": "sDZlagN54f_5"
      },
      "outputs": [],
      "source": [
        "# 先頭の5件だけにする\n",
        "X_less = X[:5]\n",
        "\n",
        "# 結果確認\n",
        "print(X_less)\n",
        "\n",
        "# 統計値確認\n",
        "print(pd.Series(X_less).describe())"
      ]
    },
    {
      "cell_type": "markdown",
      "metadata": {
        "id": "e61Psv1qlWVQ"
      },
      "source": [
        "#### 確率モデル定義とサンプリング"
      ]
    },
    {
      "cell_type": "code",
      "execution_count": null,
      "metadata": {
        "id": "pNqa0GoI3a7S"
      },
      "outputs": [],
      "source": [
        "model2 = pm.Model()\n",
        "\n",
        "with model2:\n",
        "    mu = pm.Normal('mu', mu=0.0, sigma=10.0)\n",
        "    sigma = pm.HalfNormal('sigma', sigma=10.0)\n",
        "    X_obs = pm.Normal('X_obs', mu=mu, sigma=sigma, observed=X_less)\n",
        "\n",
        "    # サンプリング\n",
        "    idata2 = pm.sample(random_seed=42)"
      ]
    },
    {
      "cell_type": "markdown",
      "metadata": {
        "id": "8rTSxuAKlhIH"
      },
      "source": [
        "#### サンプリング結果の可視化"
      ]
    },
    {
      "cell_type": "code",
      "execution_count": null,
      "metadata": {
        "id": "-ZyvC1oH43IE"
      },
      "outputs": [],
      "source": [
        "az.plot_posterior(idata2);"
      ]
    },
    {
      "cell_type": "markdown",
      "metadata": {
        "id": "--zHIudRlpQs"
      },
      "source": [
        "#### サンプリング結果の統計分析"
      ]
    },
    {
      "cell_type": "code",
      "execution_count": null,
      "metadata": {
        "id": "9AqNBNe232p6"
      },
      "outputs": [],
      "source": [
        "summary2 = az.summary(idata2)\n",
        "display(summary2)"
      ]
    },
    {
      "cell_type": "markdown",
      "metadata": {
        "id": "pGtpoDNOMxVt"
      },
      "source": [
        "### コラム　tauによる確率モデルの定義"
      ]
    },
    {
      "cell_type": "markdown",
      "metadata": {
        "id": "fV0AOLZgQayD"
      },
      "source": [
        "#### 確率モデル定義とサンプリング"
      ]
    },
    {
      "cell_type": "code",
      "execution_count": null,
      "metadata": {
        "id": "1mNaKloG5O2n"
      },
      "outputs": [],
      "source": [
        "model3 = pm.Model()\n",
        "\n",
        "with model3:\n",
        "    mu = pm.Normal('mu', mu=0.0, sigma=10.0)\n",
        "    tau = pm.HalfNormal('tau', sigma=10.0)\n",
        "    X_obs = pm.Normal('X_obs', mu=mu, tau=tau, observed=X)\n",
        "    sigma = pm.Deterministic('sigma', 1/pm.math.sqrt(tau))\n",
        "\n",
        "    # サンプリング\n",
        "    idata3 = pm.sample(random_seed=42)"
      ]
    },
    {
      "cell_type": "markdown",
      "metadata": {
        "id": "OsbJLlF9S-yn"
      },
      "source": [
        "#### サンプリング結果の可視化"
      ]
    },
    {
      "cell_type": "code",
      "execution_count": null,
      "metadata": {
        "id": "GRmiLRw_RTHU"
      },
      "outputs": [],
      "source": [
        "az.plot_posterior(idata3);"
      ]
    },
    {
      "cell_type": "markdown",
      "metadata": {
        "id": "f45Q3TnfNefC"
      },
      "source": [
        "#### バージョンの確認"
      ]
    },
    {
      "cell_type": "code",
      "execution_count": null,
      "metadata": {
        "id": "vD-SCcaGRqrJ"
      },
      "outputs": [],
      "source": [
        "!pip install watermark | tail -n 1\n",
        "%load_ext watermark\n",
        "%watermark --iversions"
      ]
    }
  ],
  "metadata": {
    "colab": {
      "provenance": [],
      "toc_visible": true
    },
    "kernelspec": {
      "display_name": "Python 3",
      "name": "python3"
    },
    "language_info": {
      "name": "python"
    }
  },
  "nbformat": 4,
  "nbformat_minor": 0
}