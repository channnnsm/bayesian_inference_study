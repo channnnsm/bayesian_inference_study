{
  "cells": [
    {
      "cell_type": "markdown",
      "metadata": {
        "id": "gT2-RDc3oM5q"
      },
      "source": [
        "## 補足　3クラス潜在変数モデル"
      ]
    },
    {
      "cell_type": "markdown",
      "metadata": {},
      "source": [
        "<a href=\"https://colab.research.google.com/github/makaishi2/python_bayes_intro/blob/main/sample-notebooks/A_3%E3%82%AF%E3%83%A9%E3%82%B9%E6%BD%9C%E5%9C%A8%E5%A4%89%E6%95%B0%E3%83%A2%E3%83%87%E3%83%AB.ipynb\" target=\"_parent\"><img src=\"https://colab.research.google.com/assets/colab-badge.svg\" alt=\"Open In Colab\"/></a>\n"
      ]
    },
    {
      "cell_type": "markdown",
      "metadata": {
        "id": "-76dVLz4oWnR"
      },
      "source": [
        "### 共通処理"
      ]
    },
    {
      "cell_type": "code",
      "execution_count": null,
      "metadata": {
        "id": "mO7SvaGzoRtu"
      },
      "outputs": [],
      "source": [
        "%matplotlib inline\n",
        "# 日本語化ライブラリ導入\n",
        "!pip install japanize-matplotlib | tail -n 1"
      ]
    },
    {
      "cell_type": "code",
      "execution_count": null,
      "metadata": {
        "id": "31bw6AQRoSiV"
      },
      "outputs": [],
      "source": [
        "# ライブラリのimport\n",
        "\n",
        "# NumPy用ライブラリ\n",
        "import numpy as np\n",
        "\n",
        "# Matplotlib中のpyplotライブラリのインポート\n",
        "import matplotlib.pyplot as plt\n",
        "\n",
        "# matplotlib日本語化対応ライブラリのインポート\n",
        "import japanize_matplotlib\n",
        "\n",
        "# pandas用ライブラリ\n",
        "import pandas as pd\n",
        "\n",
        "# データフレーム表示用関数\n",
        "from IPython.display import display\n",
        "\n",
        "# seaborn\n",
        "import seaborn as sns\n",
        "\n",
        "# 表示オプション調整\n",
        "\n",
        "# NumPy表示形式の設定\n",
        "np.set_printoptions(precision=3, floatmode='fixed')\n",
        "\n",
        "# グラフのデフォルトフォント指定\n",
        "plt.rcParams[\"font.size\"] = 14\n",
        "\n",
        "# サイズ設定\n",
        "plt.rcParams['figure.figsize'] = (6, 6)\n",
        "\n",
        "# 方眼表示ON\n",
        "plt.rcParams['axes.grid'] = True\n",
        "\n",
        "# データフレームでの表示精度\n",
        "pd.options.display.float_format = '{:.3f}'.format\n",
        "\n",
        "# データフレームですべての項目を表示\n",
        "pd.set_option(\"display.max_columns\",None)"
      ]
    },
    {
      "cell_type": "code",
      "execution_count": null,
      "metadata": {
        "id": "8bhlEvpJohj3"
      },
      "outputs": [],
      "source": [
        "import pymc as pm\n",
        "import arviz as az\n",
        "\n",
        "print(f\"Running on PyMC v{pm.__version__}\")\n",
        "print(f\"Running on ArViz v{az.__version__}\")"
      ]
    },
    {
      "cell_type": "markdown",
      "metadata": {
        "id": "FUPlPalapU-m"
      },
      "source": [
        "### A.1 カテゴリカル分布"
      ]
    },
    {
      "cell_type": "markdown",
      "metadata": {
        "id": "YNC3IVj0LyaW"
      },
      "source": [
        "#### 確率モデル定義"
      ]
    },
    {
      "cell_type": "code",
      "execution_count": null,
      "metadata": {
        "id": "gEQtGCvfC4cx"
      },
      "outputs": [],
      "source": [
        "# パラメータ設定\n",
        "p = [0.2, 0.5, 0.3]\n",
        "\n",
        "model1 = pm.Model()\n",
        "with model1:\n",
        "    # pm.Categorical: カテゴリカル分布\n",
        "    # p: 各要素の発生確率\n",
        "    x = pm.Categorical('x', p=p)"
      ]
    },
    {
      "cell_type": "markdown",
      "metadata": {
        "id": "9GZg8qfeL4ii"
      },
      "source": [
        "#### 事前分布のサンプリングとサンプル値抽出"
      ]
    },
    {
      "cell_type": "code",
      "execution_count": null,
      "metadata": {
        "id": "wMbozycaL_s5"
      },
      "outputs": [],
      "source": [
        "with model1:\n",
        "    # 事前分布のサンプリング\n",
        "    prior_samples1 = pm.sample_prior_predictive(random_seed=42)\n",
        "\n",
        "x_samples1 = prior_samples1['prior']['x'].values\n",
        "print(x_samples1)"
      ]
    },
    {
      "cell_type": "markdown",
      "metadata": {
        "id": "Fa73TMsyMNhB"
      },
      "source": [
        "#### サンプリング結果の可視化"
      ]
    },
    {
      "cell_type": "code",
      "execution_count": null,
      "metadata": {
        "id": "M4yjjoeJC4yY"
      },
      "outputs": [],
      "source": [
        "ax = az.plot_dist(x_samples1)\n",
        "ax.set_title(f'カテゴリカル分布　p={p}');"
      ]
    },
    {
      "cell_type": "markdown",
      "metadata": {
        "id": "__ivn9rporp2"
      },
      "source": [
        "### A.2 ディリクレ分布"
      ]
    },
    {
      "cell_type": "markdown",
      "metadata": {
        "id": "hCxdKrX3MpNr"
      },
      "source": [
        "#### 確率モデル定義"
      ]
    },
    {
      "cell_type": "code",
      "execution_count": null,
      "metadata": {
        "id": "Tft9PJ-dopyX"
      },
      "outputs": [],
      "source": [
        "# パラメータ設定\n",
        "n_components = 3\n",
        "\n",
        "model2 = pm.Model()\n",
        "with model2:\n",
        "    # ディリクレ分布\n",
        "    # a:パラメータ　[1, 1, 1]だと一様分布\n",
        "    p = pm.Dirichlet('p', a=np.ones(n_components))"
      ]
    },
    {
      "cell_type": "markdown",
      "metadata": {
        "id": "ci26H8TnMxlV"
      },
      "source": [
        "#### 事前分布のサンプリングとサンプル値抽出"
      ]
    },
    {
      "cell_type": "code",
      "execution_count": null,
      "metadata": {
        "id": "VGIS7kQbMt7P"
      },
      "outputs": [],
      "source": [
        "with model2:\n",
        "    # サンプル値取得\n",
        "    samples2 = pm.sample_prior_predictive(random_seed=42)\n",
        "\n",
        "# サンプル値抽出\n",
        "x_samples2 = samples2['prior']['p'].values\n",
        "# 桁数が多いので先頭10個だけに限定\n",
        "print(x_samples2[:,:10])"
      ]
    },
    {
      "cell_type": "markdown",
      "metadata": {
        "id": "O8sHHas3NCMo"
      },
      "source": [
        "#### サンプリング結果の可視化"
      ]
    },
    {
      "cell_type": "code",
      "execution_count": null,
      "metadata": {
        "id": "qZyzSLJiok-U"
      },
      "outputs": [],
      "source": [
        "# サンプル値の可視化\n",
        "samples2 = x_samples2.reshape(-1,3)\n",
        "plt.title('ディリクレ分布 a=(1,1,1)の場合')\n",
        "x1 = samples2[:,0]\n",
        "x2 = samples2[:,1]\n",
        "plt.scatter(x1,x2, s=5);"
      ]
    },
    {
      "cell_type": "markdown",
      "metadata": {
        "id": "oEUc-ARQWD49"
      },
      "source": [
        "### A.3 3クラス潜在変数モデル"
      ]
    },
    {
      "cell_type": "markdown",
      "metadata": {
        "id": "slBA8sjXWSo-"
      },
      "source": [
        "#### データ読み込み"
      ]
    },
    {
      "cell_type": "code",
      "execution_count": null,
      "metadata": {
        "id": "3rljUGYwWY3q"
      },
      "outputs": [],
      "source": [
        "# アイリスデータセットの読み込み\n",
        "df = sns.load_dataset('iris')\n",
        "\n",
        "# 先頭5行の確認\n",
        "display(df.head())\n",
        "\n",
        "#  speciesの分布確認\n",
        "df['species'].value_counts()"
      ]
    },
    {
      "cell_type": "markdown",
      "metadata": {
        "id": "s5CNWBeilv5q"
      },
      "source": [
        "#### 変数設定"
      ]
    },
    {
      "cell_type": "code",
      "execution_count": null,
      "metadata": {
        "id": "yWoSC4qkWnAo"
      },
      "outputs": [],
      "source": [
        "#  観測値データ\n",
        "X = df['petal_width'].values\n",
        "\n",
        "#  データ件数\n",
        "N = X.shape\n",
        "\n",
        "# 分類先クラス数\n",
        "n_components = 3"
      ]
    },
    {
      "cell_type": "markdown",
      "metadata": {
        "id": "9wOBXpofW1xu"
      },
      "source": [
        "#### 確率モデル定義"
      ]
    },
    {
      "cell_type": "code",
      "execution_count": null,
      "metadata": {
        "id": "C8QJ9PZ7W0LR"
      },
      "outputs": [],
      "source": [
        "model3 = pm.Model()\n",
        "\n",
        "with model3:\n",
        "    #  観測値をpm.ConstantDataで定義する\n",
        "    X_data = pm.ConstantData('X_data', X)\n",
        "\n",
        "    # p:  それぞれの値を取るの確率を示す3要素のベクトル\n",
        "    p = pm.Dirichlet('p', a=np.ones(n_components))\n",
        "\n",
        "    # s: pの確率値を基に0, 1, 2のいずれかの値を返す\n",
        "    s = pm.Categorical('s', p=p, shape=N)\n",
        "\n",
        "    # mus: 3つの花の種類毎の平均値\n",
        "    mus = pm.Normal('mus', mu=0.0, sigma=10.0, shape=n_components)\n",
        "\n",
        "    # taus: 3つの花の種類毎のバラツキ\n",
        "    # 標準偏差sigmasとは　taus = 1/(sigmas*sigmas) の関係にある\n",
        "    taus = pm.HalfNormal('taus', sigma=10.0, shape=n_components)\n",
        "\n",
        "    # グラフ描画など分析でsigmaが必要なため、tauからsigmaを求めておく\n",
        "    sigmas = pm.Deterministic('sigmas', 1/pm.math.sqrt(taus))\n",
        "\n",
        "    # 各観測値ごとに潜在変数からmuとtauを求める\n",
        "    mu = pm.Deterministic('mu', mus[s])\n",
        "    tau = pm.Deterministic('tau', taus[s])\n",
        "\n",
        "    # 正規分布に従う確率変数X_obsの定義\n",
        "    X_obs = pm.Normal('X_obs', mu=mu, tau=tau, observed=X_data)\n",
        "\n",
        "# モデル構造可視化\n",
        "g = pm.model_to_graphviz(model3)\n",
        "display(g);"
      ]
    },
    {
      "cell_type": "markdown",
      "metadata": {
        "id": "ZdEdJ-yaXVGq"
      },
      "source": [
        "#### サンプリング"
      ]
    },
    {
      "cell_type": "code",
      "execution_count": null,
      "metadata": {
        "id": "FvKBaWrvqVvb"
      },
      "outputs": [],
      "source": [
        "with model3:\n",
        "    idata3 = pm.sample(\n",
        "      chains=1, draws=2000, target_accept=0.99,\n",
        "      random_seed=42)"
      ]
    },
    {
      "cell_type": "markdown",
      "metadata": {
        "id": "vqtyI9SWpt9H"
      },
      "source": [
        "#### 推論結果の確認"
      ]
    },
    {
      "cell_type": "code",
      "execution_count": null,
      "metadata": {
        "id": "SW6IYZY5b5IR"
      },
      "outputs": [],
      "source": [
        "az.plot_trace(idata3, var_names=['p', 'mus', 'sigmas'], compact=False)\n",
        "plt.tight_layout();"
      ]
    },
    {
      "cell_type": "markdown",
      "metadata": {
        "id": "z8eqJS3FvtNA"
      },
      "source": [
        "#### 統計処理の集計"
      ]
    },
    {
      "cell_type": "code",
      "execution_count": null,
      "metadata": {
        "id": "c7rpy_LfdKif"
      },
      "outputs": [],
      "source": [
        "summary3 = az.summary(idata3, var_names=['p', 'mus', 'sigmas'])\n",
        "display(summary3)"
      ]
    },
    {
      "cell_type": "markdown",
      "metadata": {
        "id": "kYVTQ7nSw-UE"
      },
      "source": [
        "#### ヒストグラムと推論結果の重ね描き"
      ]
    },
    {
      "cell_type": "code",
      "execution_count": null,
      "metadata": {
        "id": "FyGWFSg7qyZ1"
      },
      "outputs": [],
      "source": [
        "# 正規分布関数の定義\n",
        "def norm(x, mu, sigma):\n",
        "    return np.exp(-((x - mu)/sigma)**2/2) / (np.sqrt(2 * np.pi) * sigma)\n",
        "\n",
        "# 推論結果から各パラメータの平均値を取得\n",
        "mean3 = summary3['mean']\n",
        "\n",
        "# muの平均値取得\n",
        "mean3_mu0 = mean3['mus[0]']\n",
        "mean3_mu1 = mean3['mus[1]']\n",
        "mean3_mu2 = mean3['mus[2]']\n",
        "\n",
        "# sigmaの平均値取得\n",
        "mean3_sigma0 = mean3['sigmas[0]']\n",
        "mean3_sigma1 = mean3['sigmas[1]']\n",
        "mean3_sigma2 = mean3['sigmas[2]']\n",
        "\n",
        "# グラフ描画\n",
        "x = np.arange(0.0, 3.0, 0.05)\n",
        "plt.rcParams['figure.figsize']=(8,6)\n",
        "fig, ax = plt.subplots()\n",
        "sns.histplot(\n",
        "    data=df,\n",
        "    bins=np.arange(0.0, 3.0, 0.1),\n",
        "    x='petal_width',\n",
        "    hue='species', kde=True)\n",
        "plt.setp(ax.get_xticklabels(), rotation=90)\n",
        "plt.title('petal_widthのヒストグラム')\n",
        "plt.xticks(np.arange(0.0, 3.0, 0.1));\n",
        "plt.title('ヒストグラムと正規分布関数の重ね描き')\n",
        "plt.plot(x, norm(x, mean3_mu0, mean3_sigma0)*5.0, c='y', lw=3)\n",
        "plt.plot(x, norm(x, mean3_mu1, mean3_sigma1)*5.0, c='g', lw=3)\n",
        "plt.plot(x, norm(x, mean3_mu2, mean3_sigma2)*5.0, c='b', lw=3);"
      ]
    },
    {
      "cell_type": "markdown",
      "metadata": {
        "id": "Oba0vsmLXtC-"
      },
      "source": [
        "### A.4 3クラス潜在変数モデル(失敗例)"
      ]
    },
    {
      "cell_type": "markdown",
      "metadata": {
        "id": "xsP2fx_PX33M"
      },
      "source": [
        "#### 確率モデル定義"
      ]
    },
    {
      "cell_type": "code",
      "execution_count": null,
      "metadata": {
        "id": "QT0cH5MpXQGY"
      },
      "outputs": [],
      "source": [
        "model4 = pm.Model()\n",
        "\n",
        "with model4:\n",
        "    #  観測値をpm.ConstantDataで定義する\n",
        "    X_data = pm.ConstantData('X_data', X)\n",
        "\n",
        "    # p:  それぞれの値を取るの確率を示す3要素のベクトル\n",
        "    p = pm.Dirichlet('p', a=np.ones(n_components))\n",
        "\n",
        "    # s: pの確率値を基に0, 1, 2のいずれかの値を返す\n",
        "    s = pm.Categorical('s', p=p, shape=N)\n",
        "\n",
        "    # mus: 3つの花の種類毎の平均値\n",
        "    mus = pm.Normal('mus', mu=0.0, sigma=10.0, shape=n_components)\n",
        "\n",
        "    # taus: 3つの花の種類毎のバラツキ\n",
        "    # 標準偏差sigmasとは　taus = 1/(sigmas*sigmas) の関係にある\n",
        "    sigmas = pm.HalfNormal('sigmas', sigma=10.0, shape=n_components)\n",
        "\n",
        "    # 各観測値ごとに潜在変数からmuとtauを求める\n",
        "    mu = pm.Deterministic('mu', mus[s])\n",
        "    sigma = pm.Deterministic('sigma', sigmas[s])\n",
        "\n",
        "    # mu[s], tau[s]: 潜在変数による参照\n",
        "    X_obs = pm.Normal('X_obs', mu=mu, sigma=sigma, observed=X_data)\n",
        "\n",
        "# モデル構造可視化\n",
        "g = pm.model_to_graphviz(model4)\n",
        "display(g);"
      ]
    },
    {
      "cell_type": "markdown",
      "metadata": {
        "id": "RiCh50j_yy_Y"
      },
      "source": [
        "#### サンプリングと推論結果の確認"
      ]
    },
    {
      "cell_type": "code",
      "execution_count": null,
      "metadata": {
        "id": "ShlnIZssZqfU"
      },
      "outputs": [],
      "source": [
        "with model4:\n",
        "    idata4 = pm.sample(\n",
        "      chains=1, draws=2000, target_accept=0.99,\n",
        "      random_seed=42)\n",
        "\n",
        "az.plot_trace(idata4, var_names=['p', 'mus', 'sigmas'], compact=False)\n",
        "plt.tight_layout();"
      ]
    },
    {
      "cell_type": "markdown",
      "metadata": {
        "id": "btrpEJTX2c5v"
      },
      "source": [
        "### A.5 3クラス潜在モデル(改良版)"
      ]
    },
    {
      "cell_type": "markdown",
      "metadata": {
        "id": "9fb0jstC2k4a"
      },
      "source": [
        "#### 確率モデル定義"
      ]
    },
    {
      "cell_type": "code",
      "execution_count": null,
      "metadata": {
        "id": "mE31ONmzfPXj"
      },
      "outputs": [],
      "source": [
        "model5 = pm.Model()\n",
        "\n",
        "with model5:\n",
        "    #  観測値をpm.ConstantDataで定義する\n",
        "    X_data = pm.ConstantData('X_data', X)\n",
        "\n",
        "    # p:  それぞれの値を取るの確率を示す3要素のベクトル\n",
        "    p = pm.Dirichlet('p', a=np.ones(n_components))\n",
        "\n",
        "    # s: pの確率値を基に0, 1, 2のいずれかの値を返す\n",
        "    s = pm.Categorical('s', p=p, shape=N)\n",
        "\n",
        "    # mus: 3つの花の種類毎の平均値\n",
        "    mu0 = pm.HalfNormal('mu0', sigma=10.0)\n",
        "    delta0 = pm.HalfNormal('delta0', sigma=10.0)\n",
        "    mu1 = pm.Deterministic('mu1', mu0+delta0)\n",
        "    delta1 = pm.HalfNormal('delta1', sigma=10.0)\n",
        "    mu2 = pm.Deterministic('mu2', mu1+delta1)\n",
        "    mus = pm.Deterministic('mus', pm.math.stack([mu0, mu1, mu2]))\n",
        "\n",
        "    # taus: 3つの花の種類毎のバラツキ\n",
        "    # 標準偏差sigmasとは　taus = 1/(sigmas*sigmas) の関係にある\n",
        "    taus = pm.HalfNormal('taus', sigma=10.0, shape=n_components)\n",
        "\n",
        "    # グラフ描画など分析でsigmaが必要なため、tauからsigmaを求めておく\n",
        "    sigmas = pm.Deterministic('sigmas', 1/pm.math.sqrt(taus))\n",
        "\n",
        "    # 各観測値ごとに潜在変数からmuとtauを求める\n",
        "    mu = pm.Deterministic('mu', mus[s])\n",
        "    tau = pm.Deterministic('tau', taus[s])\n",
        "\n",
        "    # mu[s], tau[s]: 潜在変数による参照\n",
        "    X_obs = pm.Normal('X_obs', mu=mu, tau=tau, observed=X_data)\n",
        "\n",
        "# モデル構造可視化\n",
        "g = pm.model_to_graphviz(model5)\n",
        "display(g);"
      ]
    },
    {
      "cell_type": "markdown",
      "metadata": {
        "id": "AH_2X9Zr4MaD"
      },
      "source": [
        "#### サンプリングと推計結果の確認"
      ]
    },
    {
      "cell_type": "code",
      "execution_count": null,
      "metadata": {
        "id": "yOK34Kt34EuC"
      },
      "outputs": [],
      "source": [
        "with model5:\n",
        "    idata5 = pm.sample(target_accept=0.99, random_seed=42)\n",
        "\n",
        "plt.rcParams['figure.figsize']=(6,6)\n",
        "az.plot_trace(idata5, var_names=['p', 'mus', 'sigmas'], compact=False)\n",
        "plt.tight_layout();"
      ]
    },
    {
      "cell_type": "markdown",
      "metadata": {
        "id": "lBQRemhm7YpW"
      },
      "source": [
        "#### 統計処理の集計"
      ]
    },
    {
      "cell_type": "code",
      "execution_count": null,
      "metadata": {
        "id": "MR1yEsm67dBz"
      },
      "outputs": [],
      "source": [
        "summary5 = az.summary(idata5, var_names=['p', 'mus', 'sigmas'])\n",
        "display(summary5)"
      ]
    },
    {
      "cell_type": "markdown",
      "metadata": {
        "id": "IxSD7nVp62nw"
      },
      "source": [
        "#### ヒストグラムと推論結果の重ね描き"
      ]
    },
    {
      "cell_type": "code",
      "execution_count": null,
      "metadata": {
        "id": "fHtLga_l5AjH"
      },
      "outputs": [],
      "source": [
        "# 推論結果から各パラメータの平均値を取得\n",
        "mean5 = summary5['mean']\n",
        "\n",
        "# muの平均値取得\n",
        "mean5_mu0 = mean5['mus[0]']\n",
        "mean5_mu1 = mean5['mus[1]']\n",
        "mean5_mu2 = mean5['mus[2]']\n",
        "\n",
        "# sigmaの平均値取得\n",
        "mean5_sigma0 = mean5['sigmas[0]']\n",
        "mean5_sigma1 = mean5['sigmas[1]']\n",
        "mean5_sigma2 = mean5['sigmas[2]']\n",
        "\n",
        "# グラフ描画\n",
        "x = np.arange(0.0, 3.0, 0.05)\n",
        "plt.rcParams['figure.figsize']=(8,6)\n",
        "fig, ax = plt.subplots()\n",
        "sns.histplot(\n",
        "    data=df,\n",
        "    bins=np.arange(0.0, 3.0, 0.1),\n",
        "    x='petal_width',\n",
        "    hue='species', kde=True)\n",
        "plt.setp(ax.get_xticklabels(), rotation=90)\n",
        "plt.title('petal_widthのヒストグラム')\n",
        "plt.xticks(np.arange(0.0, 3.0, 0.1));\n",
        "plt.title('ヒストグラムと正規分布関数の重ね描き')\n",
        "plt.plot(x, norm(x, mean5_mu0, mean5_sigma0)*5.0, c='b', lw=3)\n",
        "plt.plot(x, norm(x, mean5_mu1, mean5_sigma1)*5.0, c='y', lw=3)\n",
        "plt.plot(x, norm(x, mean5_mu2, mean5_sigma2)*5.0, c='g', lw=3);"
      ]
    },
    {
      "cell_type": "code",
      "execution_count": null,
      "metadata": {
        "id": "Jkrtu7tz7M5V"
      },
      "outputs": [],
      "source": []
    }
  ],
  "metadata": {
    "colab": {
      "provenance": [],
      "toc_visible": true
    },
    "kernelspec": {
      "display_name": "Python 3",
      "name": "python3"
    },
    "language_info": {
      "name": "python"
    }
  },
  "nbformat": 4,
  "nbformat_minor": 0
}
