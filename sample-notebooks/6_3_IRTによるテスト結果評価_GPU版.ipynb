{
  "cells": [
    {
      "cell_type": "markdown",
      "metadata": {
        "id": "Yu9Ls1_cFp6W"
      },
      "source": [
        "## 6.3 IRT(Item Response Theory)によるテスト評価"
      ]
    },
    {
      "cell_type": "code",
      "source": [
        "# ライブラリの更新・追加導入\n",
        "!pip install 'pymc>=5.9' | tail -n 1\n",
        "!pip install numpyro | tail -n 1"
      ],
      "metadata": {
        "id": "JENKXwMODLaz"
      },
      "execution_count": null,
      "outputs": []
    },
    {
      "cell_type": "markdown",
      "metadata": {
        "id": "J_Yr2MoVE83k"
      },
      "source": [
        "<a href=\"https://colab.research.google.com/github/makaishi2/python_bayes_intro/blob/main/notebooks/6_3_IRT%E3%81%AB%E3%82%88%E3%82%8B%E3%83%86%E3%82%B9%E3%83%88%E7%B5%90%E6%9E%9C%E8%A9%95%E4%BE%A1.ipynb\" target=\"_parent\"><img src=\"https://colab.research.google.com/assets/colab-badge.svg\" alt=\"Open In Colab\"/></a>"
      ]
    },
    {
      "cell_type": "markdown",
      "metadata": {
        "id": "Chqf9OtvGcww"
      },
      "source": [
        "参考リンク\n",
        "\n",
        "[試験の数理 その１（問題設定とデータの生成）](https://qiita.com/takuyakubo/items/43d56725952e67032b49)"
      ]
    },
    {
      "cell_type": "markdown",
      "metadata": {
        "id": "qtxF3TvlF1sO"
      },
      "source": [
        "### 共通処理"
      ]
    },
    {
      "cell_type": "code",
      "execution_count": null,
      "metadata": {
        "id": "vRnsw_tzGzik"
      },
      "outputs": [],
      "source": [
        "%matplotlib inline\n",
        "# 日本語化ライブラリ導入\n",
        "!pip install japanize-matplotlib | tail -n 1"
      ]
    },
    {
      "cell_type": "code",
      "execution_count": null,
      "metadata": {
        "id": "sw8a-5aNG6bu"
      },
      "outputs": [],
      "source": [
        "# ライブラリのimport\n",
        "\n",
        "# NumPy用ライブラリ\n",
        "import numpy as np\n",
        "# Matplotlib中のpyplotライブラリのインポート\n",
        "import matplotlib.pyplot as plt\n",
        "# matplotlib日本語化対応ライブラリのインポート\n",
        "import japanize_matplotlib\n",
        "# pandas用ライブラリ\n",
        "import pandas as pd\n",
        "# データフレーム表示用関数\n",
        "from IPython.display import display\n",
        "# seaborn\n",
        "import seaborn as sns\n",
        "# 表示オプション調整\n",
        "# NumPy表示形式の設定\n",
        "np.set_printoptions(precision=3, floatmode='fixed')\n",
        "# グラフのデフォルトフォント指定\n",
        "plt.rcParams[\"font.size\"] = 14\n",
        "# サイズ設定\n",
        "plt.rcParams['figure.figsize'] = (6, 6)\n",
        "# 方眼表示ON\n",
        "plt.rcParams['axes.grid'] = True\n",
        "# データフレームでの表示精度\n",
        "pd.options.display.float_format = '{:.3f}'.format\n",
        "# データフレームですべての項目を表示\n",
        "pd.set_option(\"display.max_columns\",None)"
      ]
    },
    {
      "cell_type": "code",
      "execution_count": null,
      "metadata": {
        "id": "WeIjiEtMG-Wj"
      },
      "outputs": [],
      "source": [
        "import pymc as pm\n",
        "import arviz as az\n",
        "\n",
        "print(f\"Running on PyMC v{pm.__version__}\")\n",
        "print(f\"Running on ArViz v{az.__version__}\")"
      ]
    },
    {
      "cell_type": "markdown",
      "metadata": {
        "id": "A1lJLDK8VFOs"
      },
      "source": [
        "### 6.3.1 IRT(Item Response Theory)とは"
      ]
    },
    {
      "cell_type": "markdown",
      "metadata": {
        "id": "SxKXRQZoO_iW"
      },
      "source": [
        "#### シグモイド関数の定義"
      ]
    },
    {
      "cell_type": "code",
      "execution_count": null,
      "metadata": {
        "id": "F_YSW2FjVL86"
      },
      "outputs": [],
      "source": [
        "def f(x):\n",
        "    return 1/(1 + np.exp(-x))"
      ]
    },
    {
      "cell_type": "markdown",
      "metadata": {
        "id": "l5R1YVAKPHP_"
      },
      "source": [
        "#### 項目特性曲線の描画"
      ]
    },
    {
      "cell_type": "code",
      "execution_count": null,
      "metadata": {
        "id": "MXbnlm-dVMHT"
      },
      "outputs": [],
      "source": [
        "params = [\n",
        "    [1, 0], [2, 0], [1, 2], [2, 2]\n",
        "]\n",
        "\n",
        "x = np.arange(-4, 4.1, 0.1)\n",
        "\n",
        "vals = np.zeros((0, 4))\n",
        "\n",
        "for a,b in params:\n",
        "    y = f(a*(x - b))\n",
        "    y1 = f(a*(1-b))\n",
        "    y2 = f(a*(2-b))\n",
        "    vals = np.vstack([vals, [a,b,y1, y2]])\n",
        "    #print(f'a={a} b={b} f(1)={y1:.02f} f(2)={y2:.02f}')\n",
        "    plt.plot(x, y, label=f'a={a} b={b}')\n",
        "plt.legend()\n",
        "plt.title('いろいろなパターンの項目特性曲線')\n",
        "plt.show()\n",
        "\n",
        "df = pd.DataFrame(vals, columns=['a(識別力)', 'b(困難度)', 'f(1)', 'f(2)'])\n",
        "df.index = ['問題1', '問題2', '問題3', '問題4']\n",
        "display(df)"
      ]
    },
    {
      "cell_type": "markdown",
      "metadata": {
        "id": "5JVqgCQMF54d"
      },
      "source": [
        "### 6.3.2 問題設定"
      ]
    },
    {
      "cell_type": "markdown",
      "metadata": {
        "id": "EwboYaYiHfET"
      },
      "source": [
        "「問題」「受験者」の２軸で正解:1、不正解:0で表現したテスト結果データがある。  \n",
        "このデータを使って、「各問題の困難度」と「各受験者の能力」を同時に推定する。"
      ]
    },
    {
      "cell_type": "markdown",
      "metadata": {
        "id": "khUVSX77F9ka"
      },
      "source": [
        "### 6.3.3 データ読み込み\n",
        "https://qiita.com/takuyakubo/items/43d56725952e67032b49\n",
        "に記載のプログラムを用いて生成したダミーデータを利用"
      ]
    },
    {
      "cell_type": "code",
      "execution_count": null,
      "metadata": {
        "id": "gzdsqnIiGBDU"
      },
      "outputs": [],
      "source": [
        "url = 'https://github.com/makaishi2/samples/raw/main/data/irt-sample.csv'\n",
        "df = pd.read_csv(url, index_col=0)\n",
        "\n",
        "# 結果確認\n",
        "display(df.head())\n",
        "print(df.shape)"
      ]
    },
    {
      "cell_type": "markdown",
      "metadata": {
        "id": "8GCXJAkgGEt9"
      },
      "source": [
        "### 6.3.4 データ加工"
      ]
    },
    {
      "cell_type": "markdown",
      "metadata": {
        "id": "oxXTFVm2OrTC"
      },
      "source": [
        "#### データを縦持ちに変換"
      ]
    },
    {
      "cell_type": "code",
      "execution_count": null,
      "metadata": {
        "id": "97re-EoUJNk-"
      },
      "outputs": [],
      "source": [
        "# melt関数で横持ち形式を縦持ち形式に変換\n",
        "response_df = pd.melt(\n",
        "    df.reset_index(), id_vars='index',\n",
        "    var_name='question', value_name='response')\n",
        "\n",
        "# 列名indexをuserに変換\n",
        "response_df = response_df.rename({'index':'user'}, axis=1)\n",
        "\n",
        "# 要素数の変化を確認\n",
        "print(f'元データ(df): {df.shape}')\n",
        "print(f'変換後データ(response_df): {response_df.shape}\\n')\n",
        "\n",
        "# 結果確認\n",
        "display(response_df.head())"
      ]
    },
    {
      "cell_type": "markdown",
      "metadata": {
        "id": "yVUf8qT2Oxbe"
      },
      "source": [
        "#### カテゴリデータの数値化"
      ]
    },
    {
      "cell_type": "code",
      "execution_count": null,
      "metadata": {
        "id": "zvvwGIoMJNzy"
      },
      "outputs": [],
      "source": [
        "# user_idx: response_dfのuser列を数値化した結果\n",
        "# users: user_idxのインデックス値と元の文字列の対応\n",
        "user_idx, users = pd.factorize(response_df['user'])\n",
        "\n",
        "# question_idx: response_dfのquestion列を数値化した結果\n",
        "# questions: question_idxのインデックス値と元の文字列の対応\n",
        "question_idx, questions = pd.factorize(response_df['question'])\n",
        "\n",
        "# response: 一次元化された観測値の配列\n",
        "response = response_df['response'].values\n",
        "\n",
        "# 結果確認\n",
        "print('--- USER ---')\n",
        "print(user_idx, len(user_idx))\n",
        "print(users)\n",
        "print('\\n--- QUESTION ---')\n",
        "print(question_idx, len(question_idx))\n",
        "print(questions)\n",
        "print('\\n--- RESPONSE ---')\n",
        "print(response, len(response))"
      ]
    },
    {
      "cell_type": "markdown",
      "metadata": {
        "id": "PsNWISRkGLAC"
      },
      "source": [
        "### 6.3.5 確率モデル定義"
      ]
    },
    {
      "cell_type": "code",
      "execution_count": null,
      "metadata": {
        "id": "A4pVy7WcGPva"
      },
      "outputs": [],
      "source": [
        "# 配列の項目定義(ユーザー軸と問題軸の2軸)\n",
        "coords = {'user': users, 'question': questions}\n",
        "\n",
        "# 確率モデルインスタンスの定義\n",
        "model1 = pm.Model(coords=coords)\n",
        "\n",
        "with model1:\n",
        "    # 観測値の配列(1:正答　0:誤答)\n",
        "    response_data = pm.ConstantData('response_data', response)\n",
        "\n",
        "    # 能力値（受験者ごと）\n",
        "    theta = pm.Normal('theta', mu=0.0, sigma=1.0, dims='user')\n",
        "\n",
        "    # 識別力（設問ごと）\n",
        "    a = pm.HalfNormal('a', sigma=1.0, dims='question')\n",
        "    # 困難度（設問ごと）\n",
        "    b = pm.Normal('b', mu=0.0, sigma=1.0, dims='question')\n",
        "\n",
        "    # logit_pの計算 (2パラメータ・ロジスティックモデル（2PLM）)\n",
        "    logit_p = pm.Deterministic(\n",
        "        'logit_p', a[question_idx] * (theta[user_idx] - b[question_idx]))\n",
        "\n",
        "    # ベルヌーイ分布の定義(1:正答　0:誤答)\n",
        "    obs = pm.Bernoulli('obs', logit_p=logit_p, observed=response_data)\n",
        "\n",
        "g = pm.model_to_graphviz(model1)\n",
        "display(g)"
      ]
    },
    {
      "cell_type": "markdown",
      "metadata": {
        "id": "vHriIEBTGQcN"
      },
      "source": [
        "### 6.3.6 サンプリングと結果分析\n",
        "次のセルを実行するには相当の時間(15分程度)がかかるので注意して下さい。"
      ]
    },
    {
      "cell_type": "markdown",
      "metadata": {
        "id": "i2iS-zwDM_Ty"
      },
      "source": [
        "#### サンプリング\n",
        "``%%time``は時間を計測するためのマジックコマンド"
      ]
    },
    {
      "cell_type": "code",
      "execution_count": null,
      "metadata": {
        "id": "T81KuyNZlTpw"
      },
      "outputs": [],
      "source": [
        "%%time\n",
        "\n",
        "with model1:\n",
        "#    idata1 = pm.sample(random_seed=42)\n",
        "# サンプリング関数呼び出し時のパラメータ追加\n",
        "    idata1 = pm.sample(random_seed=42, nuts_sampler=\"numpyro\")"
      ]
    },
    {
      "cell_type": "markdown",
      "metadata": {
        "id": "o5CM8NKjNGhN"
      },
      "source": [
        "#### plot_trace関数で推論結果の確認(問題別)"
      ]
    },
    {
      "cell_type": "code",
      "execution_count": null,
      "metadata": {
        "id": "8Yw7Kq-vGUC-"
      },
      "outputs": [],
      "source": [
        "coords_q = {'question': ['Q001', 'Q002', 'Q003']}\n",
        "az.plot_trace(\n",
        "    idata1, var_names=['a', 'b'], coords=coords_q, compact=False)\n",
        "plt.tight_layout();"
      ]
    },
    {
      "cell_type": "markdown",
      "metadata": {
        "id": "_Uk_B8v9RAbM"
      },
      "source": [
        "#### plot_trace関数で推論結果の確認(受験者別)"
      ]
    },
    {
      "cell_type": "code",
      "execution_count": null,
      "metadata": {
        "id": "QF_BOQ49VlOY"
      },
      "outputs": [],
      "source": [
        "coords_u = {'user': ['USER0001', 'USER0002', 'USER0003']}\n",
        "az.plot_trace(\n",
        "    idata1, var_names=['theta'], coords=coords_u, compact=False)\n",
        "plt.tight_layout();"
      ]
    },
    {
      "cell_type": "markdown",
      "metadata": {
        "id": "U_VxuY2evOWS"
      },
      "source": [
        "### 6.3.7  詳細分析"
      ]
    },
    {
      "cell_type": "markdown",
      "metadata": {
        "id": "dkdf-ZGZNS9l"
      },
      "source": [
        "#### サンプリング結果の統計分析(問題別)"
      ]
    },
    {
      "cell_type": "code",
      "execution_count": null,
      "metadata": {
        "id": "1VP0p2hfECSU"
      },
      "outputs": [],
      "source": [
        "summary_a1 = az.summary(idata1, var_names=['a'])\n",
        "summary_b1 = az.summary(idata1, var_names=['b'])\n",
        "display(summary_a1.head())\n",
        "display(summary_b1.head())"
      ]
    },
    {
      "cell_type": "markdown",
      "metadata": {
        "id": "aBRu8gsTNh0W"
      },
      "source": [
        "#### サンプリング結果の統計分析(受験者別)\n",
        "処理にやや時間がかかります。"
      ]
    },
    {
      "cell_type": "code",
      "execution_count": null,
      "metadata": {
        "id": "i6MEEFQhNoz1"
      },
      "outputs": [],
      "source": [
        "summary_theta1 = az.summary(idata1, var_names=['theta'])\n",
        "display(summary_theta1.head())"
      ]
    },
    {
      "cell_type": "markdown",
      "metadata": {
        "id": "KRFGrNuvQlTp"
      },
      "source": [
        "### 6.3.8 偏差値と能力値の関係"
      ]
    },
    {
      "cell_type": "markdown",
      "metadata": {
        "id": "NML7MZNuON2a"
      },
      "source": [
        "#### 偏差値と能力値の算出"
      ]
    },
    {
      "cell_type": "code",
      "execution_count": null,
      "metadata": {
        "id": "fRmByTNTwlo0"
      },
      "outputs": [],
      "source": [
        "# 受験者ごとの正答率*100を計算し「素点」とする\n",
        "df_sum1 = pd.DataFrame((df.mean(axis=1)*100), columns=['素点'])\n",
        "\n",
        "# 素点を別変数にコピー\n",
        "X = df_sum1.copy()\n",
        "\n",
        "# 素点を偏差値のスケールに補正\n",
        "X_mean, X_std = X.mean(), X.std()\n",
        "X = (X-X_mean)/X_std * 10 + 50\n",
        "df_sum1['偏差値'] = X\n",
        "\n",
        "# 受験者ごとの能力値の平均を抽出\n",
        "x1 = summary_theta1['mean']\n",
        "\n",
        "# 能力値を偏差値と同じスケールに補正\n",
        "x1_mean, x1_std = x1.mean(), x1.std()\n",
        "x1 = (x1-x1_mean)/x1_std * 10 + 50\n",
        "df_sum1['能力値'] = x1.values\n",
        "\n",
        "# 結果の確認\n",
        "display(df_sum1.head(10))"
      ]
    },
    {
      "cell_type": "markdown",
      "metadata": {
        "id": "GbycouuVOY4Y"
      },
      "source": [
        "#### 偏差値との能力値の関係可視化"
      ]
    },
    {
      "cell_type": "code",
      "execution_count": null,
      "metadata": {
        "id": "nQry3Tyl1DTo"
      },
      "outputs": [],
      "source": [
        "plt.scatter(df_sum1['偏差値'], df_sum1['能力値'], s=3)\n",
        "plt.title('偏差値と能力値の関係')\n",
        "plt.xlabel('偏差値')\n",
        "plt.ylabel('能力値');"
      ]
    },
    {
      "cell_type": "markdown",
      "metadata": {
        "id": "nSgZG53dwxbI"
      },
      "source": [
        "### 6.3.9 同じ偏差値の受験者間の能力値の違い分析"
      ]
    },
    {
      "cell_type": "markdown",
      "metadata": {
        "id": "bmJ4OOzNgMUM"
      },
      "source": [
        "#### 同じ素点(偏差値)で能力値の高い受験者と低い受験者を抽出"
      ]
    },
    {
      "cell_type": "code",
      "execution_count": null,
      "metadata": {
        "id": "TFw34UaCYb4X"
      },
      "outputs": [],
      "source": [
        "# 1. 素点62点(偏差値51.69)の受験者を抽出\n",
        "df_62_1 = df_sum1.query('素点==62')\n",
        "print(f'素点62点の受験者数: {len(df_62_1)}\\n')\n",
        "\n",
        "# 2. 一番能力値の低い受験者を抽出\n",
        "argmin1 = df_62_1['能力値'].values.argmin()\n",
        "print('素点62点で一番能力値の低い受験者\\n', df_62_1.iloc[argmin1], '\\n')\n",
        "\n",
        "# 3. 一番能力値の高い受験者を抽出\n",
        "argmax1 = df_62_1['能力値'].values.argmax()\n",
        "print('素点62点で一番能力値の高い受験者\\n', df_62_1.iloc[argmax1])"
      ]
    },
    {
      "cell_type": "markdown",
      "metadata": {
        "id": "0RQ-bZTxj17Y"
      },
      "source": [
        "#### 二人の受験者が正解した問題の平均困難度を計算"
      ]
    },
    {
      "cell_type": "code",
      "execution_count": null,
      "metadata": {
        "id": "Dpi3nuUhtRTT"
      },
      "outputs": [],
      "source": [
        "# 二人の受験者の問題ごとの正答を抽出\n",
        "w1 = df.loc[['USER0463','USER0064']]\n",
        "display(w1)\n",
        "w2 = w1.sum(axis=1)\n",
        "print(f'w1のshape: {w1.shape}\\n正解数:\\n{w2}\\n')\n",
        "\n",
        "# 問題別の平均困難度\n",
        "b_mean1 = az.summary(\n",
        "    idata1, var_names=['b'])['mean'].values.reshape(1,-1)\n",
        "print(b_mean1)\n",
        "print(f'b_meanのshape: {b_mean1.shape}\\n')\n",
        "\n",
        "# 二人の受験者が解いた問題の平均困難度\n",
        "w3 = (w1 * b_mean1).sum(axis=1)/w2.iloc[0]\n",
        "print(w3)"
      ]
    },
    {
      "cell_type": "markdown",
      "metadata": {
        "id": "zsbHAKkvhePD"
      },
      "source": [
        "#### 二人の受験者のサンプル値ごとの能力値の分布"
      ]
    },
    {
      "cell_type": "code",
      "execution_count": null,
      "metadata": {
        "id": "nQrrC3XtpXvI"
      },
      "outputs": [],
      "source": [
        "# USER0463とUSER0064の能力値のサンプルデータを抽出\n",
        "w1 = idata1['posterior'].data_vars[\n",
        "    'theta'].loc[:,:,['USER0463','USER0064']].values\n",
        "\n",
        "# 軸の順番を入れ替え後、受験者を第一要素とする行列に変換\n",
        "w2 = w1.transpose().reshape(2, -1)\n",
        "\n",
        "# 能力値のスケール変更\n",
        "w3 = (w2 - x1_mean)/x1_std * 10 + 50\n",
        "\n",
        "# 受験者を列名とするデータフレームに変換\n",
        "df_w3 = pd.DataFrame(w3.T, columns=['USER0463', 'USER0064'])\n",
        "\n",
        "# Seabornのboxplot関数で可視化\n",
        "sns.boxplot(df_w3)\n",
        "plt.title('サンプル値ごとの能力値の分布');"
      ]
    },
    {
      "cell_type": "markdown",
      "metadata": {
        "id": "Oh1-DNUfD66H"
      },
      "source": [
        "### コラム　変分推論法の利用\n",
        "参考リンク https://www.pymc.io/projects/examples/en/latest/variational_inference/variational_api_quickstart.html"
      ]
    },
    {
      "cell_type": "markdown",
      "metadata": {
        "id": "-ldZaoOXhOL5"
      },
      "source": [
        "#### 確率モデル定義"
      ]
    },
    {
      "cell_type": "code",
      "execution_count": null,
      "metadata": {
        "id": "5r2WtQH1EAHJ"
      },
      "outputs": [],
      "source": [
        "# 配列の項目定義(ユーザー軸と問題軸の２軸)\n",
        "coords = {'user': users, 'question': questions}\n",
        "\n",
        "# 確率モデルインスタンスの定義\n",
        "model2 = pm.Model(coords=coords)\n",
        "\n",
        "with model2:\n",
        "    # 観測値の配列(1:正答　0:誤答)\n",
        "    response_data = pm.ConstantData('response_data', response)\n",
        "\n",
        "    # 能力値（受験者ごと）\n",
        "    theta = pm.Normal('theta', mu=0.0, sigma=1.0, dims='user')\n",
        "\n",
        "    # 識別力（設問ごと）\n",
        "    a = pm.HalfNormal('a', sigma=1.0, dims='question')\n",
        "    # 困難度（設問ごと）\n",
        "    b = pm.Normal('b', mu=0.0, sigma=1.0, dims='question')\n",
        "\n",
        "    # logit_pの計算 (2パラメータ・ロジスティックモデル（2PLM）)\n",
        "    logit_p = pm.Deterministic(\n",
        "        'logit_p', a[question_idx] * (theta[user_idx] - b[question_idx]))\n",
        "\n",
        "    # ベルヌーイ分布の定義(1:正答　0:誤答)\n",
        "    obs = pm.Bernoulli('obs', logit_p=logit_p, observed=response_data)"
      ]
    },
    {
      "cell_type": "markdown",
      "metadata": {
        "id": "SLdDAaZmU_Om"
      },
      "source": [
        "#### 変分推論法のfit関数呼び出し"
      ]
    },
    {
      "cell_type": "code",
      "execution_count": null,
      "metadata": {
        "id": "INJDYgntUnNG"
      },
      "outputs": [],
      "source": [
        "%%time\n",
        "\n",
        "with model2:\n",
        "    mean_field = pm.fit(method=pm.ADVI(), n=20000,\n",
        "        obj_optimizer=pm.adam())"
      ]
    },
    {
      "cell_type": "markdown",
      "metadata": {
        "id": "pw_OrKuxht_C"
      },
      "source": [
        "#### 変分推論法の収束確認"
      ]
    },
    {
      "cell_type": "code",
      "execution_count": null,
      "metadata": {
        "id": "Ikp7VzJIywsD"
      },
      "outputs": [],
      "source": [
        "plt.plot(mean_field.hist);"
      ]
    },
    {
      "cell_type": "markdown",
      "metadata": {
        "id": "49vsuQywVQnT"
      },
      "source": [
        "#### 変分推論法のサンプリング"
      ]
    },
    {
      "cell_type": "code",
      "execution_count": null,
      "metadata": {
        "id": "ShdIOsdAVWZJ"
      },
      "outputs": [],
      "source": [
        "%%time\n",
        "\n",
        "idata2 = mean_field.sample(2000)"
      ]
    },
    {
      "cell_type": "markdown",
      "metadata": {
        "id": "gt6agTWYh8KH"
      },
      "source": [
        "#### 偏差値と能力値の算出"
      ]
    },
    {
      "cell_type": "code",
      "execution_count": null,
      "metadata": {
        "id": "7I75MN1yWomZ"
      },
      "outputs": [],
      "source": [
        "summary_theta2 = az.summary(idata2, var_names=['theta'])\n",
        "\n",
        "# 本編の実習で作った変数df_sumをコピーする\n",
        "df_sum2 = df_sum1.copy()\n",
        "\n",
        "# 受験者ごとの能力値の平均を抽出\n",
        "x2 = summary_theta2['mean'].values\n",
        "\n",
        "# 能力値を偏差値と同じスケールに補正\n",
        "x2_mean, x2_std = x2.mean(), x2.std()\n",
        "x2 = (x2-x2_mean)/x2_std * 10 + 50\n",
        "df_sum2['能力値2'] = x2\n",
        "\n",
        "# 結果の確認\n",
        "display(df_sum2.head(10))"
      ]
    },
    {
      "cell_type": "markdown",
      "metadata": {
        "id": "6FQ3o9NeTywn"
      },
      "source": [
        "#### 二人の受験者のサンプル値ごとの能力値の分布"
      ]
    },
    {
      "cell_type": "code",
      "execution_count": null,
      "metadata": {
        "id": "Hldqw7mZJQil"
      },
      "outputs": [],
      "source": [
        "# USER0463とUSER0064の能力値のサンプルデータを抽出\n",
        "w1 = idata2['posterior'].data_vars[\n",
        "    'theta'].loc[:,:,['USER0463','USER0064']].values\n",
        "\n",
        "# 軸の順番を入れ替え後、受験者を第一要素とする行列に変換\n",
        "w2 = w1.transpose().reshape(2, -1)\n",
        "\n",
        "# 能力値のスケール変更\n",
        "w3 = (w2 - x2_mean)/x2_std * 10 + 50\n",
        "\n",
        "# 受験者を列名とするデータフレームに変換\n",
        "df_w3 = pd.DataFrame(w3.T, columns=['USER0463', 'USER0064'])\n",
        "\n",
        "# Seabornのboxplot関数で可視化\n",
        "sns.boxplot(df_w3)\n",
        "plt.title('サンプル値ごとの能力値の分布');"
      ]
    },
    {
      "cell_type": "markdown",
      "metadata": {
        "id": "NB1Os79ja0JD"
      },
      "source": [
        "#### バージョンの確認"
      ]
    },
    {
      "cell_type": "code",
      "execution_count": null,
      "metadata": {
        "id": "-yygDZWejbVn"
      },
      "outputs": [],
      "source": [
        "!pip install watermark | tail -n 1\n",
        "%load_ext watermark\n",
        "%watermark --iversions"
      ]
    },
    {
      "cell_type": "code",
      "execution_count": null,
      "metadata": {
        "id": "aTTMqZMfhkLF"
      },
      "outputs": [],
      "source": []
    }
  ],
  "metadata": {
    "colab": {
      "provenance": [],
      "toc_visible": true,
      "gpuType": "T4"
    },
    "kernelspec": {
      "display_name": "Python 3",
      "name": "python3"
    },
    "language_info": {
      "name": "python"
    },
    "accelerator": "GPU"
  },
  "nbformat": 4,
  "nbformat_minor": 0
}